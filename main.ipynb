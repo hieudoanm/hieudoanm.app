{
 "cells": [
  {
   "attachments": {},
   "cell_type": "markdown",
   "metadata": {},
   "source": [
    "# README"
   ]
  },
  {
   "cell_type": "code",
   "execution_count": 1,
   "metadata": {},
   "outputs": [],
   "source": [
    "from dotenv import load_dotenv\n",
    "import os\n",
    "import requests\n",
    "from tqdm.notebook import tqdm as tqdm_notebook"
   ]
  },
  {
   "cell_type": "code",
   "execution_count": 2,
   "metadata": {},
   "outputs": [],
   "source": [
    "load_dotenv()\n",
    "\n",
    "BASE_URL = \"https://api.github.com\"\n",
    "\n",
    "GITHUB_API_KEY = os.getenv(\"GITHUB_API_KEY\")\n",
    "headers = {\n",
    "    \"Authorization\": f\"Bearer {GITHUB_API_KEY}\",\n",
    "    \"Accept\": \"application/vnd.github+json\"\n",
    "}"
   ]
  },
  {
   "cell_type": "code",
   "execution_count": 3,
   "metadata": {},
   "outputs": [
    {
     "data": {
      "application/vnd.jupyter.widget-view+json": {
       "model_id": "c84d261f77be497d979b4d46f0a920b2",
       "version_major": 2,
       "version_minor": 0
      },
      "text/plain": [
       "0it [00:00, ?it/s]"
      ]
     },
     "metadata": {},
     "output_type": "display_data"
    }
   ],
   "source": [
    "repos_url = f\"{BASE_URL}/users/hieudoanm/repos\"\n",
    "\n",
    "languages = {}\n",
    "projects = []\n",
    "total = 0\n",
    "\n",
    "response = requests.get(repos_url, timeout=10, headers=headers)\n",
    "if response.status_code == 200:\n",
    "    repositories = response.json()\n",
    "    for index, repo in tqdm_notebook(enumerate(repositories)):\n",
    "        name = repo.get(\"name\", \"\")\n",
    "        full_name = repo.get(\"full_name\", \"\")\n",
    "        html_url = repo.get(\"html_url\", \"\")\n",
    "        languages_url = repo.get(\"languages_url\", \"\")\n",
    "        project = str(index + 1) + \". [\" + name + \"](\" + html_url + \")\"\n",
    "        projects.append(project)\n",
    "        languages_url = f\"{BASE_URL}/repos/\" + full_name + \"/languages\"\n",
    "        languages_response = requests.get(languages_url, timeout=10, headers=headers)\n",
    "        if languages_response.status_code == 200:\n",
    "            languages_in_repository = languages_response.json()\n",
    "            language_keys = list(languages_in_repository.keys())\n",
    "            for language_key in language_keys:\n",
    "                percentage = languages_in_repository[language_key]\n",
    "                if language_key not in languages:\n",
    "                    languages[language_key] = percentage\n",
    "                else:\n",
    "                    languages[language_key] += percentage\n",
    "                total += int(languages_in_repository[language_key])\n",
    "\n",
    "languages_percentage = []\n",
    "for key, value in languages.items():\n",
    "    languages_percentage.append({\n",
    "        \"language\": key,\n",
    "        \"percentage\": value / total * 100,\n",
    "    })\n",
    "languages_percentage = list(filter(lambda item: item.get(\"percentage\") >= 1,sorted(\n",
    "    languages_percentage, key=lambda d: d.get(\"percentage\"))))\n",
    "languages_percentage.reverse()\n",
    "\n",
    "base_readme = open(\"./README.base.md\", \"r\", encoding=\"utf-8\")\n",
    "base_content = base_readme.read()\n",
    "\n",
    "projects_content = \"\\n\".join(projects)\n",
    "languages_content = \"\\n\".join(\n",
    "    map(lambda language_percentage: \"- \" +\n",
    "        \"`\" + language_percentage[\"language\"] + \"` - \" +\n",
    "        str(round(language_percentage[\"percentage\"], 2)) + \"%\",\n",
    "        languages_percentage)\n",
    ")\n",
    "content = base_content.replace(\"[PROJECTS_PLACEHOLDER]\", projects_content).replace(\n",
    "    \"[LANGUAGES_PLACEHOLDER]\", languages_content)\n",
    "\n",
    "readme = open(\"./README.md\", \"w\", encoding='utf-8')\n",
    "readme.write(content)\n",
    "readme.close()"
   ]
  }
 ],
 "metadata": {
  "kernelspec": {
   "display_name": "Python 3",
   "language": "python",
   "name": "python3"
  },
  "language_info": {
   "codemirror_mode": {
    "name": "ipython",
    "version": 3
   },
   "file_extension": ".py",
   "mimetype": "text/x-python",
   "name": "python",
   "nbconvert_exporter": "python",
   "pygments_lexer": "ipython3",
   "version": "3.9.6"
  },
  "orig_nbformat": 4
 },
 "nbformat": 4,
 "nbformat_minor": 2
}
