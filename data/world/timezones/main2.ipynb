{
 "cells": [
  {
   "attachments": {},
   "cell_type": "markdown",
   "metadata": {},
   "source": [
    "# Timezones"
   ]
  },
  {
   "cell_type": "code",
   "execution_count": 1,
   "metadata": {},
   "outputs": [],
   "source": [
    "import pandas\n",
    "import requests\n",
    "from tqdm.notebook import tqdm as tdqm_notebook"
   ]
  },
  {
   "cell_type": "code",
   "execution_count": 2,
   "metadata": {},
   "outputs": [
    {
     "data": {
      "application/vnd.jupyter.widget-view+json": {
       "model_id": "7c8d4819ea504a418b8ffa90781e9736",
       "version_major": 2,
       "version_minor": 0
      },
      "text/plain": [
       "  0%|          | 0/350 [00:00<?, ?it/s]"
      ]
     },
     "metadata": {},
     "output_type": "display_data"
    }
   ],
   "source": [
    "time_zones_response = requests.get(\"https://worldtimeapi.org/api/timezone\")\n",
    "time_zones = time_zones_response.json()\n",
    "\n",
    "all_time_zones = []\n",
    "\n",
    "for time_zone in tdqm_notebook(time_zones):\n",
    "    url = \"http://worldtimeapi.org/api/timezone/\" + time_zone\n",
    "    try:\n",
    "        time_zone_response = requests.get(url)\n",
    "        time_zone_json = time_zone_response.json()\n",
    "        all_time_zones.append(time_zone_json)\n",
    "    except: # pylint: disable=bare-except\n",
    "        print(time_zone, \"Error\")\n",
    "\n",
    "time_zones_data_frame = pandas.DataFrame(all_time_zones)\n",
    "sorted_time_zones_data_frame = time_zones_data_frame.sort_values(by=\"timezone\")\n",
    "sorted_time_zones_data_frame.to_csv(\"./timezones.csv\", index=False, header=True)"
   ]
  }
 ],
 "metadata": {
  "kernelspec": {
   "display_name": "Python 3",
   "language": "python",
   "name": "python3"
  },
  "language_info": {
   "codemirror_mode": {
    "name": "ipython",
    "version": 3
   },
   "file_extension": ".py",
   "mimetype": "text/x-python",
   "name": "python",
   "nbconvert_exporter": "python",
   "pygments_lexer": "ipython3",
   "version": "3.9.6"
  },
  "orig_nbformat": 4
 },
 "nbformat": 4,
 "nbformat_minor": 2
}
