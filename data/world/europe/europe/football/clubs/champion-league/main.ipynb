{
 "cells": [
  {
   "attachments": {},
   "cell_type": "markdown",
   "metadata": {},
   "source": [
    "# Champion League"
   ]
  },
  {
   "cell_type": "code",
   "execution_count": 21,
   "metadata": {},
   "outputs": [],
   "source": [
    "import pandas"
   ]
  },
  {
   "cell_type": "code",
   "execution_count": 22,
   "metadata": {},
   "outputs": [],
   "source": [
    "finals_data_frame = pandas.read_csv(\"./finals.csv\", index_col=0)"
   ]
  },
  {
   "attachments": {},
   "cell_type": "markdown",
   "metadata": {},
   "source": [
    "## All Time Winner by Clubs"
   ]
  },
  {
   "cell_type": "code",
   "execution_count": 23,
   "metadata": {},
   "outputs": [
    {
     "data": {
      "text/plain": [
       "Real Madrid          14\n",
       "Milan                 7\n",
       "Bayern Munich         6\n",
       "Liverpool             6\n",
       "Barcelona             5\n",
       "Ajax                  4\n",
       "Inter Milan           3\n",
       "Manchester United     3\n",
       "Benfica               2\n",
       "Porto                 2\n",
       "Juventus              2\n",
       "Chelsea               2\n",
       "Nottingham Forest     2\n",
       "Hamburger SV          1\n",
       "Steaua București      1\n",
       "Feyenoord             1\n",
       "PSV Eindhoven         1\n",
       "Red Star Belgrade     1\n",
       "Celtic                1\n",
       "Marseille             1\n",
       "Borussia Dortmund     1\n",
       "Aston Villa           1\n",
       "Name: champion_club, dtype: int64"
      ]
     },
     "execution_count": 23,
     "metadata": {},
     "output_type": "execute_result"
    }
   ],
   "source": [
    "finals_data_frame[\"champion_club\"].value_counts()"
   ]
  },
  {
   "attachments": {},
   "cell_type": "markdown",
   "metadata": {},
   "source": [
    "## All Time Winners by Countries"
   ]
  },
  {
   "cell_type": "code",
   "execution_count": 24,
   "metadata": {},
   "outputs": [
    {
     "data": {
      "text/plain": [
       "Spain          19\n",
       "England        14\n",
       "Italy          12\n",
       "Germany         8\n",
       "Netherlands     6\n",
       "Portugal        4\n",
       "SCO             1\n",
       "Romania         1\n",
       "Yugoslavia      1\n",
       "France          1\n",
       "Name: champion_country, dtype: int64"
      ]
     },
     "execution_count": 24,
     "metadata": {},
     "output_type": "execute_result"
    }
   ],
   "source": [
    "finals_data_frame[\"champion_country\"].value_counts()"
   ]
  },
  {
   "attachments": {},
   "cell_type": "markdown",
   "metadata": {},
   "source": [
    "## All Time Runner Up by Clubs"
   ]
  },
  {
   "cell_type": "code",
   "execution_count": 25,
   "metadata": {},
   "outputs": [
    {
     "data": {
      "text/plain": [
       "Juventus                    7\n",
       "Bayern Munich               5\n",
       "Benfica                     5\n",
       "Liverpool                   4\n",
       "Milan                       4\n",
       "Barcelona                   3\n",
       "Real Madrid                 3\n",
       "Atlético Madrid             3\n",
       "Valencia                    2\n",
       "Reims                       2\n",
       "Ajax                        2\n",
       "Inter Milan                 2\n",
       "Manchester United           2\n",
       "Borussia Dortmund           1\n",
       "Steaua București            1\n",
       "Chelsea                     1\n",
       "Arsenal                     1\n",
       "Monaco                      1\n",
       "Bayer Leverkusen            1\n",
       "Tottenham Hotspur           1\n",
       "Sampdoria                   1\n",
       "Paris Saint-Germain         1\n",
       "Marseille                   1\n",
       "Malmö FF                    1\n",
       "Roma                        1\n",
       "Hamburger SV                1\n",
       "Fiorentina                  1\n",
       "Club Brugge                 1\n",
       "Borussia Mönchengladbach    1\n",
       "Saint-Étienne               1\n",
       "Leeds United                1\n",
       "Panathinaikos               1\n",
       "Celtic                      1\n",
       "Partizan                    1\n",
       "Eintracht Frankfurt         1\n",
       "Manchester City             1\n",
       "Name: runner_up_club, dtype: int64"
      ]
     },
     "execution_count": 25,
     "metadata": {},
     "output_type": "execute_result"
    }
   ],
   "source": [
    "finals_data_frame[\"runner_up_club\"].value_counts()"
   ]
  },
  {
   "attachments": {},
   "cell_type": "markdown",
   "metadata": {},
   "source": [
    "## All Time Runner Up by Countries"
   ]
  },
  {
   "cell_type": "code",
   "execution_count": 26,
   "metadata": {},
   "outputs": [
    {
     "data": {
      "text/plain": [
       "Italy          16\n",
       "Spain          11\n",
       "England        11\n",
       "Germany        10\n",
       "France          6\n",
       "Portugal        5\n",
       "Netherlands     2\n",
       "Yugoslavia      1\n",
       "SCO             1\n",
       "GRE             1\n",
       "BEL             1\n",
       "SWE             1\n",
       "Romania         1\n",
       "Name: runner_up_country, dtype: int64"
      ]
     },
     "execution_count": 26,
     "metadata": {},
     "output_type": "execute_result"
    }
   ],
   "source": [
    "finals_data_frame[\"runner_up_country\"].value_counts()"
   ]
  }
 ],
 "metadata": {
  "kernelspec": {
   "display_name": "Python 3",
   "language": "python",
   "name": "python3"
  },
  "language_info": {
   "codemirror_mode": {
    "name": "ipython",
    "version": 3
   },
   "file_extension": ".py",
   "mimetype": "text/x-python",
   "name": "python",
   "nbconvert_exporter": "python",
   "pygments_lexer": "ipython3",
   "version": "3.9.6"
  },
  "orig_nbformat": 4
 },
 "nbformat": 4,
 "nbformat_minor": 2
}
