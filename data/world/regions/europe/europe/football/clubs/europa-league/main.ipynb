{
 "cells": [
  {
   "attachments": {},
   "cell_type": "markdown",
   "metadata": {},
   "source": [
    "# Europe League"
   ]
  },
  {
   "cell_type": "code",
   "execution_count": 1,
   "metadata": {},
   "outputs": [],
   "source": [
    "import pandas"
   ]
  },
  {
   "cell_type": "code",
   "execution_count": 2,
   "metadata": {},
   "outputs": [],
   "source": [
    "finals_data_frame = pandas.read_csv(\"./finals.csv\", index_col=0)"
   ]
  },
  {
   "attachments": {},
   "cell_type": "markdown",
   "metadata": {},
   "source": [
    "## All Time Winner by Clubs"
   ]
  },
  {
   "cell_type": "code",
   "execution_count": 3,
   "metadata": {},
   "outputs": [
    {
     "data": {
      "text/plain": [
       "Sevilla                   6\n",
       "Atlético Madrid           3\n",
       "Porto                     2\n",
       "Chelsea                   2\n",
       "Inter Milan               1\n",
       "Parma                     1\n",
       "Galatasaray               1\n",
       "Liverpool                 1\n",
       "Feyenoord                 1\n",
       "Valencia                  1\n",
       "CSKA Moscow               1\n",
       "Zenit Saint Petersburg    1\n",
       "Shakhtar Donetsk          1\n",
       "Manchester United         1\n",
       "Villarreal                1\n",
       "Eintracht Frankfurt       1\n",
       "Name: champion_club, dtype: int64"
      ]
     },
     "execution_count": 3,
     "metadata": {},
     "output_type": "execute_result"
    }
   ],
   "source": [
    "finals_data_frame[\"champion_club\"].value_counts()"
   ]
  },
  {
   "attachments": {},
   "cell_type": "markdown",
   "metadata": {},
   "source": [
    "## All Time Winners by Countries"
   ]
  },
  {
   "cell_type": "code",
   "execution_count": 4,
   "metadata": {},
   "outputs": [
    {
     "data": {
      "text/plain": [
       "Spain          11\n",
       "England         4\n",
       "Italy           2\n",
       "Portugal        2\n",
       "Russia          2\n",
       "Turkey          1\n",
       "Netherlands     1\n",
       "Ukraine         1\n",
       "Germany         1\n",
       "Name: champion_country, dtype: int64"
      ]
     },
     "execution_count": 4,
     "metadata": {},
     "output_type": "execute_result"
    }
   ],
   "source": [
    "finals_data_frame[\"champion_country\"].value_counts()"
   ]
  },
  {
   "attachments": {},
   "cell_type": "markdown",
   "metadata": {},
   "source": [
    "## All Time Runner Up by Clubs"
   ]
  },
  {
   "cell_type": "code",
   "execution_count": 5,
   "metadata": {},
   "outputs": [
    {
     "data": {
      "text/plain": [
       "Marseille                3\n",
       "Arsenal                  2\n",
       "Benfica                  2\n",
       "Rangers                  2\n",
       "Lazio                    1\n",
       "Braga                    1\n",
       "Inter Milan              1\n",
       "Ajax                     1\n",
       "Liverpool                1\n",
       "Dnipro Dnipropetrovsk    1\n",
       "Athletic Bilbao          1\n",
       "Werder Bremen            1\n",
       "Fulham                   1\n",
       "Espanyol                 1\n",
       "Middlesbrough            1\n",
       "Sporting CP              1\n",
       "Celtic                   1\n",
       "Borussia Dortmund        1\n",
       "Deportivo Alavés         1\n",
       "Manchester United        1\n",
       "Name: runner_up_club, dtype: int64"
      ]
     },
     "execution_count": 5,
     "metadata": {},
     "output_type": "execute_result"
    }
   ],
   "source": [
    "finals_data_frame[\"runner_up_club\"].value_counts()"
   ]
  },
  {
   "attachments": {},
   "cell_type": "markdown",
   "metadata": {},
   "source": [
    "## All Time Runner Up by Countries"
   ]
  },
  {
   "cell_type": "code",
   "execution_count": 6,
   "metadata": {},
   "outputs": [
    {
     "data": {
      "text/plain": [
       "England        6\n",
       "Portugal       4\n",
       "France         3\n",
       "Spain          3\n",
       "Scotland       3\n",
       "Italy          2\n",
       "Germany        2\n",
       "Ukraine        1\n",
       "Netherlands    1\n",
       "Name: runner_up_country, dtype: int64"
      ]
     },
     "execution_count": 6,
     "metadata": {},
     "output_type": "execute_result"
    }
   ],
   "source": [
    "finals_data_frame[\"runner_up_country\"].value_counts()"
   ]
  },
  {
   "attachments": {},
   "cell_type": "markdown",
   "metadata": {},
   "source": [
    "## Champion and Runner Up From"
   ]
  },
  {
   "cell_type": "code",
   "execution_count": 7,
   "metadata": {},
   "outputs": [
    {
     "data": {
      "text/plain": [
       "EPL    17\n",
       "UCL     8\n",
       "Name: champion_from, dtype: int64"
      ]
     },
     "execution_count": 7,
     "metadata": {},
     "output_type": "execute_result"
    }
   ],
   "source": [
    "finals_data_frame[\"champion_from\"].value_counts()"
   ]
  },
  {
   "cell_type": "code",
   "execution_count": 8,
   "metadata": {},
   "outputs": [
    {
     "data": {
      "text/plain": [
       "UCL    13\n",
       "EPL    12\n",
       "Name: runner_up_from, dtype: int64"
      ]
     },
     "execution_count": 8,
     "metadata": {},
     "output_type": "execute_result"
    }
   ],
   "source": [
    "finals_data_frame[\"runner_up_from\"].value_counts()"
   ]
  }
 ],
 "metadata": {
  "kernelspec": {
   "display_name": "Python 3",
   "language": "python",
   "name": "python3"
  },
  "language_info": {
   "codemirror_mode": {
    "name": "ipython",
    "version": 3
   },
   "file_extension": ".py",
   "mimetype": "text/x-python",
   "name": "python",
   "nbconvert_exporter": "python",
   "pygments_lexer": "ipython3",
   "version": "3.9.6"
  },
  "orig_nbformat": 4
 },
 "nbformat": 4,
 "nbformat_minor": 2
}
