{
 "cells": [
  {
   "attachments": {},
   "cell_type": "markdown",
   "metadata": {},
   "source": [
    "# Speakers"
   ]
  },
  {
   "cell_type": "code",
   "execution_count": 12,
   "metadata": {},
   "outputs": [],
   "source": [
    "import pandas\n",
    "import numpy"
   ]
  },
  {
   "cell_type": "code",
   "execution_count": 13,
   "metadata": {},
   "outputs": [
    {
     "data": {
      "text/plain": [
       "array(['Frederick Muhlenberg', 'Jonathan Trumbull Jr.', 'Jonathan Dayton',\n",
       "       'Theodore Sedgwick', 'Nathaniel Macon', 'Joseph Bradley Varnum',\n",
       "       'Henry Clay', 'Langdon Cheves', 'John W. Taylor',\n",
       "       'Philip P. Barbour', 'Andrew Stevenson', 'John Bell',\n",
       "       'James K. Polk', 'Robert M. T. Hunter', 'John White',\n",
       "       'John Winston Jones', 'John Wesley Davis',\n",
       "       'Robert Charles Winthrop', 'Howell Cobb', 'Linn Boyd',\n",
       "       'Nathaniel P. Banks', 'James Lawrence Orr', 'William Pennington',\n",
       "       'Galusha A. Grow', 'Schuyler Colfax', 'Theodore M. Pomeroy',\n",
       "       'James G. Blaine', 'Michael C. Kerr', 'Samuel J. Randall',\n",
       "       'J. Warren Keifer', 'John G. Carlisle', 'Thomas Brackett Reed',\n",
       "       'Charles Frederick Crisp', 'David B. Henderson',\n",
       "       'Joseph Gurney Cannon', 'Champ Clark', 'Frederick H. Gillett',\n",
       "       'Nicholas Longworth', 'John Nance Garner', 'Henry Thomas Rainey',\n",
       "       'Jo Byrns', 'William B. Bankhead', 'Sam Rayburn',\n",
       "       'Joseph W. Martin Jr.', 'John W. McCormack', 'Carl Albert',\n",
       "       \"Tip O'Neill\", 'Jim Wright', 'Tom Foley', 'Newt Gingrich',\n",
       "       'Dennis Hastert', 'Nancy Pelosi', 'John Boehner', 'Paul Ryan',\n",
       "       'Kevin McCarthy', 'Pennsylvania', 'Connecticut', 'New Jersey',\n",
       "       'Massachusetts', 'North Carolina', 'Kentucky', 'South Carolina',\n",
       "       'New York', 'Virginia', 'Tennessee', 'Indiana', 'Georgia', 'Maine',\n",
       "       'Ohio', 'Iowa', 'Illinois', 'Missouri', 'Texas', 'Alabama',\n",
       "       'Oklahoma', 'Washington', 'California', 'Wisconsin'], dtype=object)"
      ]
     },
     "execution_count": 13,
     "metadata": {},
     "output_type": "execute_result"
    }
   ],
   "source": [
    "speakers_by_congresses = pandas.read_csv(\"./speakers-by-congresses.csv\")\n",
    "pandas.concat([speakers_by_congresses['name'], speakers_by_congresses['state']]).unique()"
   ]
  }
 ],
 "metadata": {
  "kernelspec": {
   "display_name": "Python 3",
   "language": "python",
   "name": "python3"
  },
  "language_info": {
   "codemirror_mode": {
    "name": "ipython",
    "version": 3
   },
   "file_extension": ".py",
   "mimetype": "text/x-python",
   "name": "python",
   "nbconvert_exporter": "python",
   "pygments_lexer": "ipython3",
   "version": "3.9.6"
  },
  "orig_nbformat": 4
 },
 "nbformat": 4,
 "nbformat_minor": 2
}
