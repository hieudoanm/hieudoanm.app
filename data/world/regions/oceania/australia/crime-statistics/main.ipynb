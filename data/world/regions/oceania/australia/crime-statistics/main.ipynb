{
 "cells": [
  {
   "attachments": {},
   "cell_type": "markdown",
   "metadata": {},
   "source": [
    "# Crime Statistics"
   ]
  },
  {
   "cell_type": "code",
   "execution_count": 102,
   "metadata": {},
   "outputs": [],
   "source": [
    "def add_zero(string):\n",
    "    number = int(string)\n",
    "    if number > 9:\n",
    "        return str(number)\n",
    "    else:\n",
    "        return f\"0{number}\"\n",
    "    \n",
    "def str_to_int(string):\n",
    "    if string == '' or string == 'nan':\n",
    "        return ''\n",
    "    try:\n",
    "        return int(string)\n",
    "    except:\n",
    "        return string"
   ]
  },
  {
   "attachments": {},
   "cell_type": "markdown",
   "metadata": {},
   "source": [
    "## Map Postal Code to State (Code & Name)"
   ]
  },
  {
   "cell_type": "code",
   "execution_count": 103,
   "metadata": {},
   "outputs": [],
   "source": [
    "import pandas\n",
    "\n",
    "postal_code_data_frame = pandas.read_csv(\"../postal-code.csv\")\n",
    "\n",
    "postal_codes_dict = {}\n",
    "\n",
    "for columns in postal_code_data_frame.values:\n",
    "    postal_code = columns[0]\n",
    "    place_name = columns[1]\n",
    "    state_name = columns[2]\n",
    "    state_code = columns[3]\n",
    "    key = \"-\".join(place_name.upper().split(\" \"))\n",
    "    postal_codes_dict[key] = {\n",
    "        \"state_code\": state_code,\n",
    "        \"state_name\": state_name\n",
    "    }\n",
    "\n"
   ]
  },
  {
   "attachments": {},
   "cell_type": "markdown",
   "metadata": {},
   "source": [
    "## Merge all files"
   ]
  },
  {
   "cell_type": "code",
   "execution_count": 104,
   "metadata": {},
   "outputs": [
    {
     "name": "stdout",
     "output_type": "stream",
     "text": [
      "raw/2010-11.csv\n",
      "raw/2011-12.csv\n",
      "raw/2012-13.csv\n",
      "raw/2013-14.csv\n",
      "raw/2014-15.csv\n",
      "raw/2015-16.csv\n",
      "raw/2016-17.csv\n",
      "raw/2017-18.csv\n",
      "raw/2018-19.csv\n",
      "raw/2019-20.csv\n",
      "raw/2020-21.csv\n",
      "raw/2021-22.csv\n",
      "1121724\n"
     ]
    }
   ],
   "source": [
    "start_year = 10\n",
    "end_year = 21\n",
    "\n",
    "data = []\n",
    "\n",
    "for year in range(start_year, end_year + 1):\n",
    "    file_name = f\"raw/20{year}-{year + 1}.csv\"\n",
    "    print(file_name)\n",
    "    crimes_by_year_data_frame = pandas.read_csv(file_name)\n",
    "    for columns in crimes_by_year_data_frame.values:\n",
    "        full_date = list(map(add_zero, columns[0].split(\"/\")))\n",
    "        full_date.reverse()\n",
    "        year, month, date = full_date\n",
    "        suburb = columns[1]\n",
    "        postal_code = str_to_int(str(columns[2]))\n",
    "        description_level_1 = columns[3]\n",
    "        description_level_2 = columns[4]\n",
    "        description_level_3 = columns[5]\n",
    "        count = columns[6]\n",
    "        key = \"-\".join(str(suburb).upper().split(\" \"))\n",
    "        state = postal_codes_dict[key] if key in postal_codes_dict else {\n",
    "            \"state_code\": \"\",\n",
    "            \"state_name\": \"\"\n",
    "        }\n",
    "        if suburb == \"NOT DISCLOSED\":\n",
    "            state = {\n",
    "                \"state_code\": \"NOT DISCLOSED\",\n",
    "                \"state_name\": \"NOT DISCLOSED\"\n",
    "            }\n",
    "        data.append({\n",
    "          \"year\": year,\n",
    "          \"month\": month,\n",
    "          \"date\": date,\n",
    "          \"suburb\":suburb,\n",
    "          \"postal_code\": postal_code,\n",
    "          \"state_code\": state[\"state_code\"],\n",
    "          \"state_name\": state[\"state_name\"],\n",
    "          \"description_level_1\":description_level_1,\n",
    "          \"description_level_2\":description_level_2,\n",
    "          \"description_level_3\":description_level_3,\n",
    "          \"count\": count,\n",
    "        })\n",
    "\n",
    "print(len(data))"
   ]
  },
  {
   "attachments": {},
   "cell_type": "markdown",
   "metadata": {},
   "source": [
    "## Write to File"
   ]
  },
  {
   "cell_type": "code",
   "execution_count": 105,
   "metadata": {},
   "outputs": [],
   "source": [
    "df = pandas.DataFrame.from_dict(data)\n",
    "df.to_csv (r'clean/2010-22.csv', index = False, header=True)"
   ]
  },
  {
   "attachments": {},
   "cell_type": "markdown",
   "metadata": {},
   "source": [
    "## Import to PostgreSQL"
   ]
  },
  {
   "cell_type": "code",
   "execution_count": 106,
   "metadata": {},
   "outputs": [],
   "source": [
    "\n",
    "# import psycopg2\n",
    "  \n",
    "# conn = psycopg2.connect(database=\"australia\",\n",
    "#                         user='username', password='password', \n",
    "#                         host='localhost', port='5432'\n",
    "# )\n",
    "  \n",
    "# conn.autocommit = True\n",
    "# cursor = conn.cursor()\n",
    "  \n",
    "# copy_sql = '''\n",
    "# COPY public.\"CrimeStatistics\" (date,suburb,postal_code,description_level_1,description_level_2,description_level_3,count)\n",
    "# FROM '/Users/hieudoan/Documents/github.com/hieudoanm/australia/data/crime-statistics/clean/2010-22.csv'\n",
    "# DELIMITER ','\n",
    "# CSV HEADER;\n",
    "# '''\n",
    "  \n",
    "# cursor.execute(copy_sql)\n",
    "\n",
    "# conn.commit()\n",
    "# conn.close()"
   ]
  }
 ],
 "metadata": {
  "kernelspec": {
   "display_name": "Python 3",
   "language": "python",
   "name": "python3"
  },
  "language_info": {
   "codemirror_mode": {
    "name": "ipython",
    "version": 3
   },
   "file_extension": ".py",
   "mimetype": "text/x-python",
   "name": "python",
   "nbconvert_exporter": "python",
   "pygments_lexer": "ipython3",
   "version": "3.10.9"
  },
  "orig_nbformat": 4
 },
 "nbformat": 4,
 "nbformat_minor": 2
}
