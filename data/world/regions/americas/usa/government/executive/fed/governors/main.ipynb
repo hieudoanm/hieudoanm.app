{
 "cells": [
  {
   "cell_type": "code",
   "execution_count": 5,
   "metadata": {},
   "outputs": [],
   "source": [
    "import pandas"
   ]
  },
  {
   "cell_type": "code",
   "execution_count": 6,
   "metadata": {},
   "outputs": [
    {
     "data": {
      "text/html": [
       "<div>\n",
       "<style scoped>\n",
       "    .dataframe tbody tr th:only-of-type {\n",
       "        vertical-align: middle;\n",
       "    }\n",
       "\n",
       "    .dataframe tbody tr th {\n",
       "        vertical-align: top;\n",
       "    }\n",
       "\n",
       "    .dataframe thead th {\n",
       "        text-align: right;\n",
       "    }\n",
       "</style>\n",
       "<table border=\"1\" class=\"dataframe\">\n",
       "  <thead>\n",
       "    <tr style=\"text-align: right;\">\n",
       "      <th></th>\n",
       "      <th>name</th>\n",
       "      <th>regional_bank</th>\n",
       "      <th>president</th>\n",
       "    </tr>\n",
       "  </thead>\n",
       "  <tbody>\n",
       "    <tr>\n",
       "      <th>0</th>\n",
       "      <td>Charles Hamlin</td>\n",
       "      <td>Boston</td>\n",
       "      <td>Woodrow Wilson</td>\n",
       "    </tr>\n",
       "    <tr>\n",
       "      <th>1</th>\n",
       "      <td>Paul Warburg</td>\n",
       "      <td>New York</td>\n",
       "      <td>Woodrow Wilson</td>\n",
       "    </tr>\n",
       "    <tr>\n",
       "      <th>2</th>\n",
       "      <td>Frederic Delano</td>\n",
       "      <td>Chicago</td>\n",
       "      <td>Woodrow Wilson</td>\n",
       "    </tr>\n",
       "    <tr>\n",
       "      <th>3</th>\n",
       "      <td>William Harding</td>\n",
       "      <td>Atlanta</td>\n",
       "      <td>Woodrow Wilson</td>\n",
       "    </tr>\n",
       "    <tr>\n",
       "      <th>4</th>\n",
       "      <td>Adolph Miller</td>\n",
       "      <td>San Francisco / Richmond</td>\n",
       "      <td>Woodrow Wilson</td>\n",
       "    </tr>\n",
       "    <tr>\n",
       "      <th>...</th>\n",
       "      <td>...</td>\n",
       "      <td>...</td>\n",
       "      <td>...</td>\n",
       "    </tr>\n",
       "    <tr>\n",
       "      <th>96</th>\n",
       "      <td>Miki Bowman</td>\n",
       "      <td>St. Louis</td>\n",
       "      <td>Donald Trump</td>\n",
       "    </tr>\n",
       "    <tr>\n",
       "      <th>97</th>\n",
       "      <td>Chris Waller</td>\n",
       "      <td>Minneapolis</td>\n",
       "      <td>Donald Trump</td>\n",
       "    </tr>\n",
       "    <tr>\n",
       "      <th>98</th>\n",
       "      <td>Lisa Cook</td>\n",
       "      <td>Atlanta</td>\n",
       "      <td>Joe Biden</td>\n",
       "    </tr>\n",
       "    <tr>\n",
       "      <th>99</th>\n",
       "      <td>Philip Jefferson</td>\n",
       "      <td>New York</td>\n",
       "      <td>Joe Biden</td>\n",
       "    </tr>\n",
       "    <tr>\n",
       "      <th>100</th>\n",
       "      <td>Michael Barr</td>\n",
       "      <td>Chicago</td>\n",
       "      <td>Joe Biden</td>\n",
       "    </tr>\n",
       "  </tbody>\n",
       "</table>\n",
       "<p>101 rows × 3 columns</p>\n",
       "</div>"
      ],
      "text/plain": [
       "                 name             regional_bank       president\n",
       "0      Charles Hamlin                    Boston  Woodrow Wilson\n",
       "1        Paul Warburg                  New York  Woodrow Wilson\n",
       "2     Frederic Delano                   Chicago  Woodrow Wilson\n",
       "3     William Harding                   Atlanta  Woodrow Wilson\n",
       "4       Adolph Miller  San Francisco / Richmond  Woodrow Wilson\n",
       "..                ...                       ...             ...\n",
       "96        Miki Bowman                 St. Louis    Donald Trump\n",
       "97       Chris Waller               Minneapolis    Donald Trump\n",
       "98          Lisa Cook                   Atlanta       Joe Biden\n",
       "99   Philip Jefferson                  New York       Joe Biden\n",
       "100      Michael Barr                   Chicago       Joe Biden\n",
       "\n",
       "[101 rows x 3 columns]"
      ]
     },
     "execution_count": 6,
     "metadata": {},
     "output_type": "execute_result"
    }
   ],
   "source": [
    "governors_data_frame = pandas.read_csv(\"./governors.csv\")\n",
    "governors_data_frame"
   ]
  },
  {
   "cell_type": "code",
   "execution_count": 7,
   "metadata": {},
   "outputs": [
    {
     "data": {
      "text/plain": [
       "president\n",
       "Franklin D. Roosevelt    11\n",
       "Woodrow Wilson            9\n",
       "George W. Bush            9\n",
       "Harry S. Truman           8\n",
       "Ronald Reagan             8\n",
       "Barack Obama              7\n",
       "Bill Clinton              6\n",
       "Jimmy Carter              6\n",
       "Gerald Ford               5\n",
       "Richard Nixon             5\n",
       "Warren G. Harding         5\n",
       "Dwight D. Eisenhower      4\n",
       "Donald Trump              4\n",
       "Lyndon B. Johnson         3\n",
       "George H. W. Bush         3\n",
       "Joe Biden                 3\n",
       "John F. Kennedy           2\n",
       "Herbert Hoover            2\n",
       "Calvin Coolidge           1\n",
       "Name: count, dtype: int64"
      ]
     },
     "execution_count": 7,
     "metadata": {},
     "output_type": "execute_result"
    }
   ],
   "source": [
    "presidents = governors_data_frame[\"president\"].value_counts()\n",
    "presidents"
   ]
  },
  {
   "cell_type": "code",
   "execution_count": 8,
   "metadata": {},
   "outputs": [
    {
     "data": {
      "text/plain": [
       "regional_bank\n",
       "New York                    13\n",
       "Chicago                     12\n",
       "Atlanta                     10\n",
       "Richmond                    10\n",
       "San Francisco                9\n",
       "Philadelphia                 9\n",
       "Boston                       8\n",
       "Kansas City                  8\n",
       "Minneapolis                  7\n",
       "St. Louis                    6\n",
       "Dallas                       5\n",
       "Cleveland                    3\n",
       "San Francisco / Richmond     1\n",
       "Name: count, dtype: int64"
      ]
     },
     "execution_count": 8,
     "metadata": {},
     "output_type": "execute_result"
    }
   ],
   "source": [
    "regional_banks = governors_data_frame[\"regional_bank\"].value_counts()\n",
    "regional_banks"
   ]
  }
 ],
 "metadata": {
  "kernelspec": {
   "display_name": "Python 3",
   "language": "python",
   "name": "python3"
  },
  "language_info": {
   "codemirror_mode": {
    "name": "ipython",
    "version": 3
   },
   "file_extension": ".py",
   "mimetype": "text/x-python",
   "name": "python",
   "nbconvert_exporter": "python",
   "pygments_lexer": "ipython3",
   "version": "3.11.4"
  },
  "orig_nbformat": 4
 },
 "nbformat": 4,
 "nbformat_minor": 2
}
