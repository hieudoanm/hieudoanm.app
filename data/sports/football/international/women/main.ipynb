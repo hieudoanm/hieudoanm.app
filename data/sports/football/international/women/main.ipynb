{
 "cells": [
  {
   "cell_type": "code",
   "execution_count": 5,
   "metadata": {},
   "outputs": [],
   "source": [
    "import pandas"
   ]
  },
  {
   "cell_type": "code",
   "execution_count": 6,
   "metadata": {},
   "outputs": [
    {
     "data": {
      "text/html": [
       "<div>\n",
       "<style scoped>\n",
       "    .dataframe tbody tr th:only-of-type {\n",
       "        vertical-align: middle;\n",
       "    }\n",
       "\n",
       "    .dataframe tbody tr th {\n",
       "        vertical-align: top;\n",
       "    }\n",
       "\n",
       "    .dataframe thead th {\n",
       "        text-align: right;\n",
       "    }\n",
       "</style>\n",
       "<table border=\"1\" class=\"dataframe\">\n",
       "  <thead>\n",
       "    <tr style=\"text-align: right;\">\n",
       "      <th></th>\n",
       "      <th>year</th>\n",
       "      <th>host</th>\n",
       "      <th>champion</th>\n",
       "      <th>runner_up</th>\n",
       "      <th>third_place</th>\n",
       "      <th>fourth_place</th>\n",
       "    </tr>\n",
       "  </thead>\n",
       "  <tbody>\n",
       "    <tr>\n",
       "      <th>0</th>\n",
       "      <td>1991</td>\n",
       "      <td>China</td>\n",
       "      <td>United States</td>\n",
       "      <td>Norway</td>\n",
       "      <td>Sweden</td>\n",
       "      <td>Germany</td>\n",
       "    </tr>\n",
       "    <tr>\n",
       "      <th>1</th>\n",
       "      <td>1995</td>\n",
       "      <td>Sweden</td>\n",
       "      <td>Norway</td>\n",
       "      <td>Germany</td>\n",
       "      <td>United States</td>\n",
       "      <td>China</td>\n",
       "    </tr>\n",
       "    <tr>\n",
       "      <th>2</th>\n",
       "      <td>1999</td>\n",
       "      <td>United States</td>\n",
       "      <td>United States</td>\n",
       "      <td>China</td>\n",
       "      <td>Brazil</td>\n",
       "      <td>Norway</td>\n",
       "    </tr>\n",
       "    <tr>\n",
       "      <th>3</th>\n",
       "      <td>2003</td>\n",
       "      <td>United States</td>\n",
       "      <td>Germany</td>\n",
       "      <td>Sweden</td>\n",
       "      <td>United States</td>\n",
       "      <td>Canada</td>\n",
       "    </tr>\n",
       "    <tr>\n",
       "      <th>4</th>\n",
       "      <td>2007</td>\n",
       "      <td>China</td>\n",
       "      <td>Germany</td>\n",
       "      <td>United States</td>\n",
       "      <td>United States</td>\n",
       "      <td>Norway</td>\n",
       "    </tr>\n",
       "    <tr>\n",
       "      <th>5</th>\n",
       "      <td>2011</td>\n",
       "      <td>Germany</td>\n",
       "      <td>Japan</td>\n",
       "      <td>United States</td>\n",
       "      <td>Sweden</td>\n",
       "      <td>France</td>\n",
       "    </tr>\n",
       "    <tr>\n",
       "      <th>6</th>\n",
       "      <td>2015</td>\n",
       "      <td>Canada</td>\n",
       "      <td>United States</td>\n",
       "      <td>Japan</td>\n",
       "      <td>England</td>\n",
       "      <td>Germany</td>\n",
       "    </tr>\n",
       "    <tr>\n",
       "      <th>7</th>\n",
       "      <td>2019</td>\n",
       "      <td>France</td>\n",
       "      <td>United States</td>\n",
       "      <td>Netherlands</td>\n",
       "      <td>Sweden</td>\n",
       "      <td>England</td>\n",
       "    </tr>\n",
       "  </tbody>\n",
       "</table>\n",
       "</div>"
      ],
      "text/plain": [
       "   year           host       champion      runner_up    third_place  \\\n",
       "0  1991          China  United States         Norway         Sweden   \n",
       "1  1995         Sweden         Norway        Germany  United States   \n",
       "2  1999  United States  United States          China         Brazil   \n",
       "3  2003  United States        Germany         Sweden  United States   \n",
       "4  2007          China        Germany  United States  United States   \n",
       "5  2011        Germany          Japan  United States         Sweden   \n",
       "6  2015         Canada  United States          Japan        England   \n",
       "7  2019         France  United States    Netherlands         Sweden   \n",
       "\n",
       "  fourth_place  \n",
       "0      Germany  \n",
       "1        China  \n",
       "2       Norway  \n",
       "3       Canada  \n",
       "4       Norway  \n",
       "5       France  \n",
       "6      Germany  \n",
       "7      England  "
      ]
     },
     "execution_count": 6,
     "metadata": {},
     "output_type": "execute_result"
    }
   ],
   "source": [
    "world_cup_data_frame = pandas.read_csv(\"./champions.csv\")\n",
    "world_cup_data_frame"
   ]
  },
  {
   "cell_type": "code",
   "execution_count": 7,
   "metadata": {},
   "outputs": [
    {
     "data": {
      "text/plain": [
       "host\n",
       "China            2\n",
       "United States    2\n",
       "Sweden           1\n",
       "Germany          1\n",
       "Canada           1\n",
       "France           1\n",
       "Name: count, dtype: int64"
      ]
     },
     "execution_count": 7,
     "metadata": {},
     "output_type": "execute_result"
    }
   ],
   "source": [
    "hosts = world_cup_data_frame['host'].value_counts()\n",
    "hosts"
   ]
  },
  {
   "cell_type": "code",
   "execution_count": 8,
   "metadata": {},
   "outputs": [
    {
     "data": {
      "text/plain": [
       "champion\n",
       "United States    4\n",
       "Germany          2\n",
       "Norway           1\n",
       "Japan            1\n",
       "Name: count, dtype: int64"
      ]
     },
     "execution_count": 8,
     "metadata": {},
     "output_type": "execute_result"
    }
   ],
   "source": [
    "champions = world_cup_data_frame['champion'].value_counts()\n",
    "champions"
   ]
  },
  {
   "cell_type": "code",
   "execution_count": 9,
   "metadata": {},
   "outputs": [
    {
     "data": {
      "text/plain": [
       "runner_up\n",
       "United States    2\n",
       "Norway           1\n",
       "Germany          1\n",
       "China            1\n",
       "Sweden           1\n",
       "Japan            1\n",
       "Netherlands      1\n",
       "Name: count, dtype: int64"
      ]
     },
     "execution_count": 9,
     "metadata": {},
     "output_type": "execute_result"
    }
   ],
   "source": [
    "runners_up = world_cup_data_frame['runner_up'].value_counts()\n",
    "runners_up"
   ]
  },
  {
   "cell_type": "code",
   "execution_count": 10,
   "metadata": {},
   "outputs": [
    {
     "data": {
      "text/plain": [
       "third_place\n",
       "Sweden           3\n",
       "United States    3\n",
       "Brazil           1\n",
       "England          1\n",
       "Name: count, dtype: int64"
      ]
     },
     "execution_count": 10,
     "metadata": {},
     "output_type": "execute_result"
    }
   ],
   "source": [
    "third_places = world_cup_data_frame['third_place'].value_counts()\n",
    "third_places"
   ]
  },
  {
   "cell_type": "code",
   "execution_count": 11,
   "metadata": {},
   "outputs": [
    {
     "data": {
      "text/plain": [
       "fourth_place\n",
       "Germany    2\n",
       "Norway     2\n",
       "China      1\n",
       "Canada     1\n",
       "France     1\n",
       "England    1\n",
       "Name: count, dtype: int64"
      ]
     },
     "execution_count": 11,
     "metadata": {},
     "output_type": "execute_result"
    }
   ],
   "source": [
    "fourth_places = world_cup_data_frame['fourth_place'].value_counts()\n",
    "fourth_places"
   ]
  }
 ],
 "metadata": {
  "kernelspec": {
   "display_name": "Python 3",
   "language": "python",
   "name": "python3"
  },
  "language_info": {
   "codemirror_mode": {
    "name": "ipython",
    "version": 3
   },
   "file_extension": ".py",
   "mimetype": "text/x-python",
   "name": "python",
   "nbconvert_exporter": "python",
   "pygments_lexer": "ipython3",
   "version": "3.11.4"
  },
  "orig_nbformat": 4
 },
 "nbformat": 4,
 "nbformat_minor": 2
}
