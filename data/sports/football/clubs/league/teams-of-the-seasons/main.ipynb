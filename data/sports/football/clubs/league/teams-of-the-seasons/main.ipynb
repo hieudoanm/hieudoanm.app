{
 "cells": [
  {
   "cell_type": "markdown",
   "metadata": {},
   "source": [
    "# Professional Footballers' Association Team of the Year"
   ]
  },
  {
   "cell_type": "code",
   "execution_count": 110,
   "metadata": {},
   "outputs": [],
   "source": [
    "import pandas"
   ]
  },
  {
   "cell_type": "markdown",
   "metadata": {},
   "source": [
    "## Teams of the Year"
   ]
  },
  {
   "cell_type": "code",
   "execution_count": 111,
   "metadata": {},
   "outputs": [
    {
     "data": {
      "text/html": [
       "<div>\n",
       "<style scoped>\n",
       "    .dataframe tbody tr th:only-of-type {\n",
       "        vertical-align: middle;\n",
       "    }\n",
       "\n",
       "    .dataframe tbody tr th {\n",
       "        vertical-align: top;\n",
       "    }\n",
       "\n",
       "    .dataframe thead th {\n",
       "        text-align: right;\n",
       "    }\n",
       "</style>\n",
       "<table border=\"1\" class=\"dataframe\">\n",
       "  <thead>\n",
       "    <tr style=\"text-align: right;\">\n",
       "      <th></th>\n",
       "      <th>season_start</th>\n",
       "      <th>season_end</th>\n",
       "      <th>position</th>\n",
       "      <th>name</th>\n",
       "      <th>country</th>\n",
       "      <th>club</th>\n",
       "    </tr>\n",
       "  </thead>\n",
       "  <tbody>\n",
       "    <tr>\n",
       "      <th>0</th>\n",
       "      <td>1992</td>\n",
       "      <td>1993</td>\n",
       "      <td>GK</td>\n",
       "      <td>Peter Schmeichel</td>\n",
       "      <td>Denmark</td>\n",
       "      <td>Manchester United</td>\n",
       "    </tr>\n",
       "    <tr>\n",
       "      <th>1</th>\n",
       "      <td>1992</td>\n",
       "      <td>1993</td>\n",
       "      <td>RB</td>\n",
       "      <td>David Bardsley</td>\n",
       "      <td>England</td>\n",
       "      <td>Queens Park Rangers</td>\n",
       "    </tr>\n",
       "    <tr>\n",
       "      <th>2</th>\n",
       "      <td>1992</td>\n",
       "      <td>1993</td>\n",
       "      <td>CB</td>\n",
       "      <td>Paul McGrath</td>\n",
       "      <td>Ireland</td>\n",
       "      <td>Aston Villa</td>\n",
       "    </tr>\n",
       "    <tr>\n",
       "      <th>3</th>\n",
       "      <td>1992</td>\n",
       "      <td>1993</td>\n",
       "      <td>CB</td>\n",
       "      <td>Gary Pallister</td>\n",
       "      <td>England</td>\n",
       "      <td>Manchester United</td>\n",
       "    </tr>\n",
       "    <tr>\n",
       "      <th>4</th>\n",
       "      <td>1992</td>\n",
       "      <td>1993</td>\n",
       "      <td>LB</td>\n",
       "      <td>Tony Dorigo</td>\n",
       "      <td>England</td>\n",
       "      <td>Leeds United</td>\n",
       "    </tr>\n",
       "    <tr>\n",
       "      <th>...</th>\n",
       "      <td>...</td>\n",
       "      <td>...</td>\n",
       "      <td>...</td>\n",
       "      <td>...</td>\n",
       "      <td>...</td>\n",
       "      <td>...</td>\n",
       "    </tr>\n",
       "    <tr>\n",
       "      <th>325</th>\n",
       "      <td>2021</td>\n",
       "      <td>2022</td>\n",
       "      <td>MF</td>\n",
       "      <td>Thiago</td>\n",
       "      <td>Spain</td>\n",
       "      <td>Liverpool</td>\n",
       "    </tr>\n",
       "    <tr>\n",
       "      <th>326</th>\n",
       "      <td>2021</td>\n",
       "      <td>2022</td>\n",
       "      <td>MF</td>\n",
       "      <td>Kevin De Bruyne</td>\n",
       "      <td>Belgium</td>\n",
       "      <td>Manchester City</td>\n",
       "    </tr>\n",
       "    <tr>\n",
       "      <th>327</th>\n",
       "      <td>2021</td>\n",
       "      <td>2022</td>\n",
       "      <td>FW</td>\n",
       "      <td>Sadio Mané</td>\n",
       "      <td>Senegal</td>\n",
       "      <td>Liverpool</td>\n",
       "    </tr>\n",
       "    <tr>\n",
       "      <th>328</th>\n",
       "      <td>2021</td>\n",
       "      <td>2022</td>\n",
       "      <td>FW</td>\n",
       "      <td>Cristiano Ronaldo</td>\n",
       "      <td>Portugal</td>\n",
       "      <td>Manchester United</td>\n",
       "    </tr>\n",
       "    <tr>\n",
       "      <th>329</th>\n",
       "      <td>2021</td>\n",
       "      <td>2022</td>\n",
       "      <td>FW</td>\n",
       "      <td>Mohamed Salah</td>\n",
       "      <td>Egypt</td>\n",
       "      <td>Liverpool</td>\n",
       "    </tr>\n",
       "  </tbody>\n",
       "</table>\n",
       "<p>330 rows × 6 columns</p>\n",
       "</div>"
      ],
      "text/plain": [
       "     season_start  season_end position               name   country  \\\n",
       "0            1992        1993       GK   Peter Schmeichel   Denmark   \n",
       "1            1992        1993       RB     David Bardsley   England   \n",
       "2            1992        1993       CB       Paul McGrath   Ireland   \n",
       "3            1992        1993       CB     Gary Pallister   England   \n",
       "4            1992        1993       LB        Tony Dorigo   England   \n",
       "..            ...         ...      ...                ...       ...   \n",
       "325          2021        2022       MF             Thiago     Spain   \n",
       "326          2021        2022       MF    Kevin De Bruyne   Belgium   \n",
       "327          2021        2022       FW         Sadio Mané   Senegal   \n",
       "328          2021        2022       FW  Cristiano Ronaldo  Portugal   \n",
       "329          2021        2022       FW      Mohamed Salah     Egypt   \n",
       "\n",
       "                    club  \n",
       "0      Manchester United  \n",
       "1    Queens Park Rangers  \n",
       "2            Aston Villa  \n",
       "3      Manchester United  \n",
       "4           Leeds United  \n",
       "..                   ...  \n",
       "325            Liverpool  \n",
       "326      Manchester City  \n",
       "327            Liverpool  \n",
       "328    Manchester United  \n",
       "329            Liverpool  \n",
       "\n",
       "[330 rows x 6 columns]"
      ]
     },
     "execution_count": 111,
     "metadata": {},
     "output_type": "execute_result"
    }
   ],
   "source": [
    "teams_data_frame = pandas.read_csv(\"./teams.csv\")\n",
    "teams_data_frame"
   ]
  },
  {
   "cell_type": "markdown",
   "metadata": {},
   "source": [
    "## Most Appearances"
   ]
  },
  {
   "cell_type": "code",
   "execution_count": 112,
   "metadata": {},
   "outputs": [
    {
     "data": {
      "text/plain": [
       "name\n",
       "Steven Gerrard      8\n",
       "Thierry Henry       6\n",
       "Rio Ferdinand       6\n",
       "Gary Neville        6\n",
       "Ryan Giggs          6\n",
       "                   ..\n",
       "Steve Finnan        1\n",
       "Teddy Sheringham    1\n",
       "Sylvinho            1\n",
       "Wes Brown           1\n",
       "Thiago              1\n",
       "Name: count, Length: 176, dtype: int64"
      ]
     },
     "execution_count": 112,
     "metadata": {},
     "output_type": "execute_result"
    }
   ],
   "source": [
    "most_appearances = teams_data_frame['name'].value_counts()\n",
    "most_appearances"
   ]
  },
  {
   "cell_type": "code",
   "execution_count": 113,
   "metadata": {},
   "outputs": [
    {
     "data": {
      "text/plain": [
       "country\n",
       "England                146\n",
       "France                  36\n",
       "Ireland                 18\n",
       "Spain                   18\n",
       "Belgium                 16\n",
       "Netherlands             16\n",
       "Portugal                12\n",
       "Brazil                   7\n",
       "Serbia                   7\n",
       "Argentina                6\n",
       "Scotland                 6\n",
       "Ivory Coast              4\n",
       "Wales                    4\n",
       "Senegal                  4\n",
       "Egypt                    3\n",
       "Germany                  3\n",
       "Uruguay                  2\n",
       "Bulgaria                 2\n",
       "Denmark                  2\n",
       "Czech Republic           2\n",
       "United States            2\n",
       "Finland                  2\n",
       "Cameroon                 1\n",
       "Togo                     1\n",
       "Ecuador                  1\n",
       "Australia                1\n",
       "Chile                    1\n",
       "Jamaica                  1\n",
       "Algeria                  1\n",
       "Trinidad and Tobago      1\n",
       "Norway                   1\n",
       "Turkey                   1\n",
       "Gabon                    1\n",
       "Korea                    1\n",
       "Name: count, dtype: int64"
      ]
     },
     "execution_count": 113,
     "metadata": {},
     "output_type": "execute_result"
    }
   ],
   "source": [
    "country_most_appearances = teams_data_frame['country'].value_counts()\n",
    "country_most_appearances"
   ]
  },
  {
   "cell_type": "markdown",
   "metadata": {},
   "source": [
    "## Goalkeepers"
   ]
  },
  {
   "cell_type": "code",
   "execution_count": 114,
   "metadata": {},
   "outputs": [
    {
     "data": {
      "text/plain": [
       "name\n",
       "David de Gea         5\n",
       "Nigel Martyn         3\n",
       "Edwin van der Sar    3\n",
       "Tim Flowers          2\n",
       "David James          2\n",
       "Shay Given           2\n",
       "Petr Čech            2\n",
       "Joe Hart             2\n",
       "Ederson              2\n",
       "Peter Schmeichel     1\n",
       "David Seaman         1\n",
       "Fabien Barthez       1\n",
       "Brad Friedel         1\n",
       "Tim Howard           1\n",
       "Nick Pope            1\n",
       "Alisson              1\n",
       "Name: count, dtype: int64"
      ]
     },
     "execution_count": 114,
     "metadata": {},
     "output_type": "execute_result"
    }
   ],
   "source": [
    "goalkeepers_data_frame = teams_data_frame[teams_data_frame['position'] == \"GK\"]\n",
    "most_appearances_by_goalkeepers = goalkeepers_data_frame['name'].value_counts()\n",
    "most_appearances_by_goalkeepers"
   ]
  },
  {
   "cell_type": "markdown",
   "metadata": {},
   "source": [
    "## Right Backs"
   ]
  },
  {
   "cell_type": "code",
   "execution_count": 115,
   "metadata": {},
   "outputs": [
    {
     "data": {
      "text/plain": [
       "name\n",
       "Gary Neville              6\n",
       "Trent Alexander-Arnold    3\n",
       "Kyle Walker               3\n",
       "Bacary Sagna              2\n",
       "Branislav Ivanović        2\n",
       "Stephen Carr              2\n",
       "Gary Kelly                2\n",
       "Héctor Bellerín           1\n",
       "Séamus Coleman            1\n",
       "Pablo Zabaleta            1\n",
       "David Bardsley            1\n",
       "Glen Johnson              1\n",
       "Pascal Chimbonda          1\n",
       "Lauren                    1\n",
       "Steve Finnan              1\n",
       "Rob Jones                 1\n",
       "João Cancelo              1\n",
       "Name: count, dtype: int64"
      ]
     },
     "execution_count": 115,
     "metadata": {},
     "output_type": "execute_result"
    }
   ],
   "source": [
    "right_backs_data_frame = teams_data_frame[teams_data_frame['position'] == \"RB\"]\n",
    "most_appearances_by_right_backs = right_backs_data_frame['name'].value_counts()\n",
    "most_appearances_by_right_backs"
   ]
  },
  {
   "cell_type": "markdown",
   "metadata": {},
   "source": [
    "## Centre Backs"
   ]
  },
  {
   "cell_type": "code",
   "execution_count": 116,
   "metadata": {},
   "outputs": [
    {
     "data": {
      "text/plain": [
       "name\n",
       "Rio Ferdinand         6\n",
       "Gary Pallister        4\n",
       "Nemanja Vidić         4\n",
       "John Terry            4\n",
       "Jaap Stam             3\n",
       "Vincent Kompany       3\n",
       "Virgil van Dijk       3\n",
       "Gary Cahill           3\n",
       "Sol Campbell          3\n",
       "Tony Adams            3\n",
       "Sami Hyypiä           2\n",
       "Colin Hendry          2\n",
       "Jan Vertonghen        2\n",
       "Çağlar Söyüncü        1\n",
       "Wes Morgan            1\n",
       "Aymeric Laporte       1\n",
       "John Stones           1\n",
       "Rúben Dias            1\n",
       "Nicolás Otamendi      1\n",
       "David Luiz            1\n",
       "Paul McGrath          1\n",
       "Thomas Vermaelen      1\n",
       "Toby Alderweireld     1\n",
       "Fabricio Coloccini    1\n",
       "Richard Dunne         1\n",
       "Jamie Carragher       1\n",
       "William Gallas        1\n",
       "Wes Brown             1\n",
       "Mark Wright           1\n",
       "Ugo Ehiogu            1\n",
       "Antonio Rüdiger       1\n",
       "Name: count, dtype: int64"
      ]
     },
     "execution_count": 116,
     "metadata": {},
     "output_type": "execute_result"
    }
   ],
   "source": [
    "centre_backs_data_frame = teams_data_frame[teams_data_frame['position'] == \"CB\"]\n",
    "most_appearances_by_centre_backs = centre_backs_data_frame['name'].value_counts()\n",
    "most_appearances_by_centre_backs"
   ]
  },
  {
   "cell_type": "markdown",
   "metadata": {},
   "source": [
    "## Left Backs"
   ]
  },
  {
   "cell_type": "code",
   "execution_count": 117,
   "metadata": {},
   "outputs": [
    {
     "data": {
      "text/plain": [
       "name\n",
       "Ashley Cole            4\n",
       "Patrice Evra           3\n",
       "Leighton Baines        2\n",
       "Graeme Le Saux         2\n",
       "Andrew Robertson       2\n",
       "Danny Rose             2\n",
       "Luke Shaw              2\n",
       "Denis Irwin            2\n",
       "Tony Dorigo            1\n",
       "Marcos Alonso          1\n",
       "Ryan Bertrand          1\n",
       "William Gallas         1\n",
       "Gaël Clichy            1\n",
       "Wayne Bridge           1\n",
       "Sylvinho               1\n",
       "Ian Harte              1\n",
       "Stig Inge Bjørnebye    1\n",
       "Alan Wright            1\n",
       "João Cancelo           1\n",
       "Name: count, dtype: int64"
      ]
     },
     "execution_count": 117,
     "metadata": {},
     "output_type": "execute_result"
    }
   ],
   "source": [
    "left_backs_data_frame = teams_data_frame[teams_data_frame['position'] == \"LB\"]\n",
    "most_appearances_by_left_backs = left_backs_data_frame['name'].value_counts()\n",
    "most_appearances_by_left_backs"
   ]
  },
  {
   "cell_type": "markdown",
   "metadata": {},
   "source": [
    "## Midfielders"
   ]
  },
  {
   "cell_type": "code",
   "execution_count": 118,
   "metadata": {},
   "outputs": [
    {
     "data": {
      "text/plain": [
       "name\n",
       "Steven Gerrard           8\n",
       "Ryan Giggs               6\n",
       "Patrick Vieira           6\n",
       "Roy Keane                5\n",
       "David Beckham            4\n",
       "Eden Hazard              4\n",
       "Cristiano Ronaldo        4\n",
       "Kevin De Bruyne          4\n",
       "David Silva              3\n",
       "Gareth Bale              3\n",
       "Frank Lampard            3\n",
       "Robert Pires             3\n",
       "Paul Ince                3\n",
       "David Batty              3\n",
       "David Ginola             2\n",
       "N'Golo Kanté             2\n",
       "Ashley Young             2\n",
       "Cesc Fàbregas            2\n",
       "Bernardo Silva           2\n",
       "Dele Alli                2\n",
       "Yaya Touré               2\n",
       "Paul Scholes             2\n",
       "Alexis Sánchez           1\n",
       "Christian Eriksen        1\n",
       "Bruno Fernandes          1\n",
       "Juan Mata                1\n",
       "Michael Carrick          1\n",
       "Sadio Mané               1\n",
       "Adam Lallana             1\n",
       "Nemanja Matić            1\n",
       "Jordan Henderson         1\n",
       "Fernandinho              1\n",
       "Dimitri Payet            1\n",
       "Philippe Coutinho        1\n",
       "Paul Pogba               1\n",
       "Riyad Mahrez             1\n",
       "Scott Parker             1\n",
       "İlkay Gündoğan           1\n",
       "Darren Fletcher          1\n",
       "Jack Wilshere            1\n",
       "Emmanuel Petit           1\n",
       "Gary McAllister          1\n",
       "Tim Sherwood             1\n",
       "Matt Le Tissier          1\n",
       "Steve Stone              1\n",
       "Rob Lee                  1\n",
       "Ruud Gullit              1\n",
       "Steve McManaman          1\n",
       "Nicky Butt               1\n",
       "Harry Kewell             1\n",
       "Samir Nasri              1\n",
       "Kieron Dyer              1\n",
       "Shaun Wright-Phillips    1\n",
       "Arjen Robben             1\n",
       "Joe Cole                 1\n",
       "Antonio Valencia         1\n",
       "Gary Speed               1\n",
       "James Milner             1\n",
       "Nani                     1\n",
       "Thiago                   1\n",
       "Name: count, dtype: int64"
      ]
     },
     "execution_count": 118,
     "metadata": {},
     "output_type": "execute_result"
    }
   ],
   "source": [
    "midfielders_data_frame = teams_data_frame[teams_data_frame['position'] == \"MF\"]\n",
    "most_appearances_by_midfielders = midfielders_data_frame['name'].value_counts()\n",
    "most_appearances_by_midfielders"
   ]
  },
  {
   "cell_type": "markdown",
   "metadata": {},
   "source": [
    "## Forwards"
   ]
  },
  {
   "cell_type": "code",
   "execution_count": 119,
   "metadata": {},
   "outputs": [
    {
     "data": {
      "text/plain": [
       "name\n",
       "Alan Shearer                 6\n",
       "Thierry Henry                6\n",
       "Harry Kane                   5\n",
       "Sadio Mané                   3\n",
       "Mohamed Salah                3\n",
       "Wayne Rooney                 3\n",
       "Sergio Agüero                2\n",
       "Jamie Vardy                  2\n",
       "Luis Suárez                  2\n",
       "Robin van Persie             2\n",
       "Fernando Torres              2\n",
       "Dimitar Berbatov             2\n",
       "Ian Wright                   2\n",
       "Ruud van Nistelrooy          2\n",
       "Didier Drogba                2\n",
       "Nicolas Anelka               2\n",
       "Teddy Sheringham             1\n",
       "Les Ferdinand                1\n",
       "Son Heung-min                1\n",
       "Pierre-Emerick Aubameyang    1\n",
       "Eric Cantona                 1\n",
       "Raheem Sterling              1\n",
       "Peter Beardsley              1\n",
       "Jürgen Klinsmann             1\n",
       "Romelu Lukaku                1\n",
       "Chris Sutton                 1\n",
       "Diego Costa                  1\n",
       "Andrew Johnson               1\n",
       "Daniel Sturridge             1\n",
       "Michael Owen                 1\n",
       "Dennis Bergkamp              1\n",
       "Carlos Tevez                 1\n",
       "Dwight Yorke                 1\n",
       "Emmanuel Adebayor            1\n",
       "Andy Cole                    1\n",
       "Kevin Phillips               1\n",
       "Cristiano Ronaldo            1\n",
       "Name: count, dtype: int64"
      ]
     },
     "execution_count": 119,
     "metadata": {},
     "output_type": "execute_result"
    }
   ],
   "source": [
    "forwards_data_frame = teams_data_frame[teams_data_frame['position'] == \"FW\"]\n",
    "most_appearances_by_forwards = forwards_data_frame['name'].value_counts()\n",
    "most_appearances_by_forwards"
   ]
  }
 ],
 "metadata": {
  "kernelspec": {
   "display_name": "Python 3",
   "language": "python",
   "name": "python3"
  },
  "language_info": {
   "codemirror_mode": {
    "name": "ipython",
    "version": 3
   },
   "file_extension": ".py",
   "mimetype": "text/x-python",
   "name": "python",
   "nbconvert_exporter": "python",
   "pygments_lexer": "ipython3",
   "version": "3.11.4"
  },
  "orig_nbformat": 4
 },
 "nbformat": 4,
 "nbformat_minor": 2
}
