{
 "cells": [
  {
   "cell_type": "markdown",
   "metadata": {},
   "source": [
    "# Super Bowl"
   ]
  },
  {
   "cell_type": "code",
   "execution_count": 7,
   "metadata": {},
   "outputs": [],
   "source": [
    "import pandas"
   ]
  },
  {
   "cell_type": "code",
   "execution_count": 8,
   "metadata": {},
   "outputs": [
    {
     "data": {
      "text/html": [
       "<div>\n",
       "<style scoped>\n",
       "    .dataframe tbody tr th:only-of-type {\n",
       "        vertical-align: middle;\n",
       "    }\n",
       "\n",
       "    .dataframe tbody tr th {\n",
       "        vertical-align: top;\n",
       "    }\n",
       "\n",
       "    .dataframe thead th {\n",
       "        text-align: right;\n",
       "    }\n",
       "</style>\n",
       "<table border=\"1\" class=\"dataframe\">\n",
       "  <thead>\n",
       "    <tr style=\"text-align: right;\">\n",
       "      <th></th>\n",
       "      <th>country</th>\n",
       "      <th>sport</th>\n",
       "      <th>year</th>\n",
       "      <th>champion</th>\n",
       "      <th>champion_conference</th>\n",
       "      <th>runner_up</th>\n",
       "      <th>runner_up_conference</th>\n",
       "    </tr>\n",
       "  </thead>\n",
       "  <tbody>\n",
       "    <tr>\n",
       "      <th>133</th>\n",
       "      <td>Australia</td>\n",
       "      <td>footy</td>\n",
       "      <td>1897</td>\n",
       "      <td>Essendon</td>\n",
       "      <td>Victoria</td>\n",
       "      <td>Geelong</td>\n",
       "      <td>Victoria</td>\n",
       "    </tr>\n",
       "    <tr>\n",
       "      <th>134</th>\n",
       "      <td>Australia</td>\n",
       "      <td>footy</td>\n",
       "      <td>1898</td>\n",
       "      <td>Fitzroy</td>\n",
       "      <td>Victoria</td>\n",
       "      <td>Essendon</td>\n",
       "      <td>Victoria</td>\n",
       "    </tr>\n",
       "    <tr>\n",
       "      <th>135</th>\n",
       "      <td>Australia</td>\n",
       "      <td>footy</td>\n",
       "      <td>1899</td>\n",
       "      <td>Fitzroy</td>\n",
       "      <td>Victoria</td>\n",
       "      <td>Sydney Swans</td>\n",
       "      <td>New South Wales</td>\n",
       "    </tr>\n",
       "    <tr>\n",
       "      <th>136</th>\n",
       "      <td>Australia</td>\n",
       "      <td>footy</td>\n",
       "      <td>1900</td>\n",
       "      <td>Melbourne</td>\n",
       "      <td>Victoria</td>\n",
       "      <td>Fitzroy</td>\n",
       "      <td>Victoria</td>\n",
       "    </tr>\n",
       "    <tr>\n",
       "      <th>137</th>\n",
       "      <td>Australia</td>\n",
       "      <td>footy</td>\n",
       "      <td>1901</td>\n",
       "      <td>Essendon</td>\n",
       "      <td>Victoria</td>\n",
       "      <td>Collingwood</td>\n",
       "      <td>Victoria</td>\n",
       "    </tr>\n",
       "    <tr>\n",
       "      <th>...</th>\n",
       "      <td>...</td>\n",
       "      <td>...</td>\n",
       "      <td>...</td>\n",
       "      <td>...</td>\n",
       "      <td>...</td>\n",
       "      <td>...</td>\n",
       "      <td>...</td>\n",
       "    </tr>\n",
       "    <tr>\n",
       "      <th>128</th>\n",
       "      <td>United States</td>\n",
       "      <td>basketball</td>\n",
       "      <td>2018</td>\n",
       "      <td>Golden State Warriors</td>\n",
       "      <td>western</td>\n",
       "      <td>Cleveland Cavaliers</td>\n",
       "      <td>eastern</td>\n",
       "    </tr>\n",
       "    <tr>\n",
       "      <th>129</th>\n",
       "      <td>United States</td>\n",
       "      <td>basketball</td>\n",
       "      <td>2019</td>\n",
       "      <td>Toronto Raptors</td>\n",
       "      <td>eastern</td>\n",
       "      <td>Golden State Warriors</td>\n",
       "      <td>western</td>\n",
       "    </tr>\n",
       "    <tr>\n",
       "      <th>130</th>\n",
       "      <td>United States</td>\n",
       "      <td>basketball</td>\n",
       "      <td>2020</td>\n",
       "      <td>Los Angeles Lakers</td>\n",
       "      <td>western</td>\n",
       "      <td>Miami Heat</td>\n",
       "      <td>eastern</td>\n",
       "    </tr>\n",
       "    <tr>\n",
       "      <th>131</th>\n",
       "      <td>United States</td>\n",
       "      <td>basketball</td>\n",
       "      <td>2021</td>\n",
       "      <td>Milwaukee Bucks</td>\n",
       "      <td>eastern</td>\n",
       "      <td>Phoenix Suns</td>\n",
       "      <td>western</td>\n",
       "    </tr>\n",
       "    <tr>\n",
       "      <th>132</th>\n",
       "      <td>United States</td>\n",
       "      <td>basketball</td>\n",
       "      <td>2022</td>\n",
       "      <td>Golden State Warriors</td>\n",
       "      <td>western</td>\n",
       "      <td>Boston Celtics</td>\n",
       "      <td>eastern</td>\n",
       "    </tr>\n",
       "  </tbody>\n",
       "</table>\n",
       "<p>259 rows × 7 columns</p>\n",
       "</div>"
      ],
      "text/plain": [
       "           country       sport  year               champion  \\\n",
       "133      Australia       footy  1897               Essendon   \n",
       "134      Australia       footy  1898                Fitzroy   \n",
       "135      Australia       footy  1899                Fitzroy   \n",
       "136      Australia       footy  1900              Melbourne   \n",
       "137      Australia       footy  1901               Essendon   \n",
       "..             ...         ...   ...                    ...   \n",
       "128  United States  basketball  2018  Golden State Warriors   \n",
       "129  United States  basketball  2019        Toronto Raptors   \n",
       "130  United States  basketball  2020     Los Angeles Lakers   \n",
       "131  United States  basketball  2021        Milwaukee Bucks   \n",
       "132  United States  basketball  2022  Golden State Warriors   \n",
       "\n",
       "    champion_conference              runner_up runner_up_conference  \n",
       "133            Victoria                Geelong             Victoria  \n",
       "134            Victoria               Essendon             Victoria  \n",
       "135            Victoria           Sydney Swans      New South Wales  \n",
       "136            Victoria                Fitzroy             Victoria  \n",
       "137            Victoria            Collingwood             Victoria  \n",
       "..                  ...                    ...                  ...  \n",
       "128             western    Cleveland Cavaliers              eastern  \n",
       "129             eastern  Golden State Warriors              western  \n",
       "130             western             Miami Heat              eastern  \n",
       "131             eastern           Phoenix Suns              western  \n",
       "132             western         Boston Celtics              eastern  \n",
       "\n",
       "[259 rows x 7 columns]"
      ]
     },
     "execution_count": 8,
     "metadata": {},
     "output_type": "execute_result"
    }
   ],
   "source": [
    "champions_data_frame = pandas.read_csv(\"./champions.csv\")\n",
    "champions_data_frame = champions_data_frame.sort_values(by=[\"country\", \"sport\", \"year\"])\n",
    "champions_data_frame"
   ]
  },
  {
   "cell_type": "code",
   "execution_count": 9,
   "metadata": {},
   "outputs": [
    {
     "data": {
      "text/plain": [
       "champion\n",
       "Los Angeles Lakers        17\n",
       "Boston Celtics            17\n",
       "Essendon                  16\n",
       "Carlton                   16\n",
       "Collingwood               15\n",
       "Melbourne                 13\n",
       "Richmond                  13\n",
       "Hawthorn                  13\n",
       "Geelong                   12\n",
       "Fitzroy                    8\n",
       "Golden State Warriors      7\n",
       "Pittsburgh Steelers        6\n",
       "Chicago Bulls              6\n",
       "New England Patriots       6\n",
       "Dallas Cowboys             5\n",
       "San Francisco 49ers        5\n",
       "San Antonio Spurs          5\n",
       "Green Bay Packers          4\n",
       "North Melbourne            4\n",
       "New York Giants            4\n",
       "West Coast                 4\n",
       "Philadelphia 76ers         3\n",
       "Detroit Pistons            3\n",
       "Washington Redskins        3\n",
       "Miami Heat                 3\n",
       "Denver Broncos             3\n",
       "Brisbane Lions             3\n",
       "Kansas City Chiefs         3\n",
       "Las Vegas Raiders          3\n",
       "Sydney Swans               3\n",
       "Baltimore Ravens           2\n",
       "Indianapolis Colts         2\n",
       "Tampa Bay Buccaneers       2\n",
       "Los Angeles Rams           2\n",
       "Western Bulldogs           2\n",
       "Houston Rockets            2\n",
       "Adelaide                   2\n",
       "Miami Dolphins             2\n",
       "New York Knicks            2\n",
       "Milwaukee Bucks            2\n",
       "Cleveland Cavaliers        1\n",
       "Dallas Mavericks           1\n",
       "Washington Wizards         1\n",
       "St Kilda                   1\n",
       "Oklahoma City Thunder      1\n",
       "Chicago Bears              1\n",
       "Portland Trail Blazers     1\n",
       "Atlanta Hawks              1\n",
       "Port Adelaide              1\n",
       "Sacramento Kings           1\n",
       "New York Jets              1\n",
       "Baltimore Bullets          1\n",
       "Philadelphia Eagles        1\n",
       "Seattle Seahawks           1\n",
       "New Orleans Saints         1\n",
       "Toronto Raptors            1\n",
       "Name: count, dtype: int64"
      ]
     },
     "execution_count": 9,
     "metadata": {},
     "output_type": "execute_result"
    }
   ],
   "source": [
    "champions = champions_data_frame[\"champion\"].value_counts()\n",
    "champions"
   ]
  },
  {
   "cell_type": "code",
   "execution_count": 10,
   "metadata": {},
   "outputs": [
    {
     "data": {
      "text/plain": [
       "champion_conference\n",
       "Victoria             110\n",
       "eastern               40\n",
       "western               36\n",
       "national              29\n",
       "american              28\n",
       "New South Wales        5\n",
       "Western Australia      4\n",
       "South Australia        3\n",
       "Queensland             3\n",
       "Name: count, dtype: int64"
      ]
     },
     "execution_count": 10,
     "metadata": {},
     "output_type": "execute_result"
    }
   ],
   "source": [
    "champions_conference = champions_data_frame[\"champion_conference\"].value_counts()\n",
    "champions_conference"
   ]
  },
  {
   "cell_type": "code",
   "execution_count": 11,
   "metadata": {},
   "outputs": [
    {
     "data": {
      "text/plain": [
       "runner_up\n",
       "Collingwood            27\n",
       "Los Angeles Lakers     15\n",
       "Essendon               14\n",
       "Sydney Swans           13\n",
       "Carlton                13\n",
       "                       ..\n",
       "Tennessee Titans        1\n",
       "New York Giants         1\n",
       "Washington Capitols     1\n",
       "Chicago Stags           1\n",
       "San Antonio Spurs       1\n",
       "Name: count, Length: 65, dtype: int64"
      ]
     },
     "execution_count": 11,
     "metadata": {},
     "output_type": "execute_result"
    }
   ],
   "source": [
    "runners_up = champions_data_frame[\"runner_up\"].value_counts()\n",
    "runners_up"
   ]
  },
  {
   "cell_type": "code",
   "execution_count": 12,
   "metadata": {},
   "outputs": [
    {
     "data": {
      "text/plain": [
       "runner_up_conference\n",
       "Victoria             105\n",
       "western               40\n",
       "eastern               36\n",
       "american              29\n",
       "national              28\n",
       "New South Wales       14\n",
       "Western Australia      4\n",
       "South Australia        2\n",
       "Queensland             1\n",
       "Name: count, dtype: int64"
      ]
     },
     "execution_count": 12,
     "metadata": {},
     "output_type": "execute_result"
    }
   ],
   "source": [
    "runners_up_conference = champions_data_frame[\"runner_up_conference\"].value_counts()\n",
    "runners_up_conference"
   ]
  }
 ],
 "metadata": {
  "kernelspec": {
   "display_name": "Python 3",
   "language": "python",
   "name": "python3"
  },
  "language_info": {
   "codemirror_mode": {
    "name": "ipython",
    "version": 3
   },
   "file_extension": ".py",
   "mimetype": "text/x-python",
   "name": "python",
   "nbconvert_exporter": "python",
   "pygments_lexer": "ipython3",
   "version": "3.11.6"
  },
  "orig_nbformat": 4
 },
 "nbformat": 4,
 "nbformat_minor": 2
}
