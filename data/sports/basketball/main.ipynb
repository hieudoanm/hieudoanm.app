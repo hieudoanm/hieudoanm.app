{
 "cells": [
  {
   "cell_type": "markdown",
   "metadata": {},
   "source": [
    "# NBA (National Basketball Association)"
   ]
  },
  {
   "cell_type": "code",
   "execution_count": 44,
   "metadata": {},
   "outputs": [],
   "source": [
    "import pandas"
   ]
  },
  {
   "cell_type": "code",
   "execution_count": 45,
   "metadata": {},
   "outputs": [
    {
     "data": {
      "text/html": [
       "<div>\n",
       "<style scoped>\n",
       "    .dataframe tbody tr th:only-of-type {\n",
       "        vertical-align: middle;\n",
       "    }\n",
       "\n",
       "    .dataframe tbody tr th {\n",
       "        vertical-align: top;\n",
       "    }\n",
       "\n",
       "    .dataframe thead th {\n",
       "        text-align: right;\n",
       "    }\n",
       "</style>\n",
       "<table border=\"1\" class=\"dataframe\">\n",
       "  <thead>\n",
       "    <tr style=\"text-align: right;\">\n",
       "      <th></th>\n",
       "      <th>year</th>\n",
       "      <th>champion</th>\n",
       "      <th>champion_conference</th>\n",
       "      <th>runner_up</th>\n",
       "      <th>runner_up_conference</th>\n",
       "    </tr>\n",
       "  </thead>\n",
       "  <tbody>\n",
       "    <tr>\n",
       "      <th>0</th>\n",
       "      <td>1947</td>\n",
       "      <td>Golden State Warriors</td>\n",
       "      <td>eastern</td>\n",
       "      <td>Chicago Stags</td>\n",
       "      <td>western</td>\n",
       "    </tr>\n",
       "    <tr>\n",
       "      <th>1</th>\n",
       "      <td>1948</td>\n",
       "      <td>Baltimore Bullets</td>\n",
       "      <td>western</td>\n",
       "      <td>Golden State Warriors</td>\n",
       "      <td>eastern</td>\n",
       "    </tr>\n",
       "    <tr>\n",
       "      <th>2</th>\n",
       "      <td>1949</td>\n",
       "      <td>Los Angeles Lakers</td>\n",
       "      <td>western</td>\n",
       "      <td>Washington Capitols</td>\n",
       "      <td>eastern</td>\n",
       "    </tr>\n",
       "    <tr>\n",
       "      <th>3</th>\n",
       "      <td>1950</td>\n",
       "      <td>Los Angeles Lakers</td>\n",
       "      <td>western</td>\n",
       "      <td>Philadelphia 76ers</td>\n",
       "      <td>eastern</td>\n",
       "    </tr>\n",
       "    <tr>\n",
       "      <th>4</th>\n",
       "      <td>1951</td>\n",
       "      <td>Sacramento Kings</td>\n",
       "      <td>western</td>\n",
       "      <td>New York Knicks</td>\n",
       "      <td>eastern</td>\n",
       "    </tr>\n",
       "    <tr>\n",
       "      <th>...</th>\n",
       "      <td>...</td>\n",
       "      <td>...</td>\n",
       "      <td>...</td>\n",
       "      <td>...</td>\n",
       "      <td>...</td>\n",
       "    </tr>\n",
       "    <tr>\n",
       "      <th>71</th>\n",
       "      <td>2018</td>\n",
       "      <td>Golden State Warriors</td>\n",
       "      <td>western</td>\n",
       "      <td>Cleveland Cavaliers</td>\n",
       "      <td>eastern</td>\n",
       "    </tr>\n",
       "    <tr>\n",
       "      <th>72</th>\n",
       "      <td>2019</td>\n",
       "      <td>Toronto Raptors</td>\n",
       "      <td>eastern</td>\n",
       "      <td>Golden State Warriors</td>\n",
       "      <td>western</td>\n",
       "    </tr>\n",
       "    <tr>\n",
       "      <th>73</th>\n",
       "      <td>2020</td>\n",
       "      <td>Los Angeles Lakers</td>\n",
       "      <td>western</td>\n",
       "      <td>Miami Heat</td>\n",
       "      <td>eastern</td>\n",
       "    </tr>\n",
       "    <tr>\n",
       "      <th>74</th>\n",
       "      <td>2021</td>\n",
       "      <td>Milwaukee Bucks</td>\n",
       "      <td>eastern</td>\n",
       "      <td>Phoenix Suns</td>\n",
       "      <td>western</td>\n",
       "    </tr>\n",
       "    <tr>\n",
       "      <th>75</th>\n",
       "      <td>2022</td>\n",
       "      <td>Golden State Warriors</td>\n",
       "      <td>western</td>\n",
       "      <td>Boston Celtics</td>\n",
       "      <td>eastern</td>\n",
       "    </tr>\n",
       "  </tbody>\n",
       "</table>\n",
       "<p>76 rows × 5 columns</p>\n",
       "</div>"
      ],
      "text/plain": [
       "    year               champion champion_conference              runner_up  \\\n",
       "0   1947  Golden State Warriors             eastern          Chicago Stags   \n",
       "1   1948      Baltimore Bullets             western  Golden State Warriors   \n",
       "2   1949     Los Angeles Lakers             western    Washington Capitols   \n",
       "3   1950     Los Angeles Lakers             western     Philadelphia 76ers   \n",
       "4   1951       Sacramento Kings             western        New York Knicks   \n",
       "..   ...                    ...                 ...                    ...   \n",
       "71  2018  Golden State Warriors             western    Cleveland Cavaliers   \n",
       "72  2019        Toronto Raptors             eastern  Golden State Warriors   \n",
       "73  2020     Los Angeles Lakers             western             Miami Heat   \n",
       "74  2021        Milwaukee Bucks             eastern           Phoenix Suns   \n",
       "75  2022  Golden State Warriors             western         Boston Celtics   \n",
       "\n",
       "   runner_up_conference  \n",
       "0               western  \n",
       "1               eastern  \n",
       "2               eastern  \n",
       "3               eastern  \n",
       "4               eastern  \n",
       "..                  ...  \n",
       "71              eastern  \n",
       "72              western  \n",
       "73              eastern  \n",
       "74              western  \n",
       "75              eastern  \n",
       "\n",
       "[76 rows x 5 columns]"
      ]
     },
     "execution_count": 45,
     "metadata": {},
     "output_type": "execute_result"
    }
   ],
   "source": [
    "champions_data_frame = pandas.read_csv(\"./champions.csv\")\n",
    "champions_data_frame"
   ]
  },
  {
   "cell_type": "code",
   "execution_count": 46,
   "metadata": {},
   "outputs": [
    {
     "data": {
      "text/plain": [
       "champion\n",
       "Los Angeles Lakers        17\n",
       "Boston Celtics            17\n",
       "Golden State Warriors      7\n",
       "Chicago Bulls              6\n",
       "San Antonio Spurs          5\n",
       "Philadelphia 76ers         3\n",
       "Miami Heat                 3\n",
       "Detroit Pistons            3\n",
       "New York Knicks            2\n",
       "Milwaukee Bucks            2\n",
       "Houston Rockets            2\n",
       "Cleveland Cavaliers        1\n",
       "Dallas Mavericks           1\n",
       "Washington Wizards         1\n",
       "Oklahoma City Thunder      1\n",
       "Baltimore Bullets          1\n",
       "Portland Trail Blazers     1\n",
       "Atlanta Hawks              1\n",
       "Sacramento Kings           1\n",
       "Toronto Raptors            1\n",
       "Name: count, dtype: int64"
      ]
     },
     "execution_count": 46,
     "metadata": {},
     "output_type": "execute_result"
    }
   ],
   "source": [
    "champions = champions_data_frame[\"champion\"].value_counts()\n",
    "champions"
   ]
  },
  {
   "cell_type": "code",
   "execution_count": 47,
   "metadata": {},
   "outputs": [
    {
     "data": {
      "text/plain": [
       "champion_conference\n",
       "eastern    40\n",
       "western    36\n",
       "Name: count, dtype: int64"
      ]
     },
     "execution_count": 47,
     "metadata": {},
     "output_type": "execute_result"
    }
   ],
   "source": [
    "champions_conference = champions_data_frame[\"champion_conference\"].value_counts()\n",
    "champions_conference"
   ]
  },
  {
   "cell_type": "code",
   "execution_count": 48,
   "metadata": {},
   "outputs": [
    {
     "data": {
      "text/plain": [
       "runner_up\n",
       "Los Angeles Lakers        15\n",
       "Philadelphia 76ers         6\n",
       "New York Knicks            6\n",
       "Golden State Warriors      5\n",
       "Boston Celtics             5\n",
       "Cleveland Cavaliers        4\n",
       "Detroit Pistons            4\n",
       "Phoenix Suns               3\n",
       "Oklahoma City Thunder      3\n",
       "Washington Wizards         3\n",
       "Atlanta Hawks              3\n",
       "Miami Heat                 3\n",
       "Brooklyn Nets              2\n",
       "Houston Rockets            2\n",
       "Portland Trail Blazers     2\n",
       "Orlando Magic              2\n",
       "Utah Jazz                  2\n",
       "Dallas Mavericks           1\n",
       "Chicago Stags              1\n",
       "Indiana Pacers             1\n",
       "Milwaukee Bucks            1\n",
       "Washington Capitols        1\n",
       "San Antonio Spurs          1\n",
       "Name: count, dtype: int64"
      ]
     },
     "execution_count": 48,
     "metadata": {},
     "output_type": "execute_result"
    }
   ],
   "source": [
    "runners_up = champions_data_frame[\"runner_up\"].value_counts()\n",
    "runners_up"
   ]
  },
  {
   "cell_type": "code",
   "execution_count": 49,
   "metadata": {},
   "outputs": [
    {
     "data": {
      "text/plain": [
       "runner_up_conference\n",
       "western    40\n",
       "eastern    36\n",
       "Name: count, dtype: int64"
      ]
     },
     "execution_count": 49,
     "metadata": {},
     "output_type": "execute_result"
    }
   ],
   "source": [
    "runners_up_conference = champions_data_frame[\"runner_up_conference\"].value_counts()\n",
    "runners_up_conference"
   ]
  }
 ],
 "metadata": {
  "kernelspec": {
   "display_name": "Python 3",
   "language": "python",
   "name": "python3"
  },
  "language_info": {
   "codemirror_mode": {
    "name": "ipython",
    "version": 3
   },
   "file_extension": ".py",
   "mimetype": "text/x-python",
   "name": "python",
   "nbconvert_exporter": "python",
   "pygments_lexer": "ipython3",
   "version": "3.11.4"
  },
  "orig_nbformat": 4
 },
 "nbformat": 4,
 "nbformat_minor": 2
}
