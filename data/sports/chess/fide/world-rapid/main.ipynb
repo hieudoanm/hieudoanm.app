{
 "cells": [
  {
   "cell_type": "code",
   "execution_count": 1,
   "metadata": {},
   "outputs": [],
   "source": [
    "import pandas"
   ]
  },
  {
   "cell_type": "code",
   "execution_count": 2,
   "metadata": {},
   "outputs": [
    {
     "data": {
      "text/html": [
       "<div>\n",
       "<style scoped>\n",
       "    .dataframe tbody tr th:only-of-type {\n",
       "        vertical-align: middle;\n",
       "    }\n",
       "\n",
       "    .dataframe tbody tr th {\n",
       "        vertical-align: top;\n",
       "    }\n",
       "\n",
       "    .dataframe thead th {\n",
       "        text-align: right;\n",
       "    }\n",
       "</style>\n",
       "<table border=\"1\" class=\"dataframe\">\n",
       "  <thead>\n",
       "    <tr style=\"text-align: right;\">\n",
       "      <th></th>\n",
       "      <th>year</th>\n",
       "      <th>host_city</th>\n",
       "      <th>host_country</th>\n",
       "      <th>champion</th>\n",
       "      <th>runner_up</th>\n",
       "      <th>third_place</th>\n",
       "    </tr>\n",
       "  </thead>\n",
       "  <tbody>\n",
       "    <tr>\n",
       "      <th>0</th>\n",
       "      <td>2012</td>\n",
       "      <td>Astana</td>\n",
       "      <td>Kazakhstan</td>\n",
       "      <td>Sergey Karjakin</td>\n",
       "      <td>Magnus Carlsen</td>\n",
       "      <td>Veselin Topalov</td>\n",
       "    </tr>\n",
       "    <tr>\n",
       "      <th>1</th>\n",
       "      <td>2013</td>\n",
       "      <td>Khanty-Mansiysk</td>\n",
       "      <td>Russia</td>\n",
       "      <td>Shakhriyar Mamedyarov</td>\n",
       "      <td>Ian Nepomniachtchi</td>\n",
       "      <td>Alexander Grischuk</td>\n",
       "    </tr>\n",
       "    <tr>\n",
       "      <th>2</th>\n",
       "      <td>2014</td>\n",
       "      <td>Dubai</td>\n",
       "      <td>United Arab Emirates</td>\n",
       "      <td>Magnus Carlsen</td>\n",
       "      <td>Fabiano Caruana</td>\n",
       "      <td>Viswanathan Anand</td>\n",
       "    </tr>\n",
       "    <tr>\n",
       "      <th>3</th>\n",
       "      <td>2015</td>\n",
       "      <td>Berlin</td>\n",
       "      <td>Germany</td>\n",
       "      <td>Magnus Carlsen</td>\n",
       "      <td>Ian Nepomniachtchi</td>\n",
       "      <td>Teimour Radjabov</td>\n",
       "    </tr>\n",
       "    <tr>\n",
       "      <th>4</th>\n",
       "      <td>2016</td>\n",
       "      <td>Doha</td>\n",
       "      <td>Qatar</td>\n",
       "      <td>Vasyl Ivanchuk</td>\n",
       "      <td>Alexander Grischuk</td>\n",
       "      <td>Magnus Carlsen</td>\n",
       "    </tr>\n",
       "    <tr>\n",
       "      <th>5</th>\n",
       "      <td>2017</td>\n",
       "      <td>Riyadh</td>\n",
       "      <td>Saudi Arabia</td>\n",
       "      <td>Viswanathan Anand</td>\n",
       "      <td>Vladimir Fedoseev</td>\n",
       "      <td>Ian Nepomniachtchi</td>\n",
       "    </tr>\n",
       "    <tr>\n",
       "      <th>6</th>\n",
       "      <td>2018</td>\n",
       "      <td>Saint Petersburg</td>\n",
       "      <td>Russia</td>\n",
       "      <td>Daniil Dubov</td>\n",
       "      <td>Shakhriyar Mamedyarov</td>\n",
       "      <td>Hikaru Nakamura</td>\n",
       "    </tr>\n",
       "    <tr>\n",
       "      <th>7</th>\n",
       "      <td>2019</td>\n",
       "      <td>Moscow</td>\n",
       "      <td>Russia</td>\n",
       "      <td>Magnus Carlsen</td>\n",
       "      <td>Alireza Firouzja</td>\n",
       "      <td>Hikaru Nakamura</td>\n",
       "    </tr>\n",
       "    <tr>\n",
       "      <th>8</th>\n",
       "      <td>2021</td>\n",
       "      <td>Warsaw</td>\n",
       "      <td>Poland</td>\n",
       "      <td>Nodirbek Abdusattorov</td>\n",
       "      <td>Ian Nepomniachtchi</td>\n",
       "      <td>Magnus Carlsen</td>\n",
       "    </tr>\n",
       "    <tr>\n",
       "      <th>9</th>\n",
       "      <td>2022</td>\n",
       "      <td>Almaty</td>\n",
       "      <td>Kazakhstan</td>\n",
       "      <td>Magnus Carlsen</td>\n",
       "      <td>Vincent Keymer</td>\n",
       "      <td>Fabiano Caruana</td>\n",
       "    </tr>\n",
       "  </tbody>\n",
       "</table>\n",
       "</div>"
      ],
      "text/plain": [
       "   year         host_city          host_country               champion  \\\n",
       "0  2012            Astana            Kazakhstan        Sergey Karjakin   \n",
       "1  2013   Khanty-Mansiysk                Russia  Shakhriyar Mamedyarov   \n",
       "2  2014             Dubai  United Arab Emirates         Magnus Carlsen   \n",
       "3  2015            Berlin               Germany         Magnus Carlsen   \n",
       "4  2016              Doha                 Qatar         Vasyl Ivanchuk   \n",
       "5  2017            Riyadh          Saudi Arabia      Viswanathan Anand   \n",
       "6  2018  Saint Petersburg                Russia           Daniil Dubov   \n",
       "7  2019            Moscow                Russia         Magnus Carlsen   \n",
       "8  2021            Warsaw                Poland  Nodirbek Abdusattorov   \n",
       "9  2022            Almaty            Kazakhstan         Magnus Carlsen   \n",
       "\n",
       "               runner_up         third_place  \n",
       "0         Magnus Carlsen     Veselin Topalov  \n",
       "1     Ian Nepomniachtchi  Alexander Grischuk  \n",
       "2        Fabiano Caruana   Viswanathan Anand  \n",
       "3     Ian Nepomniachtchi    Teimour Radjabov  \n",
       "4     Alexander Grischuk      Magnus Carlsen  \n",
       "5      Vladimir Fedoseev  Ian Nepomniachtchi  \n",
       "6  Shakhriyar Mamedyarov     Hikaru Nakamura  \n",
       "7       Alireza Firouzja     Hikaru Nakamura  \n",
       "8     Ian Nepomniachtchi      Magnus Carlsen  \n",
       "9         Vincent Keymer     Fabiano Caruana  "
      ]
     },
     "execution_count": 2,
     "metadata": {},
     "output_type": "execute_result"
    }
   ],
   "source": [
    "world_rapid_data_frame = pandas.read_csv(\"./champions.csv\")\n",
    "world_rapid_data_frame"
   ]
  },
  {
   "cell_type": "code",
   "execution_count": 3,
   "metadata": {},
   "outputs": [
    {
     "data": {
      "text/plain": [
       "host_country\n",
       "Russia                  3\n",
       "Kazakhstan              2\n",
       "United Arab Emirates    1\n",
       "Germany                 1\n",
       "Qatar                   1\n",
       "Saudi Arabia            1\n",
       "Poland                  1\n",
       "Name: count, dtype: int64"
      ]
     },
     "execution_count": 3,
     "metadata": {},
     "output_type": "execute_result"
    }
   ],
   "source": [
    "host_countries = world_rapid_data_frame['host_country'].value_counts()\n",
    "host_countries"
   ]
  },
  {
   "cell_type": "code",
   "execution_count": 4,
   "metadata": {},
   "outputs": [
    {
     "data": {
      "text/plain": [
       "host_city\n",
       "Astana              1\n",
       "Khanty-Mansiysk     1\n",
       "Dubai               1\n",
       "Berlin              1\n",
       "Doha                1\n",
       "Riyadh              1\n",
       "Saint Petersburg    1\n",
       "Moscow              1\n",
       "Warsaw              1\n",
       "Almaty              1\n",
       "Name: count, dtype: int64"
      ]
     },
     "execution_count": 4,
     "metadata": {},
     "output_type": "execute_result"
    }
   ],
   "source": [
    "host_cities = world_rapid_data_frame['host_city'].value_counts()\n",
    "host_cities"
   ]
  },
  {
   "cell_type": "code",
   "execution_count": 5,
   "metadata": {},
   "outputs": [
    {
     "data": {
      "text/plain": [
       "champion\n",
       "Magnus Carlsen           4\n",
       "Sergey Karjakin          1\n",
       "Shakhriyar Mamedyarov    1\n",
       "Vasyl Ivanchuk           1\n",
       "Viswanathan Anand        1\n",
       "Daniil Dubov             1\n",
       "Nodirbek Abdusattorov    1\n",
       "Name: count, dtype: int64"
      ]
     },
     "execution_count": 5,
     "metadata": {},
     "output_type": "execute_result"
    }
   ],
   "source": [
    "champions = world_rapid_data_frame['champion'].value_counts()\n",
    "champions"
   ]
  },
  {
   "cell_type": "code",
   "execution_count": 6,
   "metadata": {},
   "outputs": [
    {
     "data": {
      "text/plain": [
       "runner_up\n",
       "Ian Nepomniachtchi       3\n",
       "Magnus Carlsen           1\n",
       "Fabiano Caruana          1\n",
       "Alexander Grischuk       1\n",
       "Vladimir Fedoseev        1\n",
       "Shakhriyar Mamedyarov    1\n",
       "Alireza Firouzja         1\n",
       "Vincent Keymer           1\n",
       "Name: count, dtype: int64"
      ]
     },
     "execution_count": 6,
     "metadata": {},
     "output_type": "execute_result"
    }
   ],
   "source": [
    "runners_up = world_rapid_data_frame['runner_up'].value_counts()\n",
    "runners_up"
   ]
  }
 ],
 "metadata": {
  "kernelspec": {
   "display_name": "Python 3",
   "language": "python",
   "name": "python3"
  },
  "language_info": {
   "codemirror_mode": {
    "name": "ipython",
    "version": 3
   },
   "file_extension": ".py",
   "mimetype": "text/x-python",
   "name": "python",
   "nbconvert_exporter": "python",
   "pygments_lexer": "ipython3",
   "version": "3.11.4"
  },
  "orig_nbformat": 4
 },
 "nbformat": 4,
 "nbformat_minor": 2
}
