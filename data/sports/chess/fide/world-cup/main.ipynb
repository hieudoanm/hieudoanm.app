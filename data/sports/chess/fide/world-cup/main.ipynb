{
 "cells": [
  {
   "cell_type": "code",
   "execution_count": 1,
   "metadata": {},
   "outputs": [],
   "source": [
    "import pandas"
   ]
  },
  {
   "cell_type": "code",
   "execution_count": 2,
   "metadata": {},
   "outputs": [
    {
     "data": {
      "text/html": [
       "<div>\n",
       "<style scoped>\n",
       "    .dataframe tbody tr th:only-of-type {\n",
       "        vertical-align: middle;\n",
       "    }\n",
       "\n",
       "    .dataframe tbody tr th {\n",
       "        vertical-align: top;\n",
       "    }\n",
       "\n",
       "    .dataframe thead th {\n",
       "        text-align: right;\n",
       "    }\n",
       "</style>\n",
       "<table border=\"1\" class=\"dataframe\">\n",
       "  <thead>\n",
       "    <tr style=\"text-align: right;\">\n",
       "      <th></th>\n",
       "      <th>year</th>\n",
       "      <th>host_city</th>\n",
       "      <th>host_country</th>\n",
       "      <th>champion</th>\n",
       "      <th>champion_country</th>\n",
       "      <th>runner_up</th>\n",
       "      <th>runner_up_country</th>\n",
       "    </tr>\n",
       "  </thead>\n",
       "  <tbody>\n",
       "    <tr>\n",
       "      <th>0</th>\n",
       "      <td>2005</td>\n",
       "      <td>Khanty-Mansiysk</td>\n",
       "      <td>Russia</td>\n",
       "      <td>Levon Aronian</td>\n",
       "      <td>Armenia</td>\n",
       "      <td>Ruslan Ponomariov</td>\n",
       "      <td>Ukraine</td>\n",
       "    </tr>\n",
       "    <tr>\n",
       "      <th>1</th>\n",
       "      <td>2007</td>\n",
       "      <td>Khanty-Mansiysk</td>\n",
       "      <td>Russia</td>\n",
       "      <td>Gata Kamsky</td>\n",
       "      <td>United States</td>\n",
       "      <td>Alexei Shirov</td>\n",
       "      <td>Spain</td>\n",
       "    </tr>\n",
       "    <tr>\n",
       "      <th>2</th>\n",
       "      <td>2009</td>\n",
       "      <td>Khanty-Mansiysk</td>\n",
       "      <td>Russia</td>\n",
       "      <td>Boris Gelfand</td>\n",
       "      <td>Israel</td>\n",
       "      <td>Ruslan Ponomariov</td>\n",
       "      <td>Ukraine</td>\n",
       "    </tr>\n",
       "    <tr>\n",
       "      <th>3</th>\n",
       "      <td>2011</td>\n",
       "      <td>Khanty-Mansiysk</td>\n",
       "      <td>Russia</td>\n",
       "      <td>Peter Svidler</td>\n",
       "      <td>Russia</td>\n",
       "      <td>Alexander Grischuk</td>\n",
       "      <td>Russia</td>\n",
       "    </tr>\n",
       "    <tr>\n",
       "      <th>4</th>\n",
       "      <td>2013</td>\n",
       "      <td>Tromsø</td>\n",
       "      <td>Norway</td>\n",
       "      <td>Vladimir Kramnik</td>\n",
       "      <td>Russia</td>\n",
       "      <td>Dmitry Andreikin</td>\n",
       "      <td>Russia</td>\n",
       "    </tr>\n",
       "    <tr>\n",
       "      <th>5</th>\n",
       "      <td>2015</td>\n",
       "      <td>Baku</td>\n",
       "      <td>Azerbaijan</td>\n",
       "      <td>Sergey Karjakin</td>\n",
       "      <td>Russia</td>\n",
       "      <td>Peter Svidler</td>\n",
       "      <td>Russia</td>\n",
       "    </tr>\n",
       "    <tr>\n",
       "      <th>6</th>\n",
       "      <td>2017</td>\n",
       "      <td>Tbilisi</td>\n",
       "      <td>Georgia</td>\n",
       "      <td>Levon Aronian</td>\n",
       "      <td>Armenia</td>\n",
       "      <td>Ding Liren</td>\n",
       "      <td>China</td>\n",
       "    </tr>\n",
       "    <tr>\n",
       "      <th>7</th>\n",
       "      <td>2019</td>\n",
       "      <td>Khanty-Mansiysk</td>\n",
       "      <td>Russia</td>\n",
       "      <td>Teimour Radjabov</td>\n",
       "      <td>Azerbaijan</td>\n",
       "      <td>Ding Liren</td>\n",
       "      <td>China</td>\n",
       "    </tr>\n",
       "    <tr>\n",
       "      <th>8</th>\n",
       "      <td>2021</td>\n",
       "      <td>Sochi</td>\n",
       "      <td>Russia</td>\n",
       "      <td>Jan-Krzysztof Duda</td>\n",
       "      <td>Poland</td>\n",
       "      <td>Sergey Karjakin</td>\n",
       "      <td>Russia</td>\n",
       "    </tr>\n",
       "  </tbody>\n",
       "</table>\n",
       "</div>"
      ],
      "text/plain": [
       "   year        host_city host_country            champion champion_country  \\\n",
       "0  2005  Khanty-Mansiysk       Russia       Levon Aronian          Armenia   \n",
       "1  2007  Khanty-Mansiysk       Russia         Gata Kamsky    United States   \n",
       "2  2009  Khanty-Mansiysk       Russia       Boris Gelfand           Israel   \n",
       "3  2011  Khanty-Mansiysk       Russia       Peter Svidler           Russia   \n",
       "4  2013           Tromsø       Norway    Vladimir Kramnik           Russia   \n",
       "5  2015             Baku   Azerbaijan     Sergey Karjakin           Russia   \n",
       "6  2017          Tbilisi      Georgia       Levon Aronian          Armenia   \n",
       "7  2019  Khanty-Mansiysk       Russia    Teimour Radjabov       Azerbaijan   \n",
       "8  2021            Sochi       Russia  Jan-Krzysztof Duda           Poland   \n",
       "\n",
       "            runner_up runner_up_country  \n",
       "0   Ruslan Ponomariov           Ukraine  \n",
       "1       Alexei Shirov             Spain  \n",
       "2   Ruslan Ponomariov           Ukraine  \n",
       "3  Alexander Grischuk            Russia  \n",
       "4    Dmitry Andreikin            Russia  \n",
       "5       Peter Svidler            Russia  \n",
       "6          Ding Liren             China  \n",
       "7          Ding Liren             China  \n",
       "8     Sergey Karjakin            Russia  "
      ]
     },
     "execution_count": 2,
     "metadata": {},
     "output_type": "execute_result"
    }
   ],
   "source": [
    "world_cup_data_frame = pandas.read_csv(\"./champions.csv\")\n",
    "world_cup_data_frame"
   ]
  },
  {
   "cell_type": "code",
   "execution_count": 3,
   "metadata": {},
   "outputs": [
    {
     "data": {
      "text/plain": [
       "host_country\n",
       "Russia        6\n",
       "Norway        1\n",
       "Azerbaijan    1\n",
       "Georgia       1\n",
       "Name: count, dtype: int64"
      ]
     },
     "execution_count": 3,
     "metadata": {},
     "output_type": "execute_result"
    }
   ],
   "source": [
    "host_countries = world_cup_data_frame['host_country'].value_counts()\n",
    "host_countries"
   ]
  },
  {
   "cell_type": "code",
   "execution_count": 4,
   "metadata": {},
   "outputs": [
    {
     "data": {
      "text/plain": [
       "host_city\n",
       "Khanty-Mansiysk    5\n",
       "Tromsø             1\n",
       "Baku               1\n",
       "Tbilisi            1\n",
       "Sochi              1\n",
       "Name: count, dtype: int64"
      ]
     },
     "execution_count": 4,
     "metadata": {},
     "output_type": "execute_result"
    }
   ],
   "source": [
    "host_cities = world_cup_data_frame['host_city'].value_counts()\n",
    "host_cities"
   ]
  },
  {
   "cell_type": "code",
   "execution_count": 5,
   "metadata": {},
   "outputs": [
    {
     "data": {
      "text/plain": [
       "champion\n",
       "Levon Aronian         2\n",
       "Gata Kamsky           1\n",
       "Boris Gelfand         1\n",
       "Peter Svidler         1\n",
       "Vladimir Kramnik      1\n",
       "Sergey Karjakin       1\n",
       "Teimour Radjabov      1\n",
       "Jan-Krzysztof Duda    1\n",
       "Name: count, dtype: int64"
      ]
     },
     "execution_count": 5,
     "metadata": {},
     "output_type": "execute_result"
    }
   ],
   "source": [
    "champions = world_cup_data_frame['champion'].value_counts()\n",
    "champions"
   ]
  },
  {
   "cell_type": "code",
   "execution_count": 6,
   "metadata": {},
   "outputs": [
    {
     "data": {
      "text/plain": [
       "runner_up\n",
       "Ruslan Ponomariov     2\n",
       "Ding Liren            2\n",
       "Alexei Shirov         1\n",
       "Alexander Grischuk    1\n",
       "Dmitry Andreikin      1\n",
       "Peter Svidler         1\n",
       "Sergey Karjakin       1\n",
       "Name: count, dtype: int64"
      ]
     },
     "execution_count": 6,
     "metadata": {},
     "output_type": "execute_result"
    }
   ],
   "source": [
    "runners_up = world_cup_data_frame['runner_up'].value_counts()\n",
    "runners_up"
   ]
  }
 ],
 "metadata": {
  "kernelspec": {
   "display_name": "Python 3",
   "language": "python",
   "name": "python3"
  },
  "language_info": {
   "codemirror_mode": {
    "name": "ipython",
    "version": 3
   },
   "file_extension": ".py",
   "mimetype": "text/x-python",
   "name": "python",
   "nbconvert_exporter": "python",
   "pygments_lexer": "ipython3",
   "version": "3.11.4"
  },
  "orig_nbformat": 4
 },
 "nbformat": 4,
 "nbformat_minor": 2
}
