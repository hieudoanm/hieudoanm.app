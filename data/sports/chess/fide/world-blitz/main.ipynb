{
 "cells": [
  {
   "cell_type": "code",
   "execution_count": 1,
   "metadata": {},
   "outputs": [],
   "source": [
    "import pandas"
   ]
  },
  {
   "cell_type": "code",
   "execution_count": 2,
   "metadata": {},
   "outputs": [
    {
     "data": {
      "text/html": [
       "<div>\n",
       "<style scoped>\n",
       "    .dataframe tbody tr th:only-of-type {\n",
       "        vertical-align: middle;\n",
       "    }\n",
       "\n",
       "    .dataframe tbody tr th {\n",
       "        vertical-align: top;\n",
       "    }\n",
       "\n",
       "    .dataframe thead th {\n",
       "        text-align: right;\n",
       "    }\n",
       "</style>\n",
       "<table border=\"1\" class=\"dataframe\">\n",
       "  <thead>\n",
       "    <tr style=\"text-align: right;\">\n",
       "      <th></th>\n",
       "      <th>year</th>\n",
       "      <th>host_city</th>\n",
       "      <th>host_country</th>\n",
       "      <th>champion</th>\n",
       "      <th>runner_up</th>\n",
       "    </tr>\n",
       "  </thead>\n",
       "  <tbody>\n",
       "    <tr>\n",
       "      <th>0</th>\n",
       "      <td>2006</td>\n",
       "      <td>Rishon Lezion</td>\n",
       "      <td>Israel</td>\n",
       "      <td>Alexander Grischuk</td>\n",
       "      <td>Peter Svidler</td>\n",
       "    </tr>\n",
       "    <tr>\n",
       "      <th>1</th>\n",
       "      <td>2007</td>\n",
       "      <td>Moscow</td>\n",
       "      <td>Russia</td>\n",
       "      <td>Vasyl Ivanchuk</td>\n",
       "      <td>Viswanathan Anand</td>\n",
       "    </tr>\n",
       "    <tr>\n",
       "      <th>2</th>\n",
       "      <td>2008</td>\n",
       "      <td>Almaty</td>\n",
       "      <td>Kazakhstan</td>\n",
       "      <td>Leinier Domínguez</td>\n",
       "      <td>Vasyl Ivanchuk</td>\n",
       "    </tr>\n",
       "    <tr>\n",
       "      <th>3</th>\n",
       "      <td>2009</td>\n",
       "      <td>Moscow</td>\n",
       "      <td>Russia</td>\n",
       "      <td>Magnus Carlsen</td>\n",
       "      <td>Viswanathan Anand</td>\n",
       "    </tr>\n",
       "    <tr>\n",
       "      <th>4</th>\n",
       "      <td>2010</td>\n",
       "      <td>Moscow</td>\n",
       "      <td>Russia</td>\n",
       "      <td>Levon Aronian</td>\n",
       "      <td>Teimour Radjabov</td>\n",
       "    </tr>\n",
       "    <tr>\n",
       "      <th>5</th>\n",
       "      <td>2012</td>\n",
       "      <td>Astana</td>\n",
       "      <td>Kazakhstan</td>\n",
       "      <td>Alexander Grischuk</td>\n",
       "      <td>Magnus Carlsen</td>\n",
       "    </tr>\n",
       "    <tr>\n",
       "      <th>6</th>\n",
       "      <td>2013</td>\n",
       "      <td>Khanty-Mansiysk</td>\n",
       "      <td>Russia</td>\n",
       "      <td>Lê Quang Liêm</td>\n",
       "      <td>Alexander Grischuk</td>\n",
       "    </tr>\n",
       "    <tr>\n",
       "      <th>7</th>\n",
       "      <td>2014</td>\n",
       "      <td>Dubai</td>\n",
       "      <td>United Arab Emirates</td>\n",
       "      <td>Magnus Carlsen</td>\n",
       "      <td>Ian Nepomniachtchi</td>\n",
       "    </tr>\n",
       "    <tr>\n",
       "      <th>8</th>\n",
       "      <td>2015</td>\n",
       "      <td>Berlin</td>\n",
       "      <td>Germany</td>\n",
       "      <td>Alexander Grischuk</td>\n",
       "      <td>Maxime Vachier-Lagrave</td>\n",
       "    </tr>\n",
       "    <tr>\n",
       "      <th>9</th>\n",
       "      <td>2016</td>\n",
       "      <td>Doha</td>\n",
       "      <td>Qatar</td>\n",
       "      <td>Sergey Karjakin</td>\n",
       "      <td>Magnus Carlsen</td>\n",
       "    </tr>\n",
       "    <tr>\n",
       "      <th>10</th>\n",
       "      <td>2017</td>\n",
       "      <td>Riyadh</td>\n",
       "      <td>Saudi Arabia</td>\n",
       "      <td>Magnus Carlsen</td>\n",
       "      <td>Sergey Karjakin</td>\n",
       "    </tr>\n",
       "    <tr>\n",
       "      <th>11</th>\n",
       "      <td>2018</td>\n",
       "      <td>Saint Petersburg</td>\n",
       "      <td>Russia</td>\n",
       "      <td>Magnus Carlsen</td>\n",
       "      <td>Jan-Krzysztof Duda</td>\n",
       "    </tr>\n",
       "    <tr>\n",
       "      <th>12</th>\n",
       "      <td>2019</td>\n",
       "      <td>Moscow</td>\n",
       "      <td>Russia</td>\n",
       "      <td>Magnus Carlsen</td>\n",
       "      <td>Hikaru Nakamura</td>\n",
       "    </tr>\n",
       "    <tr>\n",
       "      <th>13</th>\n",
       "      <td>2021</td>\n",
       "      <td>Warsaw</td>\n",
       "      <td>Poland</td>\n",
       "      <td>Maxime Vachier-Lagrave</td>\n",
       "      <td>Jan-Krzysztof Duda</td>\n",
       "    </tr>\n",
       "    <tr>\n",
       "      <th>14</th>\n",
       "      <td>2022</td>\n",
       "      <td>Almaty</td>\n",
       "      <td>Kazakhstan</td>\n",
       "      <td>Magnus Carlsen</td>\n",
       "      <td>Hikaru Nakamura</td>\n",
       "    </tr>\n",
       "  </tbody>\n",
       "</table>\n",
       "</div>"
      ],
      "text/plain": [
       "    year         host_city          host_country                champion  \\\n",
       "0   2006     Rishon Lezion                Israel      Alexander Grischuk   \n",
       "1   2007            Moscow                Russia          Vasyl Ivanchuk   \n",
       "2   2008            Almaty            Kazakhstan       Leinier Domínguez   \n",
       "3   2009            Moscow                Russia          Magnus Carlsen   \n",
       "4   2010            Moscow                Russia           Levon Aronian   \n",
       "5   2012            Astana            Kazakhstan      Alexander Grischuk   \n",
       "6   2013   Khanty-Mansiysk                Russia           Lê Quang Liêm   \n",
       "7   2014             Dubai  United Arab Emirates          Magnus Carlsen   \n",
       "8   2015            Berlin               Germany      Alexander Grischuk   \n",
       "9   2016              Doha                 Qatar         Sergey Karjakin   \n",
       "10  2017            Riyadh          Saudi Arabia          Magnus Carlsen   \n",
       "11  2018  Saint Petersburg                Russia          Magnus Carlsen   \n",
       "12  2019            Moscow                Russia          Magnus Carlsen   \n",
       "13  2021            Warsaw                Poland  Maxime Vachier-Lagrave   \n",
       "14  2022            Almaty            Kazakhstan          Magnus Carlsen   \n",
       "\n",
       "                 runner_up  \n",
       "0            Peter Svidler  \n",
       "1        Viswanathan Anand  \n",
       "2           Vasyl Ivanchuk  \n",
       "3        Viswanathan Anand  \n",
       "4         Teimour Radjabov  \n",
       "5           Magnus Carlsen  \n",
       "6       Alexander Grischuk  \n",
       "7       Ian Nepomniachtchi  \n",
       "8   Maxime Vachier-Lagrave  \n",
       "9           Magnus Carlsen  \n",
       "10         Sergey Karjakin  \n",
       "11      Jan-Krzysztof Duda  \n",
       "12         Hikaru Nakamura  \n",
       "13      Jan-Krzysztof Duda  \n",
       "14         Hikaru Nakamura  "
      ]
     },
     "execution_count": 2,
     "metadata": {},
     "output_type": "execute_result"
    }
   ],
   "source": [
    "world_blitz_data_frame = pandas.read_csv(\"./champions.csv\")\n",
    "world_blitz_data_frame"
   ]
  },
  {
   "cell_type": "code",
   "execution_count": 3,
   "metadata": {},
   "outputs": [
    {
     "data": {
      "text/plain": [
       "host_country\n",
       "Russia                  6\n",
       "Kazakhstan              3\n",
       "Israel                  1\n",
       "United Arab Emirates    1\n",
       "Germany                 1\n",
       "Qatar                   1\n",
       "Saudi Arabia            1\n",
       "Poland                  1\n",
       "Name: count, dtype: int64"
      ]
     },
     "execution_count": 3,
     "metadata": {},
     "output_type": "execute_result"
    }
   ],
   "source": [
    "host_countries = world_blitz_data_frame['host_country'].value_counts()\n",
    "host_countries"
   ]
  },
  {
   "cell_type": "code",
   "execution_count": 4,
   "metadata": {},
   "outputs": [
    {
     "data": {
      "text/plain": [
       "host_city\n",
       "Moscow              4\n",
       "Almaty              2\n",
       "Rishon Lezion       1\n",
       "Astana              1\n",
       "Khanty-Mansiysk     1\n",
       "Dubai               1\n",
       "Berlin              1\n",
       "Doha                1\n",
       "Riyadh              1\n",
       "Saint Petersburg    1\n",
       "Warsaw              1\n",
       "Name: count, dtype: int64"
      ]
     },
     "execution_count": 4,
     "metadata": {},
     "output_type": "execute_result"
    }
   ],
   "source": [
    "host_cities = world_blitz_data_frame['host_city'].value_counts()\n",
    "host_cities"
   ]
  },
  {
   "cell_type": "code",
   "execution_count": 5,
   "metadata": {},
   "outputs": [
    {
     "data": {
      "text/plain": [
       "champion\n",
       "Magnus Carlsen            6\n",
       "Alexander Grischuk        3\n",
       "Vasyl Ivanchuk            1\n",
       "Leinier Domínguez         1\n",
       "Levon Aronian             1\n",
       "Lê Quang Liêm             1\n",
       "Sergey Karjakin           1\n",
       "Maxime Vachier-Lagrave    1\n",
       "Name: count, dtype: int64"
      ]
     },
     "execution_count": 5,
     "metadata": {},
     "output_type": "execute_result"
    }
   ],
   "source": [
    "champions = world_blitz_data_frame['champion'].value_counts()\n",
    "champions"
   ]
  },
  {
   "cell_type": "code",
   "execution_count": 6,
   "metadata": {},
   "outputs": [
    {
     "data": {
      "text/plain": [
       "runner_up\n",
       "Viswanathan Anand         2\n",
       "Magnus Carlsen            2\n",
       "Jan-Krzysztof Duda        2\n",
       "Hikaru Nakamura           2\n",
       "Peter Svidler             1\n",
       "Vasyl Ivanchuk            1\n",
       "Teimour Radjabov          1\n",
       "Alexander Grischuk        1\n",
       "Ian Nepomniachtchi        1\n",
       "Maxime Vachier-Lagrave    1\n",
       "Sergey Karjakin           1\n",
       "Name: count, dtype: int64"
      ]
     },
     "execution_count": 6,
     "metadata": {},
     "output_type": "execute_result"
    }
   ],
   "source": [
    "runners_up = world_blitz_data_frame['runner_up'].value_counts()\n",
    "runners_up"
   ]
  }
 ],
 "metadata": {
  "kernelspec": {
   "display_name": "Python 3",
   "language": "python",
   "name": "python3"
  },
  "language_info": {
   "codemirror_mode": {
    "name": "ipython",
    "version": 3
   },
   "file_extension": ".py",
   "mimetype": "text/x-python",
   "name": "python",
   "nbconvert_exporter": "python",
   "pygments_lexer": "ipython3",
   "version": "3.11.4"
  },
  "orig_nbformat": 4
 },
 "nbformat": 4,
 "nbformat_minor": 2
}
