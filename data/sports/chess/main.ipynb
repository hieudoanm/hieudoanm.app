{
 "cells": [
  {
   "attachments": {},
   "cell_type": "markdown",
   "metadata": {},
   "source": [
    "# Chess Insights"
   ]
  },
  {
   "cell_type": "code",
   "execution_count": 69,
   "metadata": {},
   "outputs": [],
   "source": [
    "from dotenv import load_dotenv\n",
    "import matplotlib.pyplot as plt\n",
    "import os\n",
    "import psycopg2\n",
    "import requests"
   ]
  },
  {
   "cell_type": "code",
   "execution_count": 70,
   "metadata": {},
   "outputs": [],
   "source": [
    "BASE_URL = \"https://diamondchessapi.vercel.app/api/chess\"\n",
    "\n",
    "USERNAME = \"hikaru\"\n",
    "\n",
    "load_dotenv()\n",
    "\n",
    "POSTGRESQL_USERNAME = os.getenv(\"POSTGRESQL_USERNAME\")\n",
    "POSTGRESQL_PASSWORD = os.getenv(\"POSTGRESQL_PASSWORD\")\n",
    "POSTGRESQL_HOST = os.getenv(\"POSTGRESQL_HOST\")\n",
    "POSTGRESQL_PORT = os.getenv(\"POSTGRESQL_PORT\")\n",
    "POSTGRESQL_DATABASE = os.getenv(\"POSTGRESQL_DATABASE\")"
   ]
  },
  {
   "attachments": {},
   "cell_type": "markdown",
   "metadata": {},
   "source": [
    "## Player"
   ]
  },
  {
   "cell_type": "code",
   "execution_count": 71,
   "metadata": {},
   "outputs": [
    {
     "data": {
      "text/plain": [
       "{'id': 15448422,\n",
       " 'username': 'hikaru',\n",
       " 'name': 'Hikaru Nakamura',\n",
       " 'followers': 1160801,\n",
       " 'avatar': 'https://images.chesscomfiles.com/uploads/v1/user/15448422.da101127.200x200o.64ebfda98bc2.png',\n",
       " 'location': 'Sunrise, Florida',\n",
       " 'country': 'United States',\n",
       " 'countryCode': 'US',\n",
       " 'twitchUrl': 'https://twitch.tv/gmhikaru',\n",
       " 'isStreamer': True,\n",
       " 'verified': False,\n",
       " 'lastOnline': '2023-06-22T12:06:12.000Z',\n",
       " 'joined': '2014-01-06T21:20:58.000Z',\n",
       " 'status': 'premium',\n",
       " 'title': 'GM',\n",
       " 'league': 'Legend',\n",
       " 'statsDailyRatingBest': 2464,\n",
       " 'statsDailyRatingLast': 2239,\n",
       " 'statsDailyRatingDeviation': 103,\n",
       " 'statsDailyRecordWin': 73,\n",
       " 'statsDailyRecordDraw': 4,\n",
       " 'statsDailyRecordLoss': 11,\n",
       " 'statsRapidRatingBest': 2927,\n",
       " 'statsRapidRatingLast': 2781,\n",
       " 'statsRapidRatingDeviation': 62,\n",
       " 'statsRapidRecordWin': 156,\n",
       " 'statsRapidRecordDraw': 157,\n",
       " 'statsRapidRecordLoss': 39,\n",
       " 'statsBlitzRatingLast': 3220,\n",
       " 'statsBlitzRatingBest': 3332,\n",
       " 'statsBlitzRatingDeviation': 23,\n",
       " 'statsBlitzRecordWin': 24400,\n",
       " 'statsBlitzRecordDraw': 3267,\n",
       " 'statsBlitzRecordLoss': 4224,\n",
       " 'statsBulletRatingLast': 3301,\n",
       " 'statsBulletRatingBest': 3570,\n",
       " 'statsBulletRatingDeviation': 44,\n",
       " 'statsBulletRecordWin': 10472,\n",
       " 'statsBulletRecordDraw': 621,\n",
       " 'statsBulletRecordLoss': 1459,\n",
       " 'archives': ['2023/06',\n",
       "  '2023/05',\n",
       "  '2023/04',\n",
       "  '2023/03',\n",
       "  '2023/02',\n",
       "  '2023/01',\n",
       "  '2022/12',\n",
       "  '2022/11',\n",
       "  '2022/10',\n",
       "  '2022/09',\n",
       "  '2022/08',\n",
       "  '2022/07',\n",
       "  '2022/06',\n",
       "  '2022/05',\n",
       "  '2022/04',\n",
       "  '2022/03',\n",
       "  '2022/02',\n",
       "  '2022/01',\n",
       "  '2021/12',\n",
       "  '2021/11',\n",
       "  '2021/10',\n",
       "  '2021/09',\n",
       "  '2021/08',\n",
       "  '2021/07',\n",
       "  '2021/06',\n",
       "  '2021/05',\n",
       "  '2021/04',\n",
       "  '2021/03',\n",
       "  '2021/02',\n",
       "  '2021/01',\n",
       "  '2020/12',\n",
       "  '2020/11',\n",
       "  '2020/10',\n",
       "  '2020/09',\n",
       "  '2020/08',\n",
       "  '2020/07',\n",
       "  '2020/06',\n",
       "  '2020/05',\n",
       "  '2020/04',\n",
       "  '2020/03',\n",
       "  '2020/02',\n",
       "  '2020/01',\n",
       "  '2019/12',\n",
       "  '2019/11',\n",
       "  '2019/10',\n",
       "  '2019/09',\n",
       "  '2019/08',\n",
       "  '2019/07',\n",
       "  '2019/06',\n",
       "  '2019/05',\n",
       "  '2019/04',\n",
       "  '2019/03',\n",
       "  '2019/02',\n",
       "  '2019/01',\n",
       "  '2018/12',\n",
       "  '2018/11',\n",
       "  '2018/10',\n",
       "  '2018/09',\n",
       "  '2018/08',\n",
       "  '2018/07',\n",
       "  '2018/06',\n",
       "  '2018/05',\n",
       "  '2018/04',\n",
       "  '2018/03',\n",
       "  '2018/02',\n",
       "  '2018/01',\n",
       "  '2017/12',\n",
       "  '2017/11',\n",
       "  '2017/10',\n",
       "  '2017/09',\n",
       "  '2017/08',\n",
       "  '2017/07',\n",
       "  '2017/06',\n",
       "  '2017/05',\n",
       "  '2017/04',\n",
       "  '2017/03',\n",
       "  '2017/02',\n",
       "  '2017/01',\n",
       "  '2016/12',\n",
       "  '2016/11',\n",
       "  '2016/10',\n",
       "  '2016/09',\n",
       "  '2016/08',\n",
       "  '2016/07',\n",
       "  '2016/06',\n",
       "  '2016/05',\n",
       "  '2016/04',\n",
       "  '2016/03',\n",
       "  '2016/02',\n",
       "  '2016/01',\n",
       "  '2015/12',\n",
       "  '2015/11',\n",
       "  '2015/10',\n",
       "  '2015/09',\n",
       "  '2015/08',\n",
       "  '2015/07',\n",
       "  '2015/06',\n",
       "  '2015/05',\n",
       "  '2015/04',\n",
       "  '2015/03',\n",
       "  '2015/02',\n",
       "  '2015/01',\n",
       "  '2014/12',\n",
       "  '2014/11',\n",
       "  '2014/10',\n",
       "  '2014/09',\n",
       "  '2014/08',\n",
       "  '2014/07',\n",
       "  '2014/06',\n",
       "  '2014/05',\n",
       "  '2014/04',\n",
       "  '2014/03',\n",
       "  '2014/02',\n",
       "  '2014/01'],\n",
       " 'createdAt': '2023-06-22T15:37:47.091Z',\n",
       " 'updatedAt': '2023-06-22T15:37:47.091Z'}"
      ]
     },
     "execution_count": 71,
     "metadata": {},
     "output_type": "execute_result"
    }
   ],
   "source": [
    "response = requests.get(f'{BASE_URL}/{USERNAME}')\n",
    "player = response.json()\n",
    "player"
   ]
  },
  {
   "attachments": {},
   "cell_type": "markdown",
   "metadata": {},
   "source": [
    "# Analyse"
   ]
  },
  {
   "cell_type": "code",
   "execution_count": 72,
   "metadata": {},
   "outputs": [],
   "source": [
    "connection = psycopg2.connect(user=POSTGRESQL_USERNAME,\n",
    "                              password=POSTGRESQL_PASSWORD,\n",
    "                              host=POSTGRESQL_HOST,\n",
    "                              port=POSTGRESQL_PORT,\n",
    "                              database=POSTGRESQL_DATABASE)"
   ]
  },
  {
   "attachments": {},
   "cell_type": "markdown",
   "metadata": {},
   "source": [
    "## Rules"
   ]
  },
  {
   "cell_type": "code",
   "execution_count": 73,
   "metadata": {},
   "outputs": [
    {
     "name": "stdout",
     "output_type": "stream",
     "text": [
      "[('bughouse',), ('chess',), ('chess960',), ('crazyhouse',), ('kingofthehill',), ('oddschess',), ('threecheck',)]\n"
     ]
    }
   ],
   "source": [
    "cursor = connection.cursor()\n",
    "select_unique_rules_where_query = f'WHERE g.\"whiteUsername\" = \\'{USERNAME}\\' OR g.\"blackUsername\" = \\'{USERNAME}\\''\n",
    "select_unique_rules_query = f'SELECT DISTINCT g.\"rules\" FROM public.\"Game\" as g {select_unique_rules_where_query}'\n",
    "cursor.execute(select_unique_rules_query)\n",
    "rules = cursor.fetchall()\n",
    "print(rules)\n",
    "cursor.close()"
   ]
  },
  {
   "attachments": {},
   "cell_type": "markdown",
   "metadata": {},
   "source": [
    "## Result"
   ]
  },
  {
   "cell_type": "code",
   "execution_count": 74,
   "metadata": {},
   "outputs": [
    {
     "name": "stdout",
     "output_type": "stream",
     "text": [
      "[('50move',), ('abandoned',), ('agreed',), ('checkmated',), ('insufficient',), ('repetition',), ('resigned',), ('stalemate',), ('timeout',), ('timevsinsufficient',), ('win',)]\n",
      "[('50move',), ('abandoned',), ('agreed',), ('checkmated',), ('insufficient',), ('repetition',), ('resigned',), ('stalemate',), ('timeout',), ('timevsinsufficient',), ('win',)]\n"
     ]
    }
   ],
   "source": [
    "cursor = connection.cursor()\n",
    "select_unique_result_where_query = f'WHERE (g.\"whiteUsername\" = \\'{USERNAME}\\' OR g.\"blackUsername\" = \\'{USERNAME}\\') AND g.\"rules\" = \\'chess\\''\n",
    "select_unique_white_result_query = f'SELECT DISTINCT g.\"whiteResult\" FROM public.\"Game\" as g {select_unique_result_where_query} ORDER BY g.\"whiteResult\" ASC'\n",
    "select_unique_black_result_query = f'SELECT DISTINCT g.\"blackResult\" FROM public.\"Game\" as g {select_unique_result_where_query} ORDER BY g.\"blackResult\" ASC'\n",
    "cursor.execute(select_unique_white_result_query)\n",
    "white_results = cursor.fetchall()\n",
    "print(white_results)\n",
    "cursor.execute(select_unique_black_result_query)\n",
    "black_results = cursor.fetchall()\n",
    "print(black_results)\n",
    "cursor.close()"
   ]
  },
  {
   "attachments": {},
   "cell_type": "markdown",
   "metadata": {},
   "source": [
    "## Accuracy"
   ]
  },
  {
   "cell_type": "code",
   "execution_count": 75,
   "metadata": {},
   "outputs": [
    {
     "name": "stdout",
     "output_type": "stream",
     "text": [
      "[(89.1570957828861,)]\n"
     ]
    }
   ],
   "source": [
    "cursor = connection.cursor()\n",
    "select_average_accuracy_query = f'SELECT AVG(CASE WHEN g.\"whiteUsername\" = \\'{USERNAME}\\' THEN g.\"whiteAccuracy\" ELSE g.\"blackAccuracy\" END) as \"average\" FROM public.\"Game\" as g WHERE (g.\"whiteResult\" != \\'abandoned\\' OR g.\"blackResult\" != \\'abandoned\\') AND g.\"whiteAccuracy\" != 0 AND g.\"blackAccuracy\" != 0 AND g.\"rules\" = \\'chess\\' AND g.\"rated\" = true'\n",
    "cursor.execute(select_average_accuracy_query)\n",
    "accuracy = cursor.fetchall()\n",
    "print(accuracy)\n",
    "cursor.close()"
   ]
  },
  {
   "attachments": {},
   "cell_type": "markdown",
   "metadata": {},
   "source": [
    "## Win Results"
   ]
  },
  {
   "cell_type": "code",
   "execution_count": 76,
   "metadata": {},
   "outputs": [
    {
     "name": "stdout",
     "output_type": "stream",
     "text": [
      "[('abandoned', 51), ('checkmated', 2328), ('timeout', 4309), ('resigned', 28417)]\n"
     ]
    }
   ],
   "source": [
    "cursor = connection.cursor()\n",
    "count_group_by_result_when_win_query = f'SELECT (CASE WHEN g.\"whiteUsername\" = \\'{USERNAME}\\' THEN g.\"blackResult\" ELSE g.\"whiteResult\" END) as \"result\", COUNT(CASE WHEN g.\"whiteUsername\" = \\'{USERNAME}\\' THEN g.\"blackResult\" ELSE g.\"whiteResult\" END) as \"count\" FROM public.\"Game\" as g WHERE TEXT(CASE WHEN g.\"whiteUsername\" = \\'{USERNAME}\\' THEN g.\"whiteResult\" ELSE g.\"blackResult\" END) = \\'win\\' AND g.\"rules\" = \\'chess\\' AND g.\"rated\" = true GROUP BY CASE WHEN g.\"whiteUsername\" = \\'{USERNAME}\\' THEN g.\"blackResult\" ELSE g.\"whiteResult\" END ORDER BY \"count\" ASC'\n",
    "cursor.execute(count_group_by_result_when_win_query)\n",
    "count_group_by_result_when_win = cursor.fetchall()\n",
    "print(count_group_by_result_when_win)\n",
    "cursor.close()"
   ]
  },
  {
   "attachments": {},
   "cell_type": "markdown",
   "metadata": {},
   "source": [
    "## Time Class"
   ]
  },
  {
   "cell_type": "code",
   "execution_count": 77,
   "metadata": {},
   "outputs": [
    {
     "name": "stdout",
     "output_type": "stream",
     "text": [
      "[('blitz',), ('bullet',), ('daily',), ('rapid',)]\n"
     ]
    }
   ],
   "source": [
    "cursor = connection.cursor()\n",
    "select_unique_time_class_where_query = f'WHERE g.\"whiteUsername\" = \\'{USERNAME}\\' OR g.\"blackUsername\" = \\'{USERNAME}\\''\n",
    "select_unique_time_class_query = f'SELECT DISTINCT g.\"timeClass\" FROM public.\"Game\" as g {select_unique_time_class_where_query}'\n",
    "cursor.execute(select_unique_time_class_query)\n",
    "time_classes = cursor.fetchall()\n",
    "print(time_classes)\n",
    "cursor.close()"
   ]
  },
  {
   "attachments": {},
   "cell_type": "markdown",
   "metadata": {},
   "source": [
    "## Time Control"
   ]
  },
  {
   "cell_type": "code",
   "execution_count": 78,
   "metadata": {},
   "outputs": [
    {
     "name": "stdout",
     "output_type": "stream",
     "text": [
      "[('blitz', '180'), ('blitz', '180+1'), ('blitz', '180+2'), ('blitz', '180+3'), ('blitz', '180+5'), ('blitz', '240'), ('blitz', '300'), ('blitz', '300+1'), ('blitz', '300+2'), ('blitz', '300+3'), ('blitz', '300+5'), ('blitz', '420'), ('blitz', '480'), ('blitz', '480+2'), ('blitz', '600'), ('blitz', '600+2'), ('blitz', '600+5'), ('bullet', '10'), ('bullet', '120'), ('bullet', '120+1'), ('bullet', '30'), ('bullet', '60'), ('bullet', '60+1'), ('daily', '1/1209600'), ('daily', '1/172800'), ('daily', '1/259200'), ('daily', '1/432000'), ('daily', '1/604800'), ('daily', '1/86400'), ('rapid', '1200'), ('rapid', '1200+10'), ('rapid', '1500+10'), ('rapid', '1800'), ('rapid', '2700'), ('rapid', '2700+15'), ('rapid', '300+10'), ('rapid', '3600+45'), ('rapid', '600'), ('rapid', '600+10'), ('rapid', '600+2'), ('rapid', '600+3'), ('rapid', '600+5'), ('rapid', '720'), ('rapid', '900'), ('rapid', '900+10'), ('rapid', '900+2'), ('rapid', '900+3')]\n"
     ]
    }
   ],
   "source": [
    "cursor = connection.cursor()\n",
    "select_unique_time_control_where_query = f'WHERE g.\"whiteUsername\" = \\'{USERNAME}\\' OR g.\"blackUsername\" = \\'{USERNAME}\\''\n",
    "select_unique_time_control_query = f'SELECT DISTINCT g.\"timeClass\", g.\"timeControl\" FROM public.\"Game\" as g {select_unique_time_control_where_query} ORDER BY g.\"timeClass\" ASC'\n",
    "cursor.execute(select_unique_time_control_query)\n",
    "time_controls = cursor.fetchall()\n",
    "print(time_controls)\n",
    "cursor.close()"
   ]
  },
  {
   "attachments": {},
   "cell_type": "markdown",
   "metadata": {},
   "source": [
    "## Player"
   ]
  },
  {
   "cell_type": "code",
   "execution_count": 79,
   "metadata": {},
   "outputs": [
    {
     "name": "stdout",
     "output_type": "stream",
     "text": [
      "[(15448422, 'hikaru', 'Hikaru Nakamura', 1160801, datetime.datetime(2023, 6, 22, 12, 6, 12), datetime.datetime(2014, 1, 6, 21, 20, 58), 'https://images.chesscomfiles.com/uploads/v1/user/15448422.da101127.200x200o.64ebfda98bc2.png', 'Sunrise, Florida', 'United States', 'US', 'https://twitch.tv/gmhikaru', True, False, 'GM', 'Legend', 2464, 2239, 103, 73, 4, 11, 2927, 2781, 62, 156, 157, 39, 3220, 3332, 23, 24400, 3267, 4224, 3301, 3570, 44, 10472, 621, 1459, ['2023/06', '2023/05', '2023/04', '2023/03', '2023/02', '2023/01', '2022/12', '2022/11', '2022/10', '2022/09', '2022/08', '2022/07', '2022/06', '2022/05', '2022/04', '2022/03', '2022/02', '2022/01', '2021/12', '2021/11', '2021/10', '2021/09', '2021/08', '2021/07', '2021/06', '2021/05', '2021/04', '2021/03', '2021/02', '2021/01', '2020/12', '2020/11', '2020/10', '2020/09', '2020/08', '2020/07', '2020/06', '2020/05', '2020/04', '2020/03', '2020/02', '2020/01', '2019/12', '2019/11', '2019/10', '2019/09', '2019/08', '2019/07', '2019/06', '2019/05', '2019/04', '2019/03', '2019/02', '2019/01', '2018/12', '2018/11', '2018/10', '2018/09', '2018/08', '2018/07', '2018/06', '2018/05', '2018/04', '2018/03', '2018/02', '2018/01', '2017/12', '2017/11', '2017/10', '2017/09', '2017/08', '2017/07', '2017/06', '2017/05', '2017/04', '2017/03', '2017/02', '2017/01', '2016/12', '2016/11', '2016/10', '2016/09', '2016/08', '2016/07', '2016/06', '2016/05', '2016/04', '2016/03', '2016/02', '2016/01', '2015/12', '2015/11', '2015/10', '2015/09', '2015/08', '2015/07', '2015/06', '2015/05', '2015/04', '2015/03', '2015/02', '2015/01', '2014/12', '2014/11', '2014/10', '2014/09', '2014/08', '2014/07', '2014/06', '2014/05', '2014/04', '2014/03', '2014/02', '2014/01'], datetime.datetime(2023, 6, 22, 15, 37, 47, 91000), datetime.datetime(2023, 6, 22, 15, 37, 47, 91000), 'premium')]\n"
     ]
    }
   ],
   "source": [
    "cursor = connection.cursor()\n",
    "select_player_query = f'SELECT * FROM public.\"Player\" WHERE username=\\'{USERNAME}\\''\n",
    "cursor.execute(select_player_query)\n",
    "player_record = cursor.fetchall()\n",
    "print(player_record)\n",
    "cursor.close()"
   ]
  },
  {
   "cell_type": "code",
   "execution_count": 80,
   "metadata": {},
   "outputs": [
    {
     "name": "stdout",
     "output_type": "stream",
     "text": [
      "SELECT COUNT(*) FROM public.\"Game\" as g WHERE g.\"whiteUsername\" = 'hikaru' OR g.\"blackUsername\" = 'hikaru'\n",
      "[(48806,)]\n"
     ]
    }
   ],
   "source": [
    "cursor = connection.cursor()\n",
    "count_query_where = f'WHERE g.\"whiteUsername\" = \\'{USERNAME}\\' OR g.\"blackUsername\" = \\'{USERNAME}\\''\n",
    "count_query = f'SELECT COUNT(*) FROM public.\"Game\" as g {count_query_where}'\n",
    "print(count_query)\n",
    "cursor.execute(count_query)\n",
    "count = cursor.fetchall()\n",
    "print(count)\n",
    "cursor.close()"
   ]
  },
  {
   "cell_type": "code",
   "execution_count": 81,
   "metadata": {},
   "outputs": [
    {
     "name": "stdout",
     "output_type": "stream",
     "text": [
      "SELECT COUNT(*) as \"Number of Games\", extract(year from g.\"endTime\")::int as \"Year\" FROM public.\"Game\" as g WHERE g.\"whiteUsername\" = 'hikaru' OR g.\"blackUsername\" = 'hikaru' GROUP BY extract(year from g.\"endTime\")\n",
      "[(1779, 2014), (3575, 2015), (5727, 2016), (5292, 2017), (4806, 2018), (6917, 2019), (8743, 2020), (5621, 2021), (3419, 2022), (2927, 2023)]\n"
     ]
    }
   ],
   "source": [
    "cursor = connection.cursor()\n",
    "count_number_of_games_by_year_where_query = f'WHERE g.\"whiteUsername\" = \\'{USERNAME}\\' OR g.\"blackUsername\" = \\'{USERNAME}\\''\n",
    "count_number_of_games_by_year_group_by_query = 'GROUP BY extract(year from g.\"endTime\")'\n",
    "count_number_of_games_by_year_select_query = 'SELECT COUNT(*) as \"Number of Games\", extract(year from g.\"endTime\")::int as \"Year\" FROM public.\"Game\" as g'\n",
    "count_number_of_games_by_year_full_select_query = f'{count_number_of_games_by_year_select_query} {count_number_of_games_by_year_where_query} {count_number_of_games_by_year_group_by_query}'\n",
    "print(count_number_of_games_by_year_full_select_query)\n",
    "cursor.execute(count_number_of_games_by_year_full_select_query)\n",
    "number_of_games_by_years = cursor.fetchall()\n",
    "print(number_of_games_by_years)\n",
    "cursor.close()"
   ]
  },
  {
   "cell_type": "code",
   "execution_count": 82,
   "metadata": {},
   "outputs": [
    {
     "name": "stdout",
     "output_type": "stream",
     "text": [
      "[1779, 3575, 5727, 5292, 4806, 6917, 8743, 5621, 3419, 2927]\n",
      "[2014, 2015, 2016, 2017, 2018, 2019, 2020, 2021, 2022, 2023]\n"
     ]
    },
    {
     "data": {
      "image/png": "[encoded data removed]",
      "text/plain": [
       "<Figure size 640x480 with 1 Axes>"
      ]
     },
     "metadata": {},
     "output_type": "display_data"
    }
   ],
   "source": [
    "number_of_games = list(map(lambda item: item[0], number_of_games_by_years))\n",
    "years = list(map(lambda item: item[1], number_of_games_by_years))\n",
    "\n",
    "print(number_of_games)\n",
    "print(years)\n",
    "\n",
    "plt.bar(years, number_of_games, color ='maroon', width = 0.4)\n",
    "plt.xlabel(\"Year\")\n",
    "plt.ylabel(\"Number of Games\")\n",
    "plt.title(\"Number of Games by Year\")\n",
    "plt.show()"
   ]
  },
  {
   "cell_type": "code",
   "execution_count": 83,
   "metadata": {},
   "outputs": [],
   "source": [
    "connection.close()"
   ]
  }
 ],
 "metadata": {
  "kernelspec": {
   "display_name": "Python 3",
   "language": "python",
   "name": "python3"
  },
  "language_info": {
   "codemirror_mode": {
    "name": "ipython",
    "version": 3
   },
   "file_extension": ".py",
   "mimetype": "text/x-python",
   "name": "python",
   "nbconvert_exporter": "python",
   "pygments_lexer": "ipython3",
   "version": "3.9.6"
  },
  "orig_nbformat": 4
 },
 "nbformat": 4,
 "nbformat_minor": 2
}
