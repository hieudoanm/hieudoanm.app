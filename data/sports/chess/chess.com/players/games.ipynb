{
 "cells": [
  {
   "attachments": {},
   "cell_type": "markdown",
   "metadata": {},
   "source": [
    "# Games"
   ]
  },
  {
   "cell_type": "code",
   "execution_count": 37,
   "metadata": {},
   "outputs": [],
   "source": [
    "import concurrent.futures\n",
    "import os\n",
    "import requests"
   ]
  },
  {
   "cell_type": "code",
   "execution_count": 38,
   "metadata": {},
   "outputs": [],
   "source": [
    "USERNAMES = [\"magnuscarlsen\", \"thedarkknighttrilogy\", \"hikaru\", \"wonderfultime\", \"danielnaroditsky\"]\n",
    "USERNAMES.sort()"
   ]
  },
  {
   "cell_type": "code",
   "execution_count": 39,
   "metadata": {},
   "outputs": [],
   "source": [
    "def get_archives(username : str) -> list[str]:\n",
    "    archives_url = f'https://api.chess.com/pub/player/{username}/games/archives'\n",
    "    print('archives_url', archives_url)\n",
    "    response = requests.get(archives_url)\n",
    "    print('response', response.status_code, response.text)\n",
    "    archives_data = response.json()\n",
    "    archives = archives_data.get(\"archives\")\n",
    "    archives.reverse()\n",
    "    return archives"
   ]
  },
  {
   "cell_type": "code",
   "execution_count": 40,
   "metadata": {},
   "outputs": [],
   "source": [
    "def save_pgn(options : dict):\n",
    "    username : str = options.get(\"username\", \"\")\n",
    "    archive : str = options.get(\"archive\", \"\")\n",
    "    paths : list[str] = archive.split(\"/\")\n",
    "    year_month : list[str] = paths[-2:]\n",
    "    [year, month] = year_month\n",
    "    pgn_url : str= f\"{archive}/pgn\"\n",
    "    response : requests.Response = requests.get(pgn_url)\n",
    "    pgn_text : str = response.text.strip()\n",
    "    pgn_path : str = f\"./{username}/games\"\n",
    "    pgn_exists : bool = os.path.exists(pgn_path)\n",
    "    if not pgn_exists:\n",
    "        os.makedirs(pgn_path)\n",
    "    if pgn_text == \"\":\n",
    "        return\n",
    "    pgn_file = open(f\"{pgn_path}/{year}-{month}.pgn\", \"w\")\n",
    "    pgn_file.write(pgn_text)\n",
    "    pgn_file.close()\n",
    "    print(year, month, 'done')"
   ]
  },
  {
   "cell_type": "code",
   "execution_count": 41,
   "metadata": {},
   "outputs": [],
   "source": [
    "def save_all_pgn(username_archives : list[dict]):\n",
    "    number_of_workers = len(username_archives)\n",
    "    with concurrent.futures.ThreadPoolExecutor(max_workers=number_of_workers) as executor:\n",
    "        executor.map(save_pgn, username_archives)"
   ]
  },
  {
   "cell_type": "code",
   "execution_count": 42,
   "metadata": {},
   "outputs": [
    {
     "name": "stdout",
     "output_type": "stream",
     "text": [
      "username danielnaroditsky\n",
      "archives_url https://api.chess.com/pub/player/danielnaroditsky/games/archives\n",
      "response 403 <!DOCTYPE html><html lang=\"en-US\"><head><title>Just a moment...</title><meta http-equiv=\"Content-Type\" content=\"text/html; charset=UTF-8\"><meta http-equiv=\"X-UA-Compatible\" content=\"IE=Edge\"><meta name=\"robots\" content=\"noindex,nofollow\"><meta name=\"viewport\" content=\"width=device-width,initial-scale=1\"><link href=\"/cdn-cgi/styles/challenges.css\" rel=\"stylesheet\"><meta http-equiv=\"refresh\" content=\"375\"></head><body class=\"no-js\"><div class=\"main-wrapper\" role=\"main\"><div class=\"main-content\"><noscript><div id=\"challenge-error-title\"><div class=\"h2\"><span class=\"icon-wrapper\"><div class=\"heading-icon warning-icon\"></div></span><span id=\"challenge-error-text\">Enable JavaScript and cookies to continue</span></div></div></noscript></div></div><script>(function(){window._cf_chl_opt={cvId: '2',cZone: \"api.chess.com\",cType: 'managed',cNounce: '42227',cRay: '83c075ea0c0fa041',cHash: '560833dd98cc5ac',cUPMDTk: \"\\/pub\\/player\\/danielnaroditsky\\/games\\/archives?__cf_chl_tk=w8EHHoCFuKy39YAxoZOEHP_cuI0mFvWkohQBUsNyyWI-1703668543-0-gaNycGzNCxA\",cFPWv: 'g',cTTimeMs: '1000',cMTimeMs: '375000',cTplV: 5,cTplB: 'cf',cK: \"visitor-time\",fa: \"\\/pub\\/player\\/danielnaroditsky\\/games\\/archives?__cf_chl_f_tk=w8EHHoCFuKy39YAxoZOEHP_cuI0mFvWkohQBUsNyyWI-1703668543-0-gaNycGzNCxA\",md: \"ljXDvcYnmdiYpox.9O.uxZTNUIkL9xAnMdITfkffvs8-1703668543-1-ATwoOZOx0C7Txq_bjzPFeEXSkHLs5tl5lJKoZ69YtVmuf6CkT-qWq-hQSKlrrTE0_S5bt0UHi25BuYnabPK-LjadJ49gN3UUmNs0buryhDBxA7fejTT27Ae4S_0-Q2CJwomzqncCxELEVYUhHbweVpWj4QdQJIKyPGqK4bTEUgOOV-eWPzDml7Val0bWOjLmO0f5-Vm6BWCI0lU5pYV9U70nc4OGtyfOcuaxx2cVGnYGD_zkA1VibucvDjQWx9Mbh_rUPIAQPgEvUfHfyBi4DVQCBw_AdsGknO6N9Qc7XY_6LAJOR0Of-NmVTVZHyzF0OH7h62mf4QuY1mi5nxCbnjY_HhWfWoNcueo4FcwwSXUnigDwY9AEUgHMJ-cshQA_7_cexIUmC2AIThw6NeeRcLhtKMiUBuYaArKZmYHr4IbcYOqg7R5iXfnoGO869_JAA67ZXJAwW2tXG9blqh6kLMzscLfAiryjrFcpKeAOsDCEKgSI-ykvSRCdDgZh9182Sj0wH4RMAmd7hkqP5anqQC_wPGImMbHqeyWmQ7vdEJHkECJLst7fs0Z6XFLW6m-QrbLLofuiLLHCVealmUf9fAivISMUEazk4_4bvrp35HfcF0SZ50QopsnAxW-QE9-iaAhVcghxcMpM2pbTbgmedmMBY7twBBvEyXHpGsjoq6t1OpWMMbmZPicOdjHGvh3kYW0Rrgd_ObU41TB3X0dRn-C6XPgz8Z7FnL8WtftPnhE9wSS5Qgw8oPz_7jj44kVmtYQUj6toHw8B2TWa5N2vUPP0O0IcE2ZLrn96iolOXzZ_ORh8raGY9-uEzoveohjv3jew1D2tDUad1jgUKSdkqnhcgk6C9Sjf8ID-9lTiYRDHJIEVS7rvhIHnOmCt1WsOVGCNo2NWxfJ1sQ1EzwWGTJiBgaeyDq4c4R649aUhcawK8KIydcnlRmv4GdbB2Z8YglRBGe_2x-w2SL1plf01dXjvJC24MiP1oDRxN7TX1DQx_hy1qaHAnxa4s5YdOVrebp1V-G8tq4czylCUGY_aIvJNy86zSPXA2dOJJA6j9gOugOc6gSM6aDBEvGEbiLddrmjSu96wS9jHRpPe1MVL93OtV_GcyhoMrYeZCBZGjzDG-UrrYprgPhQEGhPEq5jNvMQJO32tuvBhcZ5iwzS7sKfykFp4I-Gru7XLbVyHWj97Y_IwqpkibwC3v4-bxY1dJkUHhyKc4yiBac70MQgY5iVDGxp5lacaSpuI3euoScLzCjrBH-7f0ZxW_GSeW2uW54ThtuOn6RLogchu3ZaYaRylE-xjXU5-PH9hlJlgqFJn1AvXXINsftRgU7ihYBWofEBDdQCfXAmkuyha3PclQIFyMzqcWLyk9XVn4V9BK16Odt2GeoU0tZJzTb09qrLsgzqZWuTfzKDlECrLAo5NAoXG_xrghtmZp1FCscnk8mrHSokoUJuOm6udQaN4bxotmNzGJWqUS-2RfwTlr6tSVerBJijl5H_DGxCLbnCerLO2dqznGewshHOOX8OzF7bNRFo2vkcng_7wEYiupf8pn8Oi9Z9No4VLcgvW4f87WAGmQqSStfbwTHb8kQarqBPhcFHe2Ve-6EQHDgoEZq9Mhm2yzT3w1deH8xR-a6hipDuomTqkek7gOe3pSp2SNLn55cCK51Y9dwx2o7fGs7t4uSPIzqKPB7PI24edtxDzxEod0aYzHvRhcj3SjgTpjP_7ftl4xaZvSPlBfvktYJA5ekv2_6XYbYPqTwPgusEAxSCiowvNXy6C29s6IJCG4JD-4hgJolQOaHztpCxW6zYiyT_adiCvZXE4mbLU2LDd7MIHZRw7z_aSpm5tYuCHqFt4h2Qpk79cGmdQMDuFYsmUo2k8dg9icjcQKymLe2pG7lbwFvYrIDbGW8fVngJU4MOHZqrPcVOQCx0EAoHeb133HjQi4Uoky7n7hA6LoEVycCR7Ly3-RF6Ke3rJ7IfkQoVC-jg6Oo4cpXvrcT2RRJ5s7IcuOz10kzfTpSkFm5Tte9yuKZgdcGiHvkwazhDFC0LqLAC2WVm7Z29yZyNMYh2QNHwSddAhbO8WmwK8Wbkp6T3XeXM2ZI4o_by29ettwms_BEzqbAMCe-EsN1cGdt8UW7dPuYn73gy-0Rf_xoqrSlGJ6qCVfTL295CcCt17uVWKWeH3xRVIWCblOTVSH1sCSggJPEz-xTR238r4L1-73Y3Co8YT0F9seHUCFY5CEatTWeDB4Yn-fLwCEmAa6ZprNoASyuyyWKv5dUGMi9VDti6SaNs6d0Xs4xoi4s1Ub0XKRuS8Q7OcBYArwrUPoIxWrwwoY8arKzpZVAxOZD9m1vb18tMWda0mnZJxtr5-ATxrDedxtfmxpfwdz7TVcI9udBl97ICn7lRE_tDe9_IWJHxJX0UFpVWxNLSugq4hm-7I3rxNlCaqyA_HlwLmu-hnJAG09fX5ynKxvlIJ7Ua6NVZWqELCQM4EYny4iuPqEmSv-ziz0atxXVr__26RQCCoHp-PQxO78fqhzFlqgXDS3fBuyhWBD--kTz-5-IeZcKwi_2l9afOSDIOo4pEnkXuzhf06F7X8-dPQX2kNPKcAv1lZKqxw1Rf-cEK09Vi3xpR9MwjzrJaKCQzIiSDkka0wutFdPVU6Ix1Br5RCqnvNFo9LsmuhS0foZlSmGBWMD8Vud9-L6AlaLZ3ONYO2gYnPQD7OOXFdOoqNLwVi4fYnNTZkSYPHRQAsnwQh3b_h7Jbmheozqe3NyM4Mo16MFRgM_f0\",cRq: {ru: 'aHR0cHM6Ly9hcGkuY2hlc3MuY29tL3B1Yi9wbGF5ZXIvZGFuaWVsbmFyb2RpdHNreS9nYW1lcy9hcmNoaXZlcw==',ra: 'cHl0aG9uLXJlcXVlc3RzLzIuMzEuMA==',rm: 'R0VU',d: 'mdYGVRrGU4Y+Om7o/saU/PQWtIQ603v3Xs1DkNbRc5MXZ9Axw3av+hDkpcGYHKSsrM8e4uf+dEx/EXPPj8dMhdppTGCx6hQ/4HrPv4/Ht9a5bTK5mSxeXcRixXQaXHP2xqY2vNjjnEEnmTroGTpRv08PxwnnMdXq4VdRH69cJhH1UTMCBRcqJVofdMTG2OWzpjZNxDY/iUWNkyTfZTmzaeqAoyknylLmXx189NCIh2/iij9UROiwLesSF3afmF92Prl2We/3lZxqR4rYojQemHY2znUAj6zq7U9AFwPr2R3vt6VvNYQ1rBkhABhLakGppTVYfs4H0igakNpsRhRk3sdtU2mpeCn/04T0MRqAxkp+jiC34uSIgFLMx7FI1CaHP2TKAIgPWkIzkfs8p6HTExvM/cSub8ek7bBqn/BEbzsOrGKq/aTvCRpkn1Ii4JGyHO756Se9mSH5R6KpoM1oObW/+6dIjBJd1Rg7spWwxwCaeq+5Iakuf5ON5dIbcxw78nsaHsqEIapXZGi27nyng8n0TxdAhfQ+jmzOn6S1v5v86jDzlqfLF42ETBWDhmpQzRzpAylBOGGKqqaKizC1fhRddad6BXzsMfNm48U/ais=',t: 'MTcwMzY2ODU0My4wNTgwMDA=',cT: Math.floor(Date.now() / 1000),m: 'wETs8sfd3a80R1+fbnMtkUhZi3ot4EI/oenGu6/ft60=',i1: 'ybVlLvz2M8L3jr6sNpHn/w==',i2: 'pJbmO5uXvhI+YVAnjTeXYA==',zh: 'mQFfcmIV15X+HE0ijfrq3Z1ehKRcjJIGDhfUaKSYuM8=',uh: 'YE9XOpG5TeHmhA1zfs5mxC8CrRZzq2a/+r+OU7dliYQ=',hh: 'EGuE0ahtNILIszXIr11UvFRQh2K7u6ykBalHqwDQljU=',}};var cpo = document.createElement('script');cpo.src = '/cdn-cgi/challenge-platform/h/g/orchestrate/chl_page/v1?ray=83c075ea0c0fa041';window._cf_chl_opt.cOgUHash = location.hash === '' && location.href.indexOf('#') !== -1 ? '#' : location.hash;window._cf_chl_opt.cOgUQuery = location.search === '' && location.href.slice(0, location.href.length - window._cf_chl_opt.cOgUHash.length).indexOf('?') !== -1 ? '?' : location.search;if (window.history && window.history.replaceState) {var ogU = location.pathname + window._cf_chl_opt.cOgUQuery + window._cf_chl_opt.cOgUHash;history.replaceState(null, null, \"\\/pub\\/player\\/danielnaroditsky\\/games\\/archives?__cf_chl_rt_tk=w8EHHoCFuKy39YAxoZOEHP_cuI0mFvWkohQBUsNyyWI-1703668543-0-gaNycGzNCxA\" + window._cf_chl_opt.cOgUHash);cpo.onload = function() {history.replaceState(null, null, ogU);}}document.getElementsByTagName('head')[0].appendChild(cpo);}());</script></body></html>\n"
     ]
    },
    {
     "ename": "JSONDecodeError",
     "evalue": "Expecting value: line 1 column 1 (char 0)",
     "output_type": "error",
     "traceback": [
      "\u001b[0;31m---------------------------------------------------------------------------\u001b[0m",
      "\u001b[0;31mJSONDecodeError\u001b[0m                           Traceback (most recent call last)",
      "File \u001b[0;32m/opt/homebrew/lib/python3.11/site-packages/requests/models.py:971\u001b[0m, in \u001b[0;36mResponse.json\u001b[0;34m(self, **kwargs)\u001b[0m\n\u001b[1;32m    970\u001b[0m \u001b[38;5;28;01mtry\u001b[39;00m:\n\u001b[0;32m--> 971\u001b[0m     \u001b[38;5;28;01mreturn\u001b[39;00m \u001b[43mcomplexjson\u001b[49m\u001b[38;5;241;43m.\u001b[39;49m\u001b[43mloads\u001b[49m\u001b[43m(\u001b[49m\u001b[38;5;28;43mself\u001b[39;49m\u001b[38;5;241;43m.\u001b[39;49m\u001b[43mtext\u001b[49m\u001b[43m,\u001b[49m\u001b[43m \u001b[49m\u001b[38;5;241;43m*\u001b[39;49m\u001b[38;5;241;43m*\u001b[39;49m\u001b[43mkwargs\u001b[49m\u001b[43m)\u001b[49m\n\u001b[1;32m    972\u001b[0m \u001b[38;5;28;01mexcept\u001b[39;00m JSONDecodeError \u001b[38;5;28;01mas\u001b[39;00m e:\n\u001b[1;32m    973\u001b[0m     \u001b[38;5;66;03m# Catch JSON-related errors and raise as requests.JSONDecodeError\u001b[39;00m\n\u001b[1;32m    974\u001b[0m     \u001b[38;5;66;03m# This aliases json.JSONDecodeError and simplejson.JSONDecodeError\u001b[39;00m\n",
      "File \u001b[0;32m/opt/homebrew/Cellar/python@3.11/3.11.6_1/Frameworks/Python.framework/Versions/3.11/lib/python3.11/json/__init__.py:346\u001b[0m, in \u001b[0;36mloads\u001b[0;34m(s, cls, object_hook, parse_float, parse_int, parse_constant, object_pairs_hook, **kw)\u001b[0m\n\u001b[1;32m    343\u001b[0m \u001b[38;5;28;01mif\u001b[39;00m (\u001b[38;5;28mcls\u001b[39m \u001b[38;5;129;01mis\u001b[39;00m \u001b[38;5;28;01mNone\u001b[39;00m \u001b[38;5;129;01mand\u001b[39;00m object_hook \u001b[38;5;129;01mis\u001b[39;00m \u001b[38;5;28;01mNone\u001b[39;00m \u001b[38;5;129;01mand\u001b[39;00m\n\u001b[1;32m    344\u001b[0m         parse_int \u001b[38;5;129;01mis\u001b[39;00m \u001b[38;5;28;01mNone\u001b[39;00m \u001b[38;5;129;01mand\u001b[39;00m parse_float \u001b[38;5;129;01mis\u001b[39;00m \u001b[38;5;28;01mNone\u001b[39;00m \u001b[38;5;129;01mand\u001b[39;00m\n\u001b[1;32m    345\u001b[0m         parse_constant \u001b[38;5;129;01mis\u001b[39;00m \u001b[38;5;28;01mNone\u001b[39;00m \u001b[38;5;129;01mand\u001b[39;00m object_pairs_hook \u001b[38;5;129;01mis\u001b[39;00m \u001b[38;5;28;01mNone\u001b[39;00m \u001b[38;5;129;01mand\u001b[39;00m \u001b[38;5;129;01mnot\u001b[39;00m kw):\n\u001b[0;32m--> 346\u001b[0m     \u001b[38;5;28;01mreturn\u001b[39;00m \u001b[43m_default_decoder\u001b[49m\u001b[38;5;241;43m.\u001b[39;49m\u001b[43mdecode\u001b[49m\u001b[43m(\u001b[49m\u001b[43ms\u001b[49m\u001b[43m)\u001b[49m\n\u001b[1;32m    347\u001b[0m \u001b[38;5;28;01mif\u001b[39;00m \u001b[38;5;28mcls\u001b[39m \u001b[38;5;129;01mis\u001b[39;00m \u001b[38;5;28;01mNone\u001b[39;00m:\n",
      "File \u001b[0;32m/opt/homebrew/Cellar/python@3.11/3.11.6_1/Frameworks/Python.framework/Versions/3.11/lib/python3.11/json/decoder.py:337\u001b[0m, in \u001b[0;36mJSONDecoder.decode\u001b[0;34m(self, s, _w)\u001b[0m\n\u001b[1;32m    333\u001b[0m \u001b[38;5;250m\u001b[39m\u001b[38;5;124;03m\"\"\"Return the Python representation of ``s`` (a ``str`` instance\u001b[39;00m\n\u001b[1;32m    334\u001b[0m \u001b[38;5;124;03mcontaining a JSON document).\u001b[39;00m\n\u001b[1;32m    335\u001b[0m \n\u001b[1;32m    336\u001b[0m \u001b[38;5;124;03m\"\"\"\u001b[39;00m\n\u001b[0;32m--> 337\u001b[0m obj, end \u001b[38;5;241m=\u001b[39m \u001b[38;5;28;43mself\u001b[39;49m\u001b[38;5;241;43m.\u001b[39;49m\u001b[43mraw_decode\u001b[49m\u001b[43m(\u001b[49m\u001b[43ms\u001b[49m\u001b[43m,\u001b[49m\u001b[43m \u001b[49m\u001b[43midx\u001b[49m\u001b[38;5;241;43m=\u001b[39;49m\u001b[43m_w\u001b[49m\u001b[43m(\u001b[49m\u001b[43ms\u001b[49m\u001b[43m,\u001b[49m\u001b[43m \u001b[49m\u001b[38;5;241;43m0\u001b[39;49m\u001b[43m)\u001b[49m\u001b[38;5;241;43m.\u001b[39;49m\u001b[43mend\u001b[49m\u001b[43m(\u001b[49m\u001b[43m)\u001b[49m\u001b[43m)\u001b[49m\n\u001b[1;32m    338\u001b[0m end \u001b[38;5;241m=\u001b[39m _w(s, end)\u001b[38;5;241m.\u001b[39mend()\n",
      "File \u001b[0;32m/opt/homebrew/Cellar/python@3.11/3.11.6_1/Frameworks/Python.framework/Versions/3.11/lib/python3.11/json/decoder.py:355\u001b[0m, in \u001b[0;36mJSONDecoder.raw_decode\u001b[0;34m(self, s, idx)\u001b[0m\n\u001b[1;32m    354\u001b[0m \u001b[38;5;28;01mexcept\u001b[39;00m \u001b[38;5;167;01mStopIteration\u001b[39;00m \u001b[38;5;28;01mas\u001b[39;00m err:\n\u001b[0;32m--> 355\u001b[0m     \u001b[38;5;28;01mraise\u001b[39;00m JSONDecodeError(\u001b[38;5;124m\"\u001b[39m\u001b[38;5;124mExpecting value\u001b[39m\u001b[38;5;124m\"\u001b[39m, s, err\u001b[38;5;241m.\u001b[39mvalue) \u001b[38;5;28;01mfrom\u001b[39;00m \u001b[38;5;28mNone\u001b[39m\n\u001b[1;32m    356\u001b[0m \u001b[38;5;28;01mreturn\u001b[39;00m obj, end\n",
      "\u001b[0;31mJSONDecodeError\u001b[0m: Expecting value: line 1 column 1 (char 0)",
      "\nDuring handling of the above exception, another exception occurred:\n",
      "\u001b[0;31mJSONDecodeError\u001b[0m                           Traceback (most recent call last)",
      "Cell \u001b[0;32mIn[42], line 3\u001b[0m\n\u001b[1;32m      1\u001b[0m \u001b[38;5;28;01mfor\u001b[39;00m username \u001b[38;5;129;01min\u001b[39;00m USERNAMES:\n\u001b[1;32m      2\u001b[0m     \u001b[38;5;28mprint\u001b[39m(\u001b[38;5;124m\"\u001b[39m\u001b[38;5;124musername\u001b[39m\u001b[38;5;124m\"\u001b[39m, username)\n\u001b[0;32m----> 3\u001b[0m     archives \u001b[38;5;241m=\u001b[39m \u001b[43mget_archives\u001b[49m\u001b[43m(\u001b[49m\u001b[43musername\u001b[49m\u001b[43m)\u001b[49m\n\u001b[1;32m      4\u001b[0m     username_archives \u001b[38;5;241m=\u001b[39m []\n\u001b[1;32m      5\u001b[0m     \u001b[38;5;28;01mfor\u001b[39;00m archive \u001b[38;5;129;01min\u001b[39;00m archives:\n",
      "Cell \u001b[0;32mIn[39], line 6\u001b[0m, in \u001b[0;36mget_archives\u001b[0;34m(username)\u001b[0m\n\u001b[1;32m      4\u001b[0m response \u001b[38;5;241m=\u001b[39m requests\u001b[38;5;241m.\u001b[39mget(archives_url)\n\u001b[1;32m      5\u001b[0m \u001b[38;5;28mprint\u001b[39m(\u001b[38;5;124m'\u001b[39m\u001b[38;5;124mresponse\u001b[39m\u001b[38;5;124m'\u001b[39m, response\u001b[38;5;241m.\u001b[39mstatus_code, response\u001b[38;5;241m.\u001b[39mtext)\n\u001b[0;32m----> 6\u001b[0m archives_data \u001b[38;5;241m=\u001b[39m \u001b[43mresponse\u001b[49m\u001b[38;5;241;43m.\u001b[39;49m\u001b[43mjson\u001b[49m\u001b[43m(\u001b[49m\u001b[43m)\u001b[49m\n\u001b[1;32m      7\u001b[0m archives \u001b[38;5;241m=\u001b[39m archives_data\u001b[38;5;241m.\u001b[39mget(\u001b[38;5;124m\"\u001b[39m\u001b[38;5;124marchives\u001b[39m\u001b[38;5;124m\"\u001b[39m)\n\u001b[1;32m      8\u001b[0m archives\u001b[38;5;241m.\u001b[39mreverse()\n",
      "File \u001b[0;32m/opt/homebrew/lib/python3.11/site-packages/requests/models.py:975\u001b[0m, in \u001b[0;36mResponse.json\u001b[0;34m(self, **kwargs)\u001b[0m\n\u001b[1;32m    971\u001b[0m     \u001b[38;5;28;01mreturn\u001b[39;00m complexjson\u001b[38;5;241m.\u001b[39mloads(\u001b[38;5;28mself\u001b[39m\u001b[38;5;241m.\u001b[39mtext, \u001b[38;5;241m*\u001b[39m\u001b[38;5;241m*\u001b[39mkwargs)\n\u001b[1;32m    972\u001b[0m \u001b[38;5;28;01mexcept\u001b[39;00m JSONDecodeError \u001b[38;5;28;01mas\u001b[39;00m e:\n\u001b[1;32m    973\u001b[0m     \u001b[38;5;66;03m# Catch JSON-related errors and raise as requests.JSONDecodeError\u001b[39;00m\n\u001b[1;32m    974\u001b[0m     \u001b[38;5;66;03m# This aliases json.JSONDecodeError and simplejson.JSONDecodeError\u001b[39;00m\n\u001b[0;32m--> 975\u001b[0m     \u001b[38;5;28;01mraise\u001b[39;00m RequestsJSONDecodeError(e\u001b[38;5;241m.\u001b[39mmsg, e\u001b[38;5;241m.\u001b[39mdoc, e\u001b[38;5;241m.\u001b[39mpos)\n",
      "\u001b[0;31mJSONDecodeError\u001b[0m: Expecting value: line 1 column 1 (char 0)"
     ]
    }
   ],
   "source": [
    "for username in USERNAMES:\n",
    "    print(\"username\", username)\n",
    "    archives = get_archives(username)\n",
    "    username_archives = []\n",
    "    for archive in archives:\n",
    "        username_archives.append({\n",
    "            \"username\": username,\n",
    "            \"archive\": archive\n",
    "        })\n",
    "    save_all_pgn(username_archives=username_archives)"
   ]
  }
 ],
 "metadata": {
  "kernelspec": {
   "display_name": "Python 3",
   "language": "python",
   "name": "python3"
  },
  "language_info": {
   "codemirror_mode": {
    "name": "ipython",
    "version": 3
   },
   "file_extension": ".py",
   "mimetype": "text/x-python",
   "name": "python",
   "nbconvert_exporter": "python",
   "pygments_lexer": "ipython3",
   "version": "3.11.6"
  },
  "orig_nbformat": 4
 },
 "nbformat": 4,
 "nbformat_minor": 2
}
