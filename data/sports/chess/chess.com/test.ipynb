{
 "cells": [
  {
   "cell_type": "code",
   "execution_count": 25,
   "metadata": {},
   "outputs": [],
   "source": [
    "import io\n",
    "import chess.pgn"
   ]
  },
  {
   "cell_type": "code",
   "execution_count": 26,
   "metadata": {},
   "outputs": [
    {
     "data": {
      "text/plain": [
       "<Game at 0x103e01670 ('zagrebov' vs. 'DanielNaroditsky', '2010.06.17')>"
      ]
     },
     "execution_count": 26,
     "metadata": {},
     "output_type": "execute_result"
    }
   ],
   "source": [
    "pgn : io.StringIO= io.StringIO(\"[Event \\\"Live Chess\\\"]\\n[Site \\\"Chess.com\\\"]\\n[Date \\\"2010.06.17\\\"]\\n[Round \\\"-\\\"]\\n[White \\\"zagrebov\\\"]\\n[Black \\\"DanielNaroditsky\\\"]\\n[Result \\\"1-0\\\"]\\n\\n1. Nc3 e5 2. Nf3 Nc6 3. d4 exd4 4. Nxd4 Nf6 5. Bg5 Nxd4 6. Qxd4 Be7 7. e4 d6 8. O-O-O O-O 9. h4 Bg4 10. f3 Bh5 11. g4 Bg6 12. h5 Nxh5 13. Bxe7 Qxe7 14. gxh5 Bxe4 15. fxe4 b6 16. Rg1 Qe5 17. Qxe5 dxe5 18. h6 g6 19. Nd5 f6 20. Bc4 Kh8 1-0\")\n",
    "game : chess.pgn.Game = chess.pgn.read_game(pgn)\n",
    "game"
   ]
  }
 ],
 "metadata": {
  "kernelspec": {
   "display_name": "Python 3",
   "language": "python",
   "name": "python3"
  },
  "language_info": {
   "codemirror_mode": {
    "name": "ipython",
    "version": 3
   },
   "file_extension": ".py",
   "mimetype": "text/x-python",
   "name": "python",
   "nbconvert_exporter": "python",
   "pygments_lexer": "ipython3",
   "version": "3.9.6"
  },
  "orig_nbformat": 4
 },
 "nbformat": 4,
 "nbformat_minor": 2
}
