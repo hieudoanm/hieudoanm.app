{
 "cells": [
  {
   "cell_type": "code",
   "execution_count": 19,
   "metadata": {},
   "outputs": [],
   "source": [
    "from datetime import datetime\n",
    "import json\n",
    "import math\n",
    "import pandas as pd\n",
    "import requests"
   ]
  },
  {
   "cell_type": "code",
   "execution_count": 20,
   "metadata": {},
   "outputs": [
    {
     "data": {
      "text/plain": [
       "272"
      ]
     },
     "execution_count": 20,
     "metadata": {},
     "output_type": "execute_result"
    }
   ],
   "source": [
    "url = \"https://bgapidatafeed.vps.com.vn/listvn30\"\n",
    "response = requests.get(url)\n",
    "vn30 = response.json()\n",
    "vn30_file = open(\"./vn30.json\", \"w+\")\n",
    "vn30_json = json.dumps(vn30, indent=2)\n",
    "vn30_file.write(vn30_json)"
   ]
  },
  {
   "cell_type": "code",
   "execution_count": 21,
   "metadata": {},
   "outputs": [],
   "source": [
    "url = \"https://bgapidatafeed.vps.com.vn/getlistallstock\"\n",
    "response = requests.get(url)\n",
    "symbols : list[dict] = response.json()\n",
    "symbols_data_frame = pd.DataFrame(symbols)\n",
    "symbols_data_frame.to_csv(\"./symbols.csv\", index=False)"
   ]
  },
  {
   "cell_type": "code",
   "execution_count": 22,
   "metadata": {},
   "outputs": [
    {
     "data": {
      "text/plain": [
       "1700138433"
      ]
     },
     "execution_count": 22,
     "metadata": {},
     "output_type": "execute_result"
    }
   ],
   "source": [
    "timestamp = math.floor(datetime.now().timestamp())\n",
    "timestamp"
   ]
  },
  {
   "cell_type": "code",
   "execution_count": 23,
   "metadata": {},
   "outputs": [],
   "source": [
    "def get_history(symbol : str):\n",
    "    now = math.floor(datetime.now().timestamp())\n",
    "    url = f\"https://histdatafeed.vps.com.vn/tradingview/history?symbol={symbol}&resolution=1D&from=0&to={now}\"\n",
    "    response = requests.get(url)\n",
    "    history_data : dict = response.json()\n",
    "    symbol = history_data.get(\"symbol\", \"\")\n",
    "    t : list[int] = history_data.get(\"t\", [])\n",
    "    o : list[float] = history_data.get(\"o\", [])\n",
    "    h : list[float] = history_data.get(\"h\", [])\n",
    "    l : list[float] = history_data.get(\"l\", [])\n",
    "    c : list[float] = history_data.get(\"c\", [])\n",
    "    v : list[int] = history_data.get(\"v\", [])\n",
    "    history : list[dict] = []\n",
    "    if len(t) > 0:\n",
    "        for index, timestamp in enumerate(t):\n",
    "            date = datetime.fromtimestamp(timestamp).date()\n",
    "            history.append({\n",
    "                \"date\": date,\n",
    "                \"timestamp\": timestamp,\n",
    "                \"open\": o[index],\n",
    "                \"high\": h[index],\n",
    "                \"low\": l[index],\n",
    "                \"close\": c[index],\n",
    "                \"volume\": v[index]\n",
    "            })\n",
    "        history_data_frame = pd.DataFrame(history)\n",
    "        history_data_frame.to_csv(f\"./history/{symbol}.csv\", index=False)\n",
    "    "
   ]
  },
  {
   "cell_type": "code",
   "execution_count": 24,
   "metadata": {},
   "outputs": [],
   "source": [
    "for symbol in vn30:\n",
    "    get_history(symbol)"
   ]
  }
 ],
 "metadata": {
  "kernelspec": {
   "display_name": "Python 3",
   "language": "python",
   "name": "python3"
  },
  "language_info": {
   "codemirror_mode": {
    "name": "ipython",
    "version": 3
   },
   "file_extension": ".py",
   "mimetype": "text/x-python",
   "name": "python",
   "nbconvert_exporter": "python",
   "pygments_lexer": "ipython3",
   "version": "3.11.6"
  }
 },
 "nbformat": 4,
 "nbformat_minor": 2
}
