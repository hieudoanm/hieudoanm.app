{
 "cells": [
  {
   "cell_type": "code",
   "execution_count": 27,
   "metadata": {},
   "outputs": [],
   "source": [
    "from datetime import datetime\n",
    "import json\n",
    "import math\n",
    "import pandas as pd\n",
    "import requests\n",
    "import tqdm"
   ]
  },
  {
   "cell_type": "code",
   "execution_count": 28,
   "metadata": {},
   "outputs": [],
   "source": [
    "url = \"https://histdatafeed.vps.com.vn/industry\"\n",
    "response = requests.get(url)\n",
    "data = response.json()\n",
    "industries = data.get('data', [])\n",
    "industries_data_frame = pd.DataFrame(industries)\n",
    "industries_data_frame.rename(columns={\"IcbName\": \"name\", \"IcbNameEn\": \"english_name\"})\n",
    "industries_data_frame.to_csv(\"./csv/industries.csv\", index=False)"
   ]
  },
  {
   "cell_type": "code",
   "execution_count": 29,
   "metadata": {},
   "outputs": [],
   "source": [
    "url = \"https://bgapidatafeed.vps.com.vn/listvn30\"\n",
    "response = requests.get(url)\n",
    "vn30 = response.json()\n",
    "vn30_file = open(\"./vn30.json\", \"w\")\n",
    "vn30_json = json.dumps(vn30, indent=2)\n",
    "vn30_file.write(vn30_json)\n",
    "vn30_file.close()"
   ]
  },
  {
   "cell_type": "code",
   "execution_count": 30,
   "metadata": {},
   "outputs": [],
   "source": [
    "url = \"https://bgapidatafeed.vps.com.vn/getlistallstock\"\n",
    "response = requests.get(url)\n",
    "companies : list[dict] = response.json()\n",
    "companies_data_frame = pd.DataFrame(companies)\n",
    "companies_data_frame.to_csv(\"./csv/companies.csv\", index=False)"
   ]
  },
  {
   "cell_type": "code",
   "execution_count": 31,
   "metadata": {},
   "outputs": [
    {
     "data": {
      "text/plain": [
       "1700146145"
      ]
     },
     "execution_count": 31,
     "metadata": {},
     "output_type": "execute_result"
    }
   ],
   "source": [
    "timestamp = math.floor(datetime.now().timestamp())\n",
    "timestamp"
   ]
  },
  {
   "cell_type": "code",
   "execution_count": 32,
   "metadata": {},
   "outputs": [],
   "source": [
    "def get_history(symbol : str):\n",
    "    now = math.floor(datetime.now().timestamp())\n",
    "    url = f\"https://histdatafeed.vps.com.vn/tradingview/history?symbol={symbol}&resolution=1D&from=0&to={now}\"\n",
    "    response = requests.get(url)\n",
    "    history_data : dict = response.json()\n",
    "    symbol = history_data.get(\"symbol\", \"\")\n",
    "    t : list[int] = history_data.get(\"t\", [])\n",
    "    o : list[float] = history_data.get(\"o\", [])\n",
    "    h : list[float] = history_data.get(\"h\", [])\n",
    "    l : list[float] = history_data.get(\"l\", [])\n",
    "    c : list[float] = history_data.get(\"c\", [])\n",
    "    v : list[int] = history_data.get(\"v\", [])\n",
    "    history : list[dict] = []\n",
    "    if len(t) > 0:\n",
    "        for index, timestamp in enumerate(t):\n",
    "            date = datetime.fromtimestamp(timestamp).date()\n",
    "            history.append({\n",
    "                \"date\": date,\n",
    "                \"timestamp\": timestamp,\n",
    "                \"open\": o[index],\n",
    "                \"high\": h[index],\n",
    "                \"low\": l[index],\n",
    "                \"close\": c[index],\n",
    "                \"volume\": v[index]\n",
    "            })\n",
    "        history_data_frame = pd.DataFrame(history)\n",
    "        history_data_frame.to_csv(f\"./csv/history/{symbol}.csv\", index=False)\n",
    "    "
   ]
  },
  {
   "cell_type": "code",
   "execution_count": 33,
   "metadata": {},
   "outputs": [],
   "source": [
    "for symbol in vn30:\n",
    "    get_history(symbol)"
   ]
  },
  {
   "cell_type": "code",
   "execution_count": 34,
   "metadata": {},
   "outputs": [
    {
     "data": {
      "text/plain": [
       "1615"
      ]
     },
     "execution_count": 34,
     "metadata": {},
     "output_type": "execute_result"
    }
   ],
   "source": [
    "list_of_stock = list(filter(lambda c: len(c.get(\"stock_code\")) == 3, companies))\n",
    "len(list_of_stock)"
   ]
  },
  {
   "cell_type": "code",
   "execution_count": 35,
   "metadata": {},
   "outputs": [
    {
     "data": {
      "application/vnd.jupyter.widget-view+json": {
       "model_id": "a553e256d1184846b6930b35a7af4c52",
       "version_major": 2,
       "version_minor": 0
      },
      "text/plain": [
       "  0%|          | 0/1615 [00:00<?, ?it/s]"
      ]
     },
     "metadata": {},
     "output_type": "display_data"
    }
   ],
   "source": [
    "list_of_stock.reverse()\n",
    "for stock in tqdm.notebook.tqdm(list_of_stock):\n",
    "    symbol : str = stock.get(\"stock_code\", \"\")\n",
    "    get_history(symbol)"
   ]
  }
 ],
 "metadata": {
  "kernelspec": {
   "display_name": "Python 3",
   "language": "python",
   "name": "python3"
  },
  "language_info": {
   "codemirror_mode": {
    "name": "ipython",
    "version": 3
   },
   "file_extension": ".py",
   "mimetype": "text/x-python",
   "name": "python",
   "nbconvert_exporter": "python",
   "pygments_lexer": "ipython3",
   "version": "3.11.6"
  }
 },
 "nbformat": 4,
 "nbformat_minor": 2
}
