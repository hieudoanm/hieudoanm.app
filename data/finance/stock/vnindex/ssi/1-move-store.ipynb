{
 "cells": [
  {
   "attachments": {},
   "cell_type": "markdown",
   "metadata": {},
   "source": [
    "# Move/Store"
   ]
  },
  {
   "cell_type": "code",
   "execution_count": 6,
   "metadata": {},
   "outputs": [],
   "source": [
    "from dotenv import load_dotenv\n",
    "import os\n",
    "import pandas\n",
    "from sqlalchemy import create_engine\n",
    "from tqdm.notebook import tqdm_notebook"
   ]
  },
  {
   "attachments": {},
   "cell_type": "markdown",
   "metadata": {},
   "source": [
    "## Init Engine"
   ]
  },
  {
   "cell_type": "code",
   "execution_count": 7,
   "metadata": {},
   "outputs": [],
   "source": [
    "load_dotenv()\n",
    "\n",
    "POSTGRESQL_URL = os.getenv(\"POSTGRESQL_URL\")\n",
    "engine = create_engine(POSTGRESQL_URL)"
   ]
  },
  {
   "attachments": {},
   "cell_type": "markdown",
   "metadata": {},
   "source": [
    "## Symbols"
   ]
  },
  {
   "cell_type": "code",
   "execution_count": 8,
   "metadata": {},
   "outputs": [
    {
     "data": {
      "text/plain": [
       "601"
      ]
     },
     "execution_count": 8,
     "metadata": {},
     "output_type": "execute_result"
    }
   ],
   "source": [
    "symbols_filepath = \"./data/symbols.csv\"\n",
    "symbols_data_frame = pandas.read_csv(filepath_or_buffer=symbols_filepath)\n",
    "symbols_data_frame.to_sql('Symbol', engine, if_exists=\"replace\")"
   ]
  },
  {
   "attachments": {},
   "cell_type": "markdown",
   "metadata": {},
   "source": [
    "## Companies"
   ]
  },
  {
   "cell_type": "code",
   "execution_count": 9,
   "metadata": {},
   "outputs": [
    {
     "data": {
      "text/plain": [
       "601"
      ]
     },
     "execution_count": 9,
     "metadata": {},
     "output_type": "execute_result"
    }
   ],
   "source": [
    "companies_filepath = \"./data/companies.csv\"\n",
    "companies_data_frame = pandas.read_csv(filepath_or_buffer=companies_filepath)\n",
    "companies_data_frame.to_sql('Company', engine, if_exists=\"replace\")"
   ]
  },
  {
   "attachments": {},
   "cell_type": "markdown",
   "metadata": {},
   "source": [
    "## History"
   ]
  },
  {
   "cell_type": "code",
   "execution_count": 10,
   "metadata": {},
   "outputs": [
    {
     "data": {
      "application/vnd.jupyter.widget-view+json": {
       "model_id": "4d268fd3d58742369a55d3a7f62cf104",
       "version_major": 2,
       "version_minor": 0
      },
      "text/plain": [
       "  0%|          | 0/1601 [00:00<?, ?it/s]"
      ]
     },
     "metadata": {},
     "output_type": "display_data"
    },
    {
     "name": "stdout",
     "output_type": "stream",
     "text": [
      "AUM [Errno 2] No such file or directory: './data/history/AUM.csv'\n",
      "BCB [Errno 2] No such file or directory: './data/history/BCB.csv'\n",
      "CK8 [Errno 2] No such file or directory: './data/history/CK8.csv'\n",
      "CMP [Errno 2] No such file or directory: './data/history/CMP.csv'\n",
      "CNA [Errno 2] No such file or directory: './data/history/CNA.csv'\n",
      "CPH [Errno 2] No such file or directory: './data/history/CPH.csv'\n",
      "CVP [Errno 2] No such file or directory: './data/history/CVP.csv'\n",
      "DLM [Errno 2] No such file or directory: './data/history/DLM.csv'\n",
      "HTW [Errno 2] No such file or directory: './data/history/HTW.csv'\n",
      "MBN [Errno 2] No such file or directory: './data/history/MBN.csv'\n",
      "MCD [Errno 2] No such file or directory: './data/history/MCD.csv'\n",
      "MES [Errno 2] No such file or directory: './data/history/MES.csv'\n",
      "PQN [Errno 2] No such file or directory: './data/history/PQN.csv'\n",
      "TDI [Errno 2] No such file or directory: './data/history/TDI.csv'\n",
      "TKA [Errno 2] No such file or directory: './data/history/TKA.csv'\n",
      "TQW [Errno 2] No such file or directory: './data/history/TQW.csv'\n",
      "VDB [Errno 2] No such file or directory: './data/history/VDB.csv'\n",
      "VTM [Errno 2] No such file or directory: './data/history/VTM.csv'\n"
     ]
    }
   ],
   "source": [
    "symbols = symbols_data_frame.to_dict('records')\n",
    "\n",
    "for item in tqdm_notebook(symbols):\n",
    "    try:\n",
    "        symbol = item.get(\"symbol\", \"\")\n",
    "        history_filepath = f\"./data/history/{symbol}.csv\"\n",
    "        history_data_frame = pandas.read_csv(filepath_or_buffer=history_filepath, index_col=[\"symbol\", \"full_date\"])\n",
    "        history_data_frame.to_sql('History', engine, if_exists=\"append\")\n",
    "    except Exception as exception:\n",
    "        print(symbol, exception)"
   ]
  }
 ],
 "metadata": {
  "kernelspec": {
   "display_name": "Python 3",
   "language": "python",
   "name": "python3"
  },
  "language_info": {
   "codemirror_mode": {
    "name": "ipython",
    "version": 3
   },
   "file_extension": ".py",
   "mimetype": "text/x-python",
   "name": "python",
   "nbconvert_exporter": "python",
   "pygments_lexer": "ipython3",
   "version": "3.9.6"
  },
  "orig_nbformat": 4
 },
 "nbformat": 4,
 "nbformat_minor": 2
}
