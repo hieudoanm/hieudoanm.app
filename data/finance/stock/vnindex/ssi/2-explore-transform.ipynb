{
 "cells": [
  {
   "attachments": {},
   "cell_type": "markdown",
   "metadata": {},
   "source": [
    "# Analyse"
   ]
  },
  {
   "cell_type": "code",
   "execution_count": 1,
   "metadata": {},
   "outputs": [],
   "source": [
    "from dotenv import load_dotenv\n",
    "import os\n",
    "import pandas\n",
    "from sqlalchemy import create_engine, text\n",
    "from tqdm.notebook import tqdm_notebook"
   ]
  },
  {
   "attachments": {},
   "cell_type": "markdown",
   "metadata": {},
   "source": [
    "## Utils"
   ]
  },
  {
   "cell_type": "code",
   "execution_count": 2,
   "metadata": {},
   "outputs": [],
   "source": [
    "def add_zero(number : int):\n",
    "    if number > 9:\n",
    "        return f\"{number}\"\n",
    "    return f\"0{number}\""
   ]
  },
  {
   "attachments": {},
   "cell_type": "markdown",
   "metadata": {},
   "source": [
    "## Create Engine"
   ]
  },
  {
   "cell_type": "code",
   "execution_count": 3,
   "metadata": {},
   "outputs": [],
   "source": [
    "load_dotenv()\n",
    "\n",
    "POSTGRESQL_URL = os.getenv(\"POSTGRESQL_URL\")\n",
    "engine = create_engine(POSTGRESQL_URL)"
   ]
  },
  {
   "attachments": {},
   "cell_type": "markdown",
   "metadata": {},
   "source": [
    "## Best Week - Month - Quarter"
   ]
  },
  {
   "cell_type": "code",
   "execution_count": 4,
   "metadata": {},
   "outputs": [],
   "source": [
    "COLUMNS = [\"quarter\", \"month\", \"week\"]"
   ]
  },
  {
   "attachments": {},
   "cell_type": "markdown",
   "metadata": {},
   "source": [
    "### Get Weeks - Months - Quarter"
   ]
  },
  {
   "cell_type": "code",
   "execution_count": 5,
   "metadata": {},
   "outputs": [],
   "source": [
    "for column in COLUMNS:\n",
    "    data = []\n",
    "\n",
    "    with engine.connect() as con:\n",
    "        statement = f'SELECT DISTINCT year, {column} FROM public.\"History\"'\n",
    "        rows = con.execute(text(statement))\n",
    "        for row in rows:\n",
    "            year = row[0]\n",
    "            time = row[1]\n",
    "            data.append({\n",
    "                column: time,\n",
    "                \"year\": year\n",
    "            })\n",
    "        con.close()\n",
    "    # Data Frame\n",
    "    data_frame = pandas.DataFrame(data)\n",
    "    data_frame.to_csv(f\"./archives/{column}s.csv\", index=False, header = True)"
   ]
  },
  {
   "attachments": {},
   "cell_type": "markdown",
   "metadata": {},
   "source": [
    "### Get Symbols"
   ]
  },
  {
   "cell_type": "code",
   "execution_count": 6,
   "metadata": {},
   "outputs": [
    {
     "name": "stdout",
     "output_type": "stream",
     "text": [
      "1583\n"
     ]
    }
   ],
   "source": [
    "symbols = []\n",
    "\n",
    "with engine.connect() as con:\n",
    "    statement = 'SELECT DISTINCT symbol FROM public.\"History\"'\n",
    "    rows = con.execute(text(statement))\n",
    "    for row in rows:\n",
    "        symbol = row[0]\n",
    "        symbols.append(symbol)\n",
    "    con.close()\n",
    "\n",
    "print(len(symbols))\n",
    "\n",
    "with open('./archives/symbols.txt', 'w') as fp:\n",
    "    fp.write('\\n'.join(symbols))"
   ]
  },
  {
   "attachments": {},
   "cell_type": "markdown",
   "metadata": {},
   "source": [
    "### Get Unique Symbols by Weeks - Months - Quarters"
   ]
  },
  {
   "cell_type": "code",
   "execution_count": 7,
   "metadata": {},
   "outputs": [
    {
     "data": {
      "application/vnd.jupyter.widget-view+json": {
       "model_id": "4cd45d42cfd9434f89a310bcf0ca921d",
       "version_major": 2,
       "version_minor": 0
      },
      "text/plain": [
       "  0%|          | 0/92 [00:00<?, ?it/s]"
      ]
     },
     "metadata": {},
     "output_type": "display_data"
    },
    {
     "data": {
      "application/vnd.jupyter.widget-view+json": {
       "model_id": "5c729840f6a4411c8ccee805cb55ef4d",
       "version_major": 2,
       "version_minor": 0
      },
      "text/plain": [
       "  0%|          | 0/274 [00:00<?, ?it/s]"
      ]
     },
     "metadata": {},
     "output_type": "display_data"
    },
    {
     "data": {
      "application/vnd.jupyter.widget-view+json": {
       "model_id": "7349f9a14194424f9620e6d3c0106f59",
       "version_major": 2,
       "version_minor": 0
      },
      "text/plain": [
       "  0%|          | 0/1167 [00:00<?, ?it/s]"
      ]
     },
     "metadata": {},
     "output_type": "display_data"
    }
   ],
   "source": [
    "for column in COLUMNS:\n",
    "    data_frame = pandas.read_csv(f\"./archives/{column}s.csv\")\n",
    "    data = data_frame.to_dict(\"records\")\n",
    "\n",
    "    symbols_by_times = []\n",
    "\n",
    "    for item in tqdm_notebook(data):\n",
    "        time = item.get(column)\n",
    "        year = item.get(\"year\")\n",
    "        symbols_by_time = []\n",
    "        with engine.connect() as con:\n",
    "            statement = f'SELECT DISTINCT symbol FROM public.\"History\" WHERE {column} = {time} AND year = {year}'\n",
    "            rows = con.execute(text(statement))\n",
    "            for row in rows:\n",
    "                symbol = row[0]\n",
    "                symbols_by_time.append(symbol)\n",
    "            con.close()\n",
    "        symbols_by_times.append({\n",
    "            \"year\": year,\n",
    "            column: time,\n",
    "            \"symbols\": symbols_by_time\n",
    "        })\n",
    "        folder = f'./archives/{column}s/{year}/{add_zero(time)}'\n",
    "        is_exist = os.path.exists(folder)\n",
    "        if not is_exist:\n",
    "            os.makedirs(folder)\n",
    "        with open(f'{folder}/symbols.txt', 'w') as fp:\n",
    "            fp.write('\\n'.join(symbols_by_time))"
   ]
  },
  {
   "attachments": {},
   "cell_type": "markdown",
   "metadata": {},
   "source": [
    "### Get Changes by Weeks"
   ]
  },
  {
   "cell_type": "code",
   "execution_count": 8,
   "metadata": {},
   "outputs": [
    {
     "data": {
      "application/vnd.jupyter.widget-view+json": {
       "model_id": "79fd6a7911444ebcbc6cdad18c99115c",
       "version_major": 2,
       "version_minor": 0
      },
      "text/plain": [
       "  0%|          | 0/92 [00:00<?, ?it/s]"
      ]
     },
     "metadata": {},
     "output_type": "display_data"
    },
    {
     "data": {
      "application/vnd.jupyter.widget-view+json": {
       "model_id": "695967e9a7d0432a8048c1f291b469f2",
       "version_major": 2,
       "version_minor": 0
      },
      "text/plain": [
       "  0%|          | 0/274 [00:00<?, ?it/s]"
      ]
     },
     "metadata": {},
     "output_type": "display_data"
    },
    {
     "data": {
      "application/vnd.jupyter.widget-view+json": {
       "model_id": "0eb4d81ab61a45f497bce496d49312e3",
       "version_major": 2,
       "version_minor": 0
      },
      "text/plain": [
       "  0%|          | 0/1167 [00:00<?, ?it/s]"
      ]
     },
     "metadata": {},
     "output_type": "display_data"
    }
   ],
   "source": [
    "for column in COLUMNS:\n",
    "    time_frame = pandas.read_csv(f\"./archives/{column}s.csv\")\n",
    "    data = time_frame.to_dict(\"records\")\n",
    "    for item in tqdm_notebook(data):\n",
    "        year = item.get(\"year\")\n",
    "        time = item.get(column)\n",
    "        symbols_file = open(f\"./archives/{column}s/{year}/{add_zero(time)}/symbols.txt\", \"r\")\n",
    "        symbols = list(filter(lambda item: item != \"\", symbols_file.read().split(\"\\n\")))\n",
    "        changes_by_time = []\n",
    "        for symbol in symbols:\n",
    "            with engine.connect() as con:\n",
    "                first_subquery = f'SELECT MIN(full_date) FROM public.\"History\" WHERE {column} = {time} AND year = {year} AND symbol LIKE \\'{symbol}\\''\n",
    "                last_subquery = f'SELECT MAX(full_date) FROM public.\"History\" WHERE {column} = {time} AND year = {year} AND symbol LIKE \\'{symbol}\\''\n",
    "                # Close\n",
    "                close_statement = f'SELECT close FROM public.\"History\" WHERE (full_date LIKE ({first_subquery}) OR full_date LIKE ({last_subquery})) AND {column} = {time} AND year = {year} AND symbol LIKE \\'{symbol}\\' ORDER BY full_date ASC'\n",
    "                close_cursor = con.execute(text(close_statement))\n",
    "                close_records = close_cursor.fetchall()\n",
    "                first_close = 0\n",
    "                last_close = 0\n",
    "                for idx, row in enumerate(close_records):\n",
    "                    if idx == 0:\n",
    "                        first_close = row[0]\n",
    "                    else:\n",
    "                        if close_cursor.rowcount > 1:\n",
    "                            last_close = row[0]\n",
    "                        else:\n",
    "                            last_close = first_close\n",
    "                # Change\n",
    "                change = round((last_close - first_close) / first_close, 2)\n",
    "                change_percentage = round(change * 100)\n",
    "                changes_by_time.append({\n",
    "                    \"symbol\": symbol,\n",
    "                    \"first\": first_close,\n",
    "                    \"last\": last_close,\n",
    "                    \"change\": change,\n",
    "                    \"change_percentage\": change_percentage\n",
    "                })\n",
    "                con.close()\n",
    "        changes_by_time_data_frame = pandas.DataFrame(changes_by_time)\n",
    "        sorted_changes_by_time_data_frame = changes_by_time_data_frame.sort_values(ascending=False, by=[\"change\", \"symbol\"])\n",
    "        sorted_changes_by_time_data_frame.to_csv(f'./archives/{column}s/{year}/{add_zero(time)}/changes.csv', index=False, header = True)"
   ]
  }
 ],
 "metadata": {
  "kernelspec": {
   "display_name": "Python 3",
   "language": "python",
   "name": "python3"
  },
  "language_info": {
   "codemirror_mode": {
    "name": "ipython",
    "version": 3
   },
   "file_extension": ".py",
   "mimetype": "text/x-python",
   "name": "python",
   "nbconvert_exporter": "python",
   "pygments_lexer": "ipython3",
   "version": "3.9.6"
  },
  "orig_nbformat": 4
 },
 "nbformat": 4,
 "nbformat_minor": 2
}
