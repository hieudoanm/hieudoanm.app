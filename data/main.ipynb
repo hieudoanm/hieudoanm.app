{
 "cells": [
  {
   "cell_type": "code",
   "execution_count": 25,
   "metadata": {},
   "outputs": [
    {
     "name": "stdout",
     "output_type": "stream",
     "text": [
      "3777\n",
      "./education/universities/rankings/csv/top-100-filtered-countries.csv 59\n",
      "./education/universities/rankings/csv/top-200-filtered.csv 59\n",
      "./education/universities/rankings/csv/top-200-filtered-countries.csv 59\n",
      "./education/universities/rankings/csv/top-100-filtered.csv 59\n",
      "./world/regions/asia/vietnam/maps/postal-codes.csv 84\n",
      "./world/regions/asia/vietnam/financial/banks.csv 37\n",
      "./world/regions/asia/vietnam/beauty-pageants/miss-vietnam.csv 19\n",
      "./world/regions/asia/vietnam/other/ethnic-minorities.csv 55\n",
      "./world/regions/asia/vietnam/other/mobile-providers.csv 34\n",
      "./world/regions/asia/vietnam/sports/football/stadiums.csv 38\n",
      "./world/regions/europe/europe/football/nations/players-of-the-tourament.csv 11\n",
      "./world/regions/europe/europe/football/nations/top-scorers.csv 27\n",
      "./world/regions/europe/europe/football/nations/champions.csv 17\n",
      "./world/regions/europe/northern/uk/prime-ministers.csv 79\n",
      "./world/regions/europe/northern/uk/england/football/leagues/premier-league/players-of-the-year.csv 29\n",
      "./world/regions/europe/northern/uk/england/football/leagues/premier-league/top-scorers.csv 39\n",
      "./world/regions/europe/northern/uk/england/football/leagues/premier-league/champions.csv 31\n",
      "./world/regions/americas/usa/government/legislative/congress/116/senate/committees.csv 22\n",
      "./world/regions/americas/usa/government/legislative/congress/116/house/committees.csv 24\n",
      "./world/regions/americas/usa/government/legislative/congress/118/senate/committees.csv 22\n",
      "./world/regions/americas/usa/government/legislative/congress/118/house/committees.csv 25\n",
      "./world/regions/americas/usa/government/legislative/congress/117/senate/committees.csv 22\n",
      "./world/regions/americas/usa/government/legislative/congress/117/house/committees.csv 24\n",
      "./world/regions/americas/usa/government/legislative/congress/115/senate/committees.csv 22\n",
      "./world/regions/americas/usa/government/legislative/congress/115/house/committees.csv 22\n",
      "./world/regions/americas/usa/government/legislative/congress/114/senate/committees.csv 21\n",
      "./world/regions/americas/usa/government/legislative/congress/114/house/committees.csv 22\n",
      "./sports/football/favourites.csv 32\n",
      "./sports/football/full/teams.csv 21\n",
      "./sports/football/full/matches.csv 39\n",
      "./sports/football/clubs/league/top-goalkeepers/datasets.csv 22\n",
      "./sports/futsal/international/champions.csv 81\n",
      "./sports/chess/fide.com/2800/players.csv 15\n",
      "./languages/words/characters.csv 38\n",
      "./finance/stock/vnindex/vps/data/analyse/n/NCG.csv 7\n",
      "./finance/stock/vnindex/vps/data/analyse/g/GDA.csv 52\n",
      "./finance/stock/vnindex/vps/data/analyse/t/THM.csv 23\n",
      "./finance/stock/vnindex/vps/data/analyse/s/SD4.csv 1\n",
      "./finance/stock/vnindex/vps/data/analyse/h/HIO.csv 21\n",
      "./finance/stock/vnindex/vps/data/analyse/b/BHI.csv 84\n",
      "./finance/stock/vnindex/vps/data/history/n/NCG.csv 13\n",
      "./finance/stock/vnindex/vps/data/history/g/GDA.csv 58\n",
      "./finance/stock/vnindex/vps/data/history/t/THM.csv 29\n",
      "./finance/stock/vnindex/vps/data/history/h/HIO.csv 26\n",
      "./finance/stock/vnindex/vps/data/history/b/BHI.csv 90\n",
      "./machine-learning/supervised/length-conversion/kilometres-miles.csv 29\n",
      "./games/pokemon/data/type-chart.csv 19\n",
      "./games/esports/champions.csv 59\n"
     ]
    }
   ],
   "source": [
    "import os\n",
    "\n",
    "def get_csv_paths(directory):\n",
    "    csv_paths = []\n",
    "\n",
    "    for root, _, files in os.walk(directory):\n",
    "        for file in files:\n",
    "            if file.endswith(\".csv\"):\n",
    "                csv_paths.append(os.path.join(root, file))\n",
    "\n",
    "    return csv_paths\n",
    "\n",
    "def get_num_lines(directory):\n",
    "    csv_file = open(directory, 'r')\n",
    "    num_lines = sum(1 for _ in csv_file)\n",
    "    return num_lines\n",
    "\n",
    "# Replace 'your_directory_path' with the path of the directory you want to search\n",
    "directory_path = '.'\n",
    "csv_paths = get_csv_paths(directory_path)\n",
    "\n",
    "print(len(csv_paths))\n",
    "\n",
    "for path in csv_paths:\n",
    "    num_lines = get_num_lines(path)\n",
    "    if num_lines < 100:\n",
    "      print(path, num_lines)"
   ]
  }
 ],
 "metadata": {
  "kernelspec": {
   "display_name": "Python 3",
   "language": "python",
   "name": "python3"
  },
  "language_info": {
   "codemirror_mode": {
    "name": "ipython",
    "version": 3
   },
   "file_extension": ".py",
   "mimetype": "text/x-python",
   "name": "python",
   "nbconvert_exporter": "python",
   "pygments_lexer": "ipython3",
   "version": "3.11.6"
  }
 },
 "nbformat": 4,
 "nbformat_minor": 2
}
