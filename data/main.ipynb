{
 "cells": [
  {
   "cell_type": "code",
   "execution_count": 5,
   "metadata": {},
   "outputs": [
    {
     "name": "stdout",
     "output_type": "stream",
     "text": [
      "3832\n",
      "./world/regions/asia/vietnam/sports/football/v.league-2/matches/2023.csv 1\n",
      "./world/regions/asia/vietnam/sports/football/cup/matches/2023.csv 1\n",
      "./world/regions/asia/vietnam/sports/football/v.league-1/matches/2023.csv 1\n",
      "./finance/stock/vnindex/vps/data/analyse/n/NCG.csv 7\n",
      "./finance/stock/vnindex/vps/data/analyse/s/SD4.csv 1\n"
     ]
    }
   ],
   "source": [
    "import os\n",
    "\n",
    "def get_csv_paths(directory):\n",
    "    csv_paths = []\n",
    "\n",
    "    for root, _, files in os.walk(directory):\n",
    "        for file in files:\n",
    "            if file.endswith(\".csv\"):\n",
    "                csv_paths.append(os.path.join(root, file))\n",
    "\n",
    "    return csv_paths\n",
    "\n",
    "def get_num_lines(directory):\n",
    "    csv_file = open(directory, 'r')\n",
    "    num_lines = sum(1 for _ in csv_file)\n",
    "    return num_lines\n",
    "\n",
    "# Replace 'your_directory_path' with the path of the directory you want to search\n",
    "directory_path = '.'\n",
    "csv_paths = get_csv_paths(directory_path)\n",
    "\n",
    "print(len(csv_paths))\n",
    "\n",
    "for path in csv_paths:\n",
    "    num_lines = get_num_lines(path)\n",
    "    if num_lines < 10:\n",
    "      print(path, num_lines)"
   ]
  }
 ],
 "metadata": {
  "kernelspec": {
   "display_name": "Python 3",
   "language": "python",
   "name": "python3"
  },
  "language_info": {
   "codemirror_mode": {
    "name": "ipython",
    "version": 3
   },
   "file_extension": ".py",
   "mimetype": "text/x-python",
   "name": "python",
   "nbconvert_exporter": "python",
   "pygments_lexer": "ipython3",
   "version": "3.11.6"
  }
 },
 "nbformat": 4,
 "nbformat_minor": 2
}
