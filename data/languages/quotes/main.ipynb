{
 "cells": [
  {
   "attachments": {},
   "cell_type": "markdown",
   "metadata": {},
   "source": [
    "# Quotes"
   ]
  },
  {
   "cell_type": "code",
   "execution_count": 1,
   "metadata": {},
   "outputs": [],
   "source": [
    "import pandas\n",
    "import requests\n",
    "from tqdm.notebook import tqdm_notebook"
   ]
  },
  {
   "attachments": {},
   "cell_type": "markdown",
   "metadata": {},
   "source": [
    "## Get Quotes"
   ]
  },
  {
   "cell_type": "code",
   "execution_count": 2,
   "metadata": {},
   "outputs": [
    {
     "name": "stdout",
     "output_type": "stream",
     "text": [
      "15 2127\n"
     ]
    },
    {
     "data": {
      "application/vnd.jupyter.widget-view+json": {
       "model_id": "97f6d7cdba31433dacb90f517dd7bb13",
       "version_major": 2,
       "version_minor": 0
      },
      "text/plain": [
       "  0%|          | 0/16 [00:00<?, ?it/s]"
      ]
     },
     "metadata": {},
     "output_type": "display_data"
    }
   ],
   "source": [
    "BASE_URL = \"https://api.quotable.io/quotes?page={0}&limit=150\"\n",
    "\n",
    "response = requests.get(BASE_URL.format(1))\n",
    "responseJSON = response.json()\n",
    "totalPages = responseJSON.get('totalPages')\n",
    "totalCount = responseJSON.get('totalCount')\n",
    "print(totalPages, totalCount)\n",
    "\n",
    "quotes = []\n",
    "\n",
    "for i in tqdm_notebook(range(totalPages + 1)):\n",
    "    quotesResponse = requests.get(BASE_URL.format(i))\n",
    "    quotesJSON = quotesResponse.json()\n",
    "    quotesResults = quotesJSON.get('results')\n",
    "    quotes += quotesResults\n",
    "\n",
    "quotes_data_frame = pandas.DataFrame(quotes)\n",
    "quotes_data_frame = quotes_data_frame.sort_values(by = [\"author\", \"content\"])\n",
    "quotes_data_frame.to_csv(\"./quotes.csv\", index=False, header=True)"
   ]
  },
  {
   "attachments": {},
   "cell_type": "markdown",
   "metadata": {},
   "source": [
    "## Get Authors"
   ]
  },
  {
   "cell_type": "code",
   "execution_count": 3,
   "metadata": {},
   "outputs": [
    {
     "data": {
      "text/plain": [
       "author\n",
       "The Buddha             142\n",
       "Albert Einstein         70\n",
       "Ralph Waldo Emerson     53\n",
       "Confucius               45\n",
       "Laozi                   42\n",
       "                      ... \n",
       "Kin Hubbard              1\n",
       "Kenji Miyazawa           1\n",
       "Douglas Coupland         1\n",
       "Kathleen Norris          1\n",
       "Cory Doctorow            1\n",
       "Name: count, Length: 728, dtype: int64"
      ]
     },
     "execution_count": 3,
     "metadata": {},
     "output_type": "execute_result"
    }
   ],
   "source": [
    "author_series = quotes_data_frame['author'].value_counts()\n",
    "author_series"
   ]
  }
 ],
 "metadata": {
  "kernelspec": {
   "display_name": "Python 3",
   "language": "python",
   "name": "python3"
  },
  "language_info": {
   "codemirror_mode": {
    "name": "ipython",
    "version": 3
   },
   "file_extension": ".py",
   "mimetype": "text/x-python",
   "name": "python",
   "nbconvert_exporter": "python",
   "pygments_lexer": "ipython3",
   "version": "3.9.6"
  },
  "orig_nbformat": 4
 },
 "nbformat": 4,
 "nbformat_minor": 2
}
