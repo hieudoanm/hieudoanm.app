{
 "cells": [
  {
   "cell_type": "code",
   "execution_count": 2,
   "metadata": {},
   "outputs": [
    {
     "name": "stdout",
     "output_type": "stream",
     "text": [
      "The text is 19 characters long and will fit 17 n-grams of length 3.\n",
      "0: Thi\n",
      "1: his\n",
      "2: is \n",
      "3: s i\n",
      "4:  is\n",
      "5: is \n",
      "6: s a\n",
      "7:  a \n",
      "8: a t\n",
      "9:  te\n",
      "10: tes\n",
      "11: est\n",
      "12: st \n",
      "13: t t\n",
      "14:  te\n",
      "15: tex\n",
      "16: ext\n"
     ]
    }
   ],
   "source": [
    "text = \"This is a test text\"\n",
    "n = 3 # 1 = Unigram, 2 = bigram, 3 = trigram\n",
    "text_len = len(text)\n",
    "num_ngrams = text_len - n + 1 # How many ngrams of length n will fit in this text\n",
    "print(f\"The text is {text_len} characters long and will fit {num_ngrams} n-grams of length {n}.\")\n",
    "\n",
    "for p in range(num_ngrams) :\n",
    "  print(f\"{p}: {text[p:p+n]}\")"
   ]
  },
  {
   "cell_type": "code",
   "execution_count": 3,
   "metadata": {},
   "outputs": [
    {
     "name": "stdout",
     "output_type": "stream",
     "text": [
      "['i', ' ', 'w', 'a', 's', ' ', 't', 'a', 'u', 'g', 'h', 't', ' ', 't', 'h', 'a', 't', ' ', 't', 'h', 'e', ' ', 'w', 'a', 'y', ' ', 'o', 'f', ' ', 'p', 'r', 'o', 'g', 'r', 'e', 's', 's', ' ', 'w', 'a', 's', ' ', 'n', 'e', 'i', 't', 'h', 'e', 'r', ' ', 's', 'w', 'i', 'f', 't', ' ', 'n', 'o', 'r', ' ', 'e', 'a', 's', 'y', '.', 'i ', ' w', 'wa', 'as', 's ', ' t', 'ta', 'au', 'ug', 'gh', 'ht', 't ', ' t', 'th', 'ha', 'at', 't ', ' t', 'th', 'he', 'e ', ' w', 'wa', 'ay', 'y ', ' o', 'of', 'f ', ' p', 'pr', 'ro', 'og', 'gr', 're', 'es', 'ss', 's ', ' w', 'wa', 'as', 's ', ' n', 'ne', 'ei', 'it', 'th', 'he', 'er', 'r ', ' s', 'sw', 'wi', 'if', 'ft', 't ', ' n', 'no', 'or', 'r ', ' e', 'ea', 'as', 'sy', 'y.', 'i w', ' wa', 'was', 'as ', 's t', ' ta', 'tau', 'aug', 'ugh', 'ght', 'ht ', 't t', ' th', 'tha', 'hat', 'at ', 't t', ' th', 'the', 'he ', 'e w', ' wa', 'way', 'ay ', 'y o', ' of', 'of ', 'f p', ' pr', 'pro', 'rog', 'ogr', 'gre', 'res', 'ess', 'ss ', 's w', ' wa', 'was', 'as ', 's n', ' ne', 'nei', 'eit', 'ith', 'the', 'her', 'er ', 'r s', ' sw', 'swi', 'wif', 'ift', 'ft ', 't n', ' no', 'nor', 'or ', 'r e', ' ea', 'eas', 'asy', 'sy.']\n"
     ]
    }
   ],
   "source": [
    "import typing\n",
    "\n",
    "def extract_xgrams(text: str, n_vals: typing.List[int]) -> typing.List[str]:\n",
    "    \"\"\"\n",
    "    Extract a list of n-grams of different sizes from a text.\n",
    "    Params:\n",
    "        text: the test from which to extract ngrams\n",
    "        n_vals: the sizes of n-grams to extract\n",
    "        (e.g. [1, 2, 3] will produce uni-, bi- and tri-grams)\n",
    "    \"\"\"\n",
    "    xgrams = []\n",
    "    \n",
    "    for n in n_vals:\n",
    "        # if n > len(text) then no ngrams will fit, and we would return an empty list\n",
    "        if n < len(text):\n",
    "            for i in range(len(text) - n + 1) :\n",
    "                ng = text[i:i+n]\n",
    "                xgrams.append(ng)\n",
    "        \n",
    "    return xgrams\n",
    "\n",
    "text = \"I was taught that the way of progress was neither swift nor easy.\".lower()\n",
    "# Quote from Marie Curie, the first woman to win a Nobel Prize, the only woman to win it twice, and the only human to win it in two different sciences.\n",
    "\n",
    "# Extract all ngrams of size 1 to 3.\n",
    "xgrams = extract_xgrams(text, n_vals=range(1,4))\n",
    "\n",
    "print(xgrams)"
   ]
  }
 ],
 "metadata": {
  "kernelspec": {
   "display_name": "Python 3",
   "language": "python",
   "name": "python3"
  },
  "language_info": {
   "codemirror_mode": {
    "name": "ipython",
    "version": 3
   },
   "file_extension": ".py",
   "mimetype": "text/x-python",
   "name": "python",
   "nbconvert_exporter": "python",
   "pygments_lexer": "ipython3",
   "version": "3.11.4"
  },
  "orig_nbformat": 4
 },
 "nbformat": 4,
 "nbformat_minor": 2
}
