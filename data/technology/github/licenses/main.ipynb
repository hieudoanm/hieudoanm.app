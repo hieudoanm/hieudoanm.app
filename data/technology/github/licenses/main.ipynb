{
 "cells": [
  {
   "attachments": {},
   "cell_type": "markdown",
   "metadata": {},
   "source": [
    "# LICENSES"
   ]
  },
  {
   "cell_type": "code",
   "execution_count": 6,
   "metadata": {},
   "outputs": [],
   "source": [
    "import json\n",
    "import requests\n",
    "import pandas\n",
    "from tqdm.notebook import tqdm as tqdm_notebook"
   ]
  },
  {
   "cell_type": "code",
   "execution_count": 7,
   "metadata": {},
   "outputs": [],
   "source": [
    "BASE_URL = \"https://api.github.com\""
   ]
  },
  {
   "cell_type": "code",
   "execution_count": 8,
   "metadata": {},
   "outputs": [],
   "source": [
    "response = requests.get(f\"{BASE_URL}/licenses\")\n",
    "if response.status_code == 200:\n",
    "    licenses = response.json()\n",
    "    licenses_data_frame = pandas.DataFrame(licenses)\n",
    "    licenses_data_frame.to_csv(\"./licenses.csv\", index=False, header=True)"
   ]
  },
  {
   "cell_type": "code",
   "execution_count": 9,
   "metadata": {},
   "outputs": [
    {
     "data": {
      "application/vnd.jupyter.widget-view+json": {
       "model_id": "77c573f92b1442b79dc7a2702a353ac3",
       "version_major": 2,
       "version_minor": 0
      },
      "text/plain": [
       "  0%|          | 0/13 [00:00<?, ?it/s]"
      ]
     },
     "metadata": {},
     "output_type": "display_data"
    }
   ],
   "source": [
    "licenses_data_frame = pandas.read_csv(\"./licenses.csv\")\n",
    "licenses = licenses_data_frame.to_dict(\"records\")\n",
    "\n",
    "for license in tqdm_notebook(licenses):\n",
    "    key = license.get(\"key\")\n",
    "    response = requests.get(f\"{BASE_URL}/licenses/{key}\")\n",
    "    if response.status_code == 200:\n",
    "        license_details = response.json()\n",
    "        body = license_details.get(\"body\")\n",
    "        spdx_id = license_details.get(\"spdx_id\")\n",
    "        file = open(f\"./body/{spdx_id}.md\",'w+')\n",
    "        file.write(body)\n",
    "        file.close()"
   ]
  },
  {
   "cell_type": "code",
   "execution_count": 10,
   "metadata": {},
   "outputs": [
    {
     "data": {
      "text/plain": [
       "'[\\n  {\\n    \"key\": \"agpl-3.0\",\\n    \"name\": \"GNU Affero General Public License v3.0\",\\n    \"spdx_id\": \"AGPL-3.0\",\\n    \"url\": \"https://api.github.com/licenses/agpl-3.0\",\\n    \"node_id\": \"MDc6TGljZW5zZTE=\"\\n  },\\n  {\\n    \"key\": \"apache-2.0\",\\n    \"name\": \"Apache License 2.0\",\\n    \"spdx_id\": \"Apache-2.0\",\\n    \"url\": \"https://api.github.com/licenses/apache-2.0\",\\n    \"node_id\": \"MDc6TGljZW5zZTI=\"\\n  },\\n  {\\n    \"key\": \"bsd-2-clause\",\\n    \"name\": \"BSD 2-Clause \\\\\"Simplified\\\\\" License\",\\n    \"spdx_id\": \"BSD-2-Clause\",\\n    \"url\": \"https://api.github.com/licenses/bsd-2-clause\",\\n    \"node_id\": \"MDc6TGljZW5zZTQ=\"\\n  },\\n  {\\n    \"key\": \"bsd-3-clause\",\\n    \"name\": \"BSD 3-Clause \\\\\"New\\\\\" or \\\\\"Revised\\\\\" License\",\\n    \"spdx_id\": \"BSD-3-Clause\",\\n    \"url\": \"https://api.github.com/licenses/bsd-3-clause\",\\n    \"node_id\": \"MDc6TGljZW5zZTU=\"\\n  },\\n  {\\n    \"key\": \"bsl-1.0\",\\n    \"name\": \"Boost Software License 1.0\",\\n    \"spdx_id\": \"BSL-1.0\",\\n    \"url\": \"https://api.github.com/licenses/bsl-1.0\",\\n    \"node_id\": \"MDc6TGljZW5zZTI4\"\\n  },\\n  {\\n    \"key\": \"cc0-1.0\",\\n    \"name\": \"Creative Commons Zero v1.0 Universal\",\\n    \"spdx_id\": \"CC0-1.0\",\\n    \"url\": \"https://api.github.com/licenses/cc0-1.0\",\\n    \"node_id\": \"MDc6TGljZW5zZTY=\"\\n  },\\n  {\\n    \"key\": \"epl-2.0\",\\n    \"name\": \"Eclipse Public License 2.0\",\\n    \"spdx_id\": \"EPL-2.0\",\\n    \"url\": \"https://api.github.com/licenses/epl-2.0\",\\n    \"node_id\": \"MDc6TGljZW5zZTMy\"\\n  },\\n  {\\n    \"key\": \"gpl-2.0\",\\n    \"name\": \"GNU General Public License v2.0\",\\n    \"spdx_id\": \"GPL-2.0\",\\n    \"url\": \"https://api.github.com/licenses/gpl-2.0\",\\n    \"node_id\": \"MDc6TGljZW5zZTg=\"\\n  },\\n  {\\n    \"key\": \"gpl-3.0\",\\n    \"name\": \"GNU General Public License v3.0\",\\n    \"spdx_id\": \"GPL-3.0\",\\n    \"url\": \"https://api.github.com/licenses/gpl-3.0\",\\n    \"node_id\": \"MDc6TGljZW5zZTk=\"\\n  },\\n  {\\n    \"key\": \"lgpl-2.1\",\\n    \"name\": \"GNU Lesser General Public License v2.1\",\\n    \"spdx_id\": \"LGPL-2.1\",\\n    \"url\": \"https://api.github.com/licenses/lgpl-2.1\",\\n    \"node_id\": \"MDc6TGljZW5zZTEx\"\\n  },\\n  {\\n    \"key\": \"mit\",\\n    \"name\": \"MIT License\",\\n    \"spdx_id\": \"MIT\",\\n    \"url\": \"https://api.github.com/licenses/mit\",\\n    \"node_id\": \"MDc6TGljZW5zZTEz\"\\n  },\\n  {\\n    \"key\": \"mpl-2.0\",\\n    \"name\": \"Mozilla Public License 2.0\",\\n    \"spdx_id\": \"MPL-2.0\",\\n    \"url\": \"https://api.github.com/licenses/mpl-2.0\",\\n    \"node_id\": \"MDc6TGljZW5zZTE0\"\\n  },\\n  {\\n    \"key\": \"unlicense\",\\n    \"name\": \"The Unlicense\",\\n    \"spdx_id\": \"Unlicense\",\\n    \"url\": \"https://api.github.com/licenses/unlicense\",\\n    \"node_id\": \"MDc6TGljZW5zZTE1\"\\n  }\\n]'"
      ]
     },
     "execution_count": 10,
     "metadata": {},
     "output_type": "execute_result"
    }
   ],
   "source": [
    "licenses_json = json.dumps(licenses, indent=2)\n",
    "licenses_json_file = open(\"./licenses.json\", \"w+\")\n",
    "licenses_json_file.write(licenses_json)\n",
    "licenses_json"
   ]
  }
 ],
 "metadata": {
  "kernelspec": {
   "display_name": "Python 3",
   "language": "python",
   "name": "python3"
  },
  "language_info": {
   "codemirror_mode": {
    "name": "ipython",
    "version": 3
   },
   "file_extension": ".py",
   "mimetype": "text/x-python",
   "name": "python",
   "nbconvert_exporter": "python",
   "pygments_lexer": "ipython3",
   "version": "3.9.6"
  },
  "orig_nbformat": 4
 },
 "nbformat": 4,
 "nbformat_minor": 2
}
