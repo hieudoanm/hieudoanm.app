{
 "cells": [
  {
   "cell_type": "code",
   "execution_count": 4,
   "metadata": {},
   "outputs": [],
   "source": [
    "from dotenv import load_dotenv\n",
    "import json\n",
    "import os\n",
    "import requests\n",
    "import pandas\n",
    "from tqdm.notebook import tqdm as tqdm_notebook"
   ]
  },
  {
   "cell_type": "code",
   "execution_count": 5,
   "metadata": {},
   "outputs": [],
   "source": [
    "load_dotenv()\n",
    "\n",
    "BASE_URL = \"https://api.github.com/gitignore\"\n",
    "\n",
    "GITHUB_API_KEY = os.getenv(\"GITHUB_API_KEY\")\n",
    "headers = {\n",
    "    \"Authorization\": f\"Bearer {GITHUB_API_KEY}\",\n",
    "    \"Accept\": \"application/vnd.github+json\"\n",
    "}"
   ]
  },
  {
   "cell_type": "code",
   "execution_count": 6,
   "metadata": {},
   "outputs": [],
   "source": [
    "response = requests.get(f\"{BASE_URL}/templates\", headers=headers)\n",
    "if response.status_code == 200:\n",
    "    templates = response.json()\n",
    "    templates_data_frame = pandas.DataFrame(templates)\n",
    "    templates_data_frame.to_csv(\"./templates.txt\", index=False, header=False)\n",
    "    templates_json = json.dumps(templates, indent=2)\n",
    "    templates_json_file = open(\"./templates.json\", \"w+\")\n",
    "    templates_json_file.write(templates_json)"
   ]
  },
  {
   "cell_type": "code",
   "execution_count": 7,
   "metadata": {},
   "outputs": [
    {
     "data": {
      "application/vnd.jupyter.widget-view+json": {
       "model_id": "3e7c6899b1dc43a7a7c9472615a66a1f",
       "version_major": 2,
       "version_minor": 0
      },
      "text/plain": [
       "  0%|          | 0/131 [00:00<?, ?it/s]"
      ]
     },
     "metadata": {},
     "output_type": "display_data"
    }
   ],
   "source": [
    "file_txt = open(\"./templates.txt\", \"r\")\n",
    "lines_str = file_txt.read()\n",
    "lines = lines_str.split('\\n')\n",
    "file_txt.close()\n",
    "\n",
    "for line in tqdm_notebook(lines):\n",
    "    response = requests.get(f\"{BASE_URL}/templates/{line}\",  headers=headers)\n",
    "    if response.status_code == 200:\n",
    "        detail = response.json()\n",
    "        name = detail.get(\"name\")\n",
    "        source = detail.get(\"source\")\n",
    "        file = open(f\"./files/{name}.gitignore\",'w+')\n",
    "        file.write(source)\n",
    "        file.close()"
   ]
  }
 ],
 "metadata": {
  "kernelspec": {
   "display_name": "Python 3",
   "language": "python",
   "name": "python3"
  },
  "language_info": {
   "codemirror_mode": {
    "name": "ipython",
    "version": 3
   },
   "file_extension": ".py",
   "mimetype": "text/x-python",
   "name": "python",
   "nbconvert_exporter": "python",
   "pygments_lexer": "ipython3",
   "version": "3.9.6"
  },
  "orig_nbformat": 4
 },
 "nbformat": 4,
 "nbformat_minor": 2
}
