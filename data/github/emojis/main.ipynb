{
 "cells": [
  {
   "cell_type": "code",
   "execution_count": 1,
   "metadata": {},
   "outputs": [],
   "source": [
    "import concurrent.futures\n",
    "from dotenv import load_dotenv\n",
    "import json\n",
    "import os\n",
    "import pandas\n",
    "import requests\n",
    "from tqdm.notebook import tqdm as tqdm_notebook"
   ]
  },
  {
   "cell_type": "code",
   "execution_count": null,
   "metadata": {},
   "outputs": [],
   "source": [
    "def chunks(l, n): \n",
    "    # looping till length l\n",
    "    for i in range(0, len(l), n):\n",
    "        yield l[i:i + n]"
   ]
  },
  {
   "cell_type": "code",
   "execution_count": null,
   "metadata": {},
   "outputs": [],
   "source": [
    "load_dotenv()\n",
    "\n",
    "BASE_URL = \"https://api.github.com/emojis\"\n",
    "\n",
    "GITHUB_API_KEY = os.getenv(\"GITHUB_API_KEY\")\n",
    "headers = {\n",
    "    \"Authorization\": f\"Bearer {GITHUB_API_KEY}\",\n",
    "    \"Accept\": \"application/vnd.github+json\"\n",
    "}"
   ]
  },
  {
   "cell_type": "code",
   "execution_count": null,
   "metadata": {},
   "outputs": [],
   "source": [
    "def get_emoji(key : str, url : str):\n",
    "    response_image = requests.get(url)\n",
    "    emoji_file = open(f\"./images/{key}.png\", \"wb\")\n",
    "    emoji_file.write(response_image.content)\n",
    "    emoji_file.close()\n",
    "    return \"OK\"\n",
    "\n",
    "response = requests.get(f\"{BASE_URL}\", headers=headers)\n",
    "if response.status_code == 200:\n",
    "    emojis_dict = response.json()\n",
    "    keys = list(emojis_dict.keys())\n",
    "    emojis = []\n",
    "    for key in keys:\n",
    "        value = emojis_dict[key]\n",
    "        emojis.append({\n",
    "            \"name\": key,\n",
    "            \"icon\": value\n",
    "        })\n",
    "    emojis_data_frame = pandas.DataFrame(emojis)\n",
    "    emojis_data_frame.to_csv(\"./emojis.csv\", index=False, header=True)\n",
    "    emojis_json = json.dumps(emojis, indent=2)\n",
    "    emojis_json_file = open(\"./emojis.json\", \"w+\")\n",
    "    emojis_json_file.write(emojis_json)\n",
    "    with concurrent.futures.ThreadPoolExecutor() as executor:\n",
    "        futures = []\n",
    "        for key in keys:\n",
    "            url = emojis_dict[key]\n",
    "            futures.append(executor.submit(get_emoji, url=url, key=key))\n",
    "        for future in concurrent.futures.as_completed(futures):\n",
    "            status = future.result()"
   ]
  }
 ],
 "metadata": {
  "kernelspec": {
   "display_name": "Python 3",
   "language": "python",
   "name": "python3"
  },
  "language_info": {
   "codemirror_mode": {
    "name": "ipython",
    "version": 3
   },
   "file_extension": ".py",
   "mimetype": "text/x-python",
   "name": "python",
   "nbconvert_exporter": "python",
   "pygments_lexer": "ipython3",
   "version": "3.9.6"
  },
  "orig_nbformat": 4
 },
 "nbformat": 4,
 "nbformat_minor": 2
}
