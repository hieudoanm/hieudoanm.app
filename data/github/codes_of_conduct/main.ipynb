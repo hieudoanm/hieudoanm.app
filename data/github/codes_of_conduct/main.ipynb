{
 "cells": [
  {
   "attachments": {},
   "cell_type": "markdown",
   "metadata": {},
   "source": [
    "# Code of Conduct"
   ]
  },
  {
   "cell_type": "code",
   "execution_count": 1,
   "metadata": {},
   "outputs": [],
   "source": [
    "from dotenv import load_dotenv\n",
    "import os\n",
    "import pandas\n",
    "import requests\n",
    "from tqdm.notebook import tqdm as tqdm_notebook"
   ]
  },
  {
   "cell_type": "code",
   "execution_count": 2,
   "metadata": {},
   "outputs": [],
   "source": [
    "load_dotenv()\n",
    "\n",
    "BASE_URL = \"https://api.github.com/codes_of_conduct\"\n",
    "\n",
    "GITHUB_API_KEY = os.getenv(\"GITHUB_API_KEY\")\n",
    "headers = {\n",
    "    \"Authorization\": f\"Bearer {GITHUB_API_KEY}\",\n",
    "    \"Accept\": \"application/vnd.github+json\"\n",
    "}"
   ]
  },
  {
   "cell_type": "code",
   "execution_count": 3,
   "metadata": {},
   "outputs": [],
   "source": [
    "response = requests.get(f\"{BASE_URL}\", headers=headers)\n",
    "if response.status_code == 200:\n",
    "    codes = response.json()\n",
    "    codes_data_frame = pandas.DataFrame(codes)"
   ]
  },
  {
   "cell_type": "code",
   "execution_count": 4,
   "metadata": {},
   "outputs": [
    {
     "data": {
      "application/vnd.jupyter.widget-view+json": {
       "model_id": "7ec699e285ca4762bf0872d123cebd3b",
       "version_major": 2,
       "version_minor": 0
      },
      "text/plain": [
       "  0%|          | 0/2 [00:00<?, ?it/s]"
      ]
     },
     "metadata": {},
     "output_type": "display_data"
    }
   ],
   "source": [
    "codes_data_frame = pandas.read_csv(\"./codes.csv\")\n",
    "codes = codes_data_frame.to_dict(\"records\")\n",
    "\n",
    "for code in tqdm_notebook(codes):\n",
    "    key = code.get(\"key\")\n",
    "    name = code.get(\"name\")\n",
    "    response = requests.get(f\"{BASE_URL}/{key}\", headers=headers)\n",
    "    if response.status_code == 200:\n",
    "        coc_details = response.json()\n",
    "        body = coc_details.get(\"body\").strip()\n",
    "        if body != \"\":\n",
    "            file = open(f\"./docs/{name}.md\",'w+')\n",
    "            file.write(body)\n",
    "            file.close()"
   ]
  }
 ],
 "metadata": {
  "kernelspec": {
   "display_name": "Python 3",
   "language": "python",
   "name": "python3"
  },
  "language_info": {
   "codemirror_mode": {
    "name": "ipython",
    "version": 3
   },
   "file_extension": ".py",
   "mimetype": "text/x-python",
   "name": "python",
   "nbconvert_exporter": "python",
   "pygments_lexer": "ipython3",
   "version": "3.11.6"
  },
  "orig_nbformat": 4
 },
 "nbformat": 4,
 "nbformat_minor": 2
}
