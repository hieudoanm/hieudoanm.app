{
 "cells": [
  {
   "attachments": {},
   "cell_type": "markdown",
   "metadata": {},
   "source": [
    "# Collect"
   ]
  },
  {
   "cell_type": "code",
   "execution_count": 1,
   "metadata": {},
   "outputs": [],
   "source": [
    "import concurrent.futures\n",
    "import pandas\n",
    "import requests\n",
    "from tqdm.notebook import tqdm as tqdm_notebook"
   ]
  },
  {
   "attachments": {},
   "cell_type": "markdown",
   "metadata": {},
   "source": [
    "## Pokemon"
   ]
  },
  {
   "cell_type": "code",
   "execution_count": 2,
   "metadata": {},
   "outputs": [],
   "source": [
    "BASE_URL = \"https://pokeapi.co/api/v2/pokemon\"\n",
    "\n",
    "count = 0\n",
    "\n",
    "response = requests.get(BASE_URL)\n",
    "if response.status_code == 200:\n",
    "    data = response.json()\n",
    "    count = data.get(\"count\", 0)"
   ]
  },
  {
   "cell_type": "code",
   "execution_count": 3,
   "metadata": {},
   "outputs": [
    {
     "data": {
      "application/vnd.jupyter.widget-view+json": {
       "model_id": "4ce7bb82800e454d82e678b15eac7aa7",
       "version_major": 2,
       "version_minor": 0
      },
      "text/plain": [
       "  0%|          | 0/1279 [00:00<?, ?it/s]"
      ]
     },
     "metadata": {},
     "output_type": "display_data"
    },
    {
     "data": {
      "application/vnd.jupyter.widget-view+json": {
       "model_id": "fb9b0a45a0474c1b9ef2781bd449851d",
       "version_major": 2,
       "version_minor": 0
      },
      "text/plain": [
       "0it [00:00, ?it/s]"
      ]
     },
     "metadata": {},
     "output_type": "display_data"
    }
   ],
   "source": [
    "response = requests.get(f\"{BASE_URL}?limit={count}\")\n",
    "\n",
    "generations = {\n",
    "    \"generation-i\": 1,\n",
    "    \"generation-ii\": 2,\n",
    "    \"generation-iii\": 3,\n",
    "    \"generation-iv\": 4,\n",
    "    \"generation-v\": 5,\n",
    "    \"generation-vi\": 6,\n",
    "    \"generation-vii\": 7,\n",
    "    \"generation-viii\": 8,\n",
    "    \"generation-ix\": 9,\n",
    "}\n",
    "\n",
    "def get_species(url):\n",
    "    try:\n",
    "        response = requests.get(url)\n",
    "        if response.status_code == 200:\n",
    "            data = response.json()\n",
    "            is_legendary = data.get(\"is_legendary\", False)\n",
    "            generation_key = data.get(\"generation\", {}).get(\"name\", \"\")\n",
    "            return {\n",
    "                \"is_legendary\": is_legendary,\n",
    "                \"generation\": generations.get(generation_key, \"\")\n",
    "            }\n",
    "        else:\n",
    "            return {\n",
    "                \"is_legendary\": False,\n",
    "                \"generation\": \"\"\n",
    "            }\n",
    "    except:\n",
    "        return {\n",
    "            \"is_legendary\": False,\n",
    "            \"generation\": \"\"\n",
    "        }\n",
    "\n",
    "def get_pokemon(url):\n",
    "    try:\n",
    "        response = requests.get(url)\n",
    "        if response.status_code == 200:\n",
    "            data = response.json()\n",
    "            pokemon_id = data.get(\"id\")\n",
    "            name = data.get(\"name\")\n",
    "            # Image\n",
    "            image_url = data.get(\"sprites\", {}).get(\"front_default\", \"\")\n",
    "            response = requests.get(image_url)\n",
    "            if response.status_code == 200:\n",
    "                image_data = response.content\n",
    "                image_file = open(f\"./images/pokemon/{pokemon_id}.png\", 'wb')\n",
    "                image_file.write(image_data)\n",
    "            # Species\n",
    "            species_url = data.get(\"species\", {}).get(\"url\", \"\")\n",
    "            species = get_species(species_url)\n",
    "            # Types\n",
    "            types = data.get(\"types\", [])\n",
    "            type_1 = next((item for item in types if item[\"slot\"] == 1), {}).get(\"type\", {}).get(\"name\", \"\")\n",
    "            type_2 = next((item for item in types if item[\"slot\"] == 2), {}).get(\"type\", {}).get(\"name\", \"\")\n",
    "            # Stats\n",
    "            stats = data.get(\"stats\", [])\n",
    "            hp = next(item for item in stats if item.get(\"stat\", {}).get(\"name\", \"\") == \"hp\").get(\"base_stat\", 0)\n",
    "            attack = next(item for item in stats if item.get(\"stat\", {}).get(\"name\", \"\") == \"attack\").get(\"base_stat\", 0)\n",
    "            defense = next(item for item in stats if item.get(\"stat\", {}).get(\"name\", \"\") == \"defense\").get(\"base_stat\", 0)\n",
    "            special_attack = next(item for item in stats if item.get(\"stat\", {}).get(\"name\", \"\") == \"special-attack\").get(\"base_stat\", 0)\n",
    "            special_defense = next(item for item in stats if item.get(\"stat\", {}).get(\"name\", \"\") == \"special-defense\").get(\"base_stat\", 0)\n",
    "            speed = next(item for item in stats if item.get(\"stat\", {}).get(\"name\", \"\") == \"speed\").get(\"base_stat\", 0)\n",
    "            total_base_stat = hp + attack + defense + special_attack + special_defense + speed\n",
    "            return { \n",
    "                \"id\": pokemon_id,\n",
    "                \"name\": name,\n",
    "                \"type_1\": type_1,\n",
    "                \"type_2\": type_2,\n",
    "                \"hp\": hp,\n",
    "                \"attack\": attack, \n",
    "                \"defense\": defense, \n",
    "                \"special_attack\": special_attack, \n",
    "                \"special_defense\": special_defense, \n",
    "                \"speed\": speed,\n",
    "                \"total_base_stat\": total_base_stat,\n",
    "                \"is_legendary\": species.get(\"is_legendary\", False),\n",
    "                \"generation\": species.get(\"generation\", \"\")\n",
    "            }\n",
    "        else:\n",
    "            return {\n",
    "                \"id\": 0,\n",
    "                \"name\": \"\",\n",
    "                \"type_1\": \"\",\n",
    "                \"type_2\": \"\",\n",
    "                \"hp\": 0,\n",
    "                \"attack\": 0, \n",
    "                \"defense\": 0, \n",
    "                \"special_attack\": 0, \n",
    "                \"special_defense\": 0, \n",
    "                \"speed\": 0,\n",
    "                \"total_base_stat\": 0,\n",
    "                \"is_legendary\": False,\n",
    "                \"generation\": \"\"\n",
    "            }\n",
    "    except:\n",
    "        return {\n",
    "            \"id\": 0,\n",
    "            \"name\": \"\",\n",
    "            \"type_1\": \"\",\n",
    "            \"type_2\": \"\",\n",
    "            \"hp\": 0,\n",
    "            \"attack\": 0, \n",
    "            \"defense\": 0, \n",
    "            \"special_attack\": 0, \n",
    "            \"special_defense\": 0, \n",
    "            \"speed\": 0,\n",
    "            \"total_base_stat\": 0,\n",
    "            \"is_legendary\": False,\n",
    "            \"generation\": \"\"\n",
    "        }\n",
    "\n",
    "list_of_pokemon = []\n",
    "\n",
    "if response.status_code == 200:\n",
    "    data = response.json()\n",
    "    results = data.get(\"results\", [])\n",
    "    with concurrent.futures.ThreadPoolExecutor() as executor:\n",
    "        futures = []\n",
    "        for result in tqdm_notebook(results):\n",
    "            url = result.get(\"url\")\n",
    "            futures.append(executor.submit(get_pokemon, url=url))\n",
    "        for future in tqdm_notebook(concurrent.futures.as_completed(futures)):\n",
    "            pokemon = future.result()\n",
    "            list_of_pokemon.append(pokemon)\n",
    "    pokemon_data_frame = pandas.DataFrame.from_dict(list_of_pokemon)\n",
    "    sorted_pokemon_data_frame = pokemon_data_frame.sort_values(by = [\"id\"], ascending = True)\n",
    "    sorted_pokemon_data_frame.to_csv('data/pokemon.csv', index = False, header = True)"
   ]
  }
 ],
 "metadata": {
  "kernelspec": {
   "display_name": "Python 3",
   "language": "python",
   "name": "python3"
  },
  "language_info": {
   "codemirror_mode": {
    "name": "ipython",
    "version": 3
   },
   "file_extension": ".py",
   "mimetype": "text/x-python",
   "name": "python",
   "nbconvert_exporter": "python",
   "pygments_lexer": "ipython3",
   "version": "3.9.6"
  },
  "orig_nbformat": 4
 },
 "nbformat": 4,
 "nbformat_minor": 2
}
