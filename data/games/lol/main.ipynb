{
 "cells": [
  {
   "cell_type": "code",
   "execution_count": 22,
   "metadata": {},
   "outputs": [],
   "source": [
    "import pandas as pd"
   ]
  },
  {
   "cell_type": "code",
   "execution_count": 23,
   "metadata": {},
   "outputs": [
    {
     "data": {
      "text/html": [
       "<div>\n",
       "<style scoped>\n",
       "    .dataframe tbody tr th:only-of-type {\n",
       "        vertical-align: middle;\n",
       "    }\n",
       "\n",
       "    .dataframe tbody tr th {\n",
       "        vertical-align: top;\n",
       "    }\n",
       "\n",
       "    .dataframe thead th {\n",
       "        text-align: right;\n",
       "    }\n",
       "</style>\n",
       "<table border=\"1\" class=\"dataframe\">\n",
       "  <thead>\n",
       "    <tr style=\"text-align: right;\">\n",
       "      <th></th>\n",
       "      <th>year</th>\n",
       "      <th>champion</th>\n",
       "      <th>champion_country</th>\n",
       "      <th>runner_up</th>\n",
       "      <th>runner_up_country</th>\n",
       "    </tr>\n",
       "  </thead>\n",
       "  <tbody>\n",
       "    <tr>\n",
       "      <th>0</th>\n",
       "      <td>2011</td>\n",
       "      <td>Fnatic</td>\n",
       "      <td>United Kingdom</td>\n",
       "      <td>against All authority</td>\n",
       "      <td>France</td>\n",
       "    </tr>\n",
       "    <tr>\n",
       "      <th>1</th>\n",
       "      <td>2012</td>\n",
       "      <td>J Team</td>\n",
       "      <td>Taiwan</td>\n",
       "      <td>OGN Entus</td>\n",
       "      <td>South Korea</td>\n",
       "    </tr>\n",
       "    <tr>\n",
       "      <th>2</th>\n",
       "      <td>2013</td>\n",
       "      <td>T1</td>\n",
       "      <td>South Korea</td>\n",
       "      <td>Royal Club</td>\n",
       "      <td>China</td>\n",
       "    </tr>\n",
       "    <tr>\n",
       "      <th>3</th>\n",
       "      <td>2014</td>\n",
       "      <td>Samsung Galaxy</td>\n",
       "      <td>South Korea</td>\n",
       "      <td>Royal Club</td>\n",
       "      <td>China</td>\n",
       "    </tr>\n",
       "    <tr>\n",
       "      <th>4</th>\n",
       "      <td>2015</td>\n",
       "      <td>T1</td>\n",
       "      <td>South Korea</td>\n",
       "      <td>Hanwha Life Esports</td>\n",
       "      <td>South Korea</td>\n",
       "    </tr>\n",
       "    <tr>\n",
       "      <th>5</th>\n",
       "      <td>2016</td>\n",
       "      <td>T1</td>\n",
       "      <td>South Korea</td>\n",
       "      <td>Samsung Galaxy</td>\n",
       "      <td>South Korea</td>\n",
       "    </tr>\n",
       "    <tr>\n",
       "      <th>6</th>\n",
       "      <td>2017</td>\n",
       "      <td>Samsung Galaxy</td>\n",
       "      <td>South Korea</td>\n",
       "      <td>T1</td>\n",
       "      <td>South Korea</td>\n",
       "    </tr>\n",
       "    <tr>\n",
       "      <th>7</th>\n",
       "      <td>2018</td>\n",
       "      <td>Invictus Gaming</td>\n",
       "      <td>China</td>\n",
       "      <td>Fnatic</td>\n",
       "      <td>United Kingdom</td>\n",
       "    </tr>\n",
       "    <tr>\n",
       "      <th>8</th>\n",
       "      <td>2019</td>\n",
       "      <td>FunPlus Phoenix</td>\n",
       "      <td>China</td>\n",
       "      <td>G2 Esports</td>\n",
       "      <td>Germany</td>\n",
       "    </tr>\n",
       "    <tr>\n",
       "      <th>9</th>\n",
       "      <td>2020</td>\n",
       "      <td>Dplus KIA</td>\n",
       "      <td>South Korea</td>\n",
       "      <td>Weibo Gaming</td>\n",
       "      <td>China</td>\n",
       "    </tr>\n",
       "    <tr>\n",
       "      <th>10</th>\n",
       "      <td>2021</td>\n",
       "      <td>Edward Gaming</td>\n",
       "      <td>China</td>\n",
       "      <td>DWG KIA</td>\n",
       "      <td>South Korea</td>\n",
       "    </tr>\n",
       "    <tr>\n",
       "      <th>11</th>\n",
       "      <td>2022</td>\n",
       "      <td>DRX</td>\n",
       "      <td>South Korea</td>\n",
       "      <td>T1</td>\n",
       "      <td>South Korea</td>\n",
       "    </tr>\n",
       "    <tr>\n",
       "      <th>12</th>\n",
       "      <td>2023</td>\n",
       "      <td>T1</td>\n",
       "      <td>South Korea</td>\n",
       "      <td>Weibo Gaming</td>\n",
       "      <td>China</td>\n",
       "    </tr>\n",
       "  </tbody>\n",
       "</table>\n",
       "</div>"
      ],
      "text/plain": [
       "    year         champion champion_country              runner_up  \\\n",
       "0   2011           Fnatic   United Kingdom  against All authority   \n",
       "1   2012           J Team           Taiwan              OGN Entus   \n",
       "2   2013               T1      South Korea             Royal Club   \n",
       "3   2014   Samsung Galaxy      South Korea             Royal Club   \n",
       "4   2015               T1      South Korea    Hanwha Life Esports   \n",
       "5   2016               T1      South Korea         Samsung Galaxy   \n",
       "6   2017   Samsung Galaxy      South Korea                     T1   \n",
       "7   2018  Invictus Gaming            China                 Fnatic   \n",
       "8   2019  FunPlus Phoenix            China             G2 Esports   \n",
       "9   2020        Dplus KIA      South Korea           Weibo Gaming   \n",
       "10  2021    Edward Gaming            China                DWG KIA   \n",
       "11  2022              DRX      South Korea                     T1   \n",
       "12  2023               T1      South Korea           Weibo Gaming   \n",
       "\n",
       "   runner_up_country  \n",
       "0             France  \n",
       "1        South Korea  \n",
       "2              China  \n",
       "3              China  \n",
       "4        South Korea  \n",
       "5        South Korea  \n",
       "6        South Korea  \n",
       "7     United Kingdom  \n",
       "8            Germany  \n",
       "9              China  \n",
       "10       South Korea  \n",
       "11       South Korea  \n",
       "12             China  "
      ]
     },
     "execution_count": 23,
     "metadata": {},
     "output_type": "execute_result"
    }
   ],
   "source": [
    "champions_data_frame = pd.read_csv(\"./champions.csv\")\n",
    "champions_data_frame"
   ]
  },
  {
   "cell_type": "code",
   "execution_count": 24,
   "metadata": {},
   "outputs": [
    {
     "data": {
      "text/plain": [
       "champion         champion_country\n",
       "T1               South Korea         4\n",
       "Samsung Galaxy   South Korea         2\n",
       "DRX              South Korea         1\n",
       "Dplus KIA        South Korea         1\n",
       "Edward Gaming    China               1\n",
       "Fnatic           United Kingdom      1\n",
       "FunPlus Phoenix  China               1\n",
       "Invictus Gaming  China               1\n",
       "J Team           Taiwan              1\n",
       "Name: count, dtype: int64"
      ]
     },
     "execution_count": 24,
     "metadata": {},
     "output_type": "execute_result"
    }
   ],
   "source": [
    "champions = champions_data_frame[['champion', 'champion_country']].value_counts()\n",
    "champions"
   ]
  },
  {
   "cell_type": "code",
   "execution_count": 25,
   "metadata": {},
   "outputs": [
    {
     "data": {
      "text/plain": [
       "runner_up              runner_up_country\n",
       "Royal Club             China                2\n",
       "T1                     South Korea          2\n",
       "Weibo Gaming           China                2\n",
       "DWG KIA                South Korea          1\n",
       "Fnatic                 United Kingdom       1\n",
       "G2 Esports             Germany              1\n",
       "Hanwha Life Esports    South Korea          1\n",
       "OGN Entus              South Korea          1\n",
       "Samsung Galaxy         South Korea          1\n",
       "against All authority  France               1\n",
       "Name: count, dtype: int64"
      ]
     },
     "execution_count": 25,
     "metadata": {},
     "output_type": "execute_result"
    }
   ],
   "source": [
    "runners_up = champions_data_frame[['runner_up', 'runner_up_country']].value_counts()\n",
    "runners_up"
   ]
  },
  {
   "cell_type": "code",
   "execution_count": 26,
   "metadata": {},
   "outputs": [
    {
     "data": {
      "text/plain": [
       "champion         runner_up            \n",
       "DRX              T1                       1\n",
       "Dplus KIA        Weibo Gaming             1\n",
       "Edward Gaming    DWG KIA                  1\n",
       "Fnatic           against All authority    1\n",
       "FunPlus Phoenix  G2 Esports               1\n",
       "Invictus Gaming  Fnatic                   1\n",
       "J Team           OGN Entus                1\n",
       "Samsung Galaxy   Royal Club               1\n",
       "                 T1                       1\n",
       "T1               Hanwha Life Esports      1\n",
       "                 Royal Club               1\n",
       "                 Samsung Galaxy           1\n",
       "                 Weibo Gaming             1\n",
       "Name: count, dtype: int64"
      ]
     },
     "execution_count": 26,
     "metadata": {},
     "output_type": "execute_result"
    }
   ],
   "source": [
    "finals = champions_data_frame[['champion', 'runner_up']].value_counts()\n",
    "finals"
   ]
  }
 ],
 "metadata": {
  "kernelspec": {
   "display_name": "Python 3",
   "language": "python",
   "name": "python3"
  },
  "language_info": {
   "codemirror_mode": {
    "name": "ipython",
    "version": 3
   },
   "file_extension": ".py",
   "mimetype": "text/x-python",
   "name": "python",
   "nbconvert_exporter": "python",
   "pygments_lexer": "ipython3",
   "version": "3.11.6"
  }
 },
 "nbformat": 4,
 "nbformat_minor": 2
}
