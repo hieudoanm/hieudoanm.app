{
 "cells": [
  {
   "cell_type": "code",
   "execution_count": 1,
   "metadata": {},
   "outputs": [],
   "source": [
    "import os\n",
    "\n",
    "def get_svg_files(directory) -> list[str]:\n",
    "    svg_files : list[str] = []\n",
    "    for root, _, files in os.walk(directory):\n",
    "        svg_files_directory = [f\"{root}/{file}\" for file in files if file.lower().endswith('.svg')]\n",
    "        svg_files = svg_files + svg_files_directory\n",
    "    return svg_files"
   ]
  },
  {
   "cell_type": "code",
   "execution_count": 2,
   "metadata": {},
   "outputs": [
    {
     "name": "stdout",
     "output_type": "stream",
     "text": [
      "Total number of .svg files: 3060\n"
     ]
    }
   ],
   "source": [
    "from io import TextIOWrapper\n",
    "from pathlib import Path\n",
    "\n",
    "square_directory : str = './square'\n",
    "# square_string : str = '<rect x=\"0\" y=\"0\" width=\"512\" height=\"512\" transform=\"matrix(1,0,0,1,0,0)\" fill=\"rgb(27,27,29)\" />'\n",
    "square_string_1 : str = '<rect width=\"512\" height=\"512\" style=\"fill:rgb(27,27,29)\"/>'\n",
    "square_string_2 : str = '<rect width=\"512\" height=\"512\" style=\"fill:rgb(27,27,29)\" />'\n",
    "square_string_3 : str = '<rect x=\"0\" y=\"0\" width=\"512\" height=\"512\" transform=\"matrix(1,0,0,1,0,0)\" fill=\"rgb(27,27,29)\"/>'\n",
    "square_string_4 : str = '<rect x=\"0\" y=\"0\" width=\"512\" height=\"512\" transform=\"matrix(1,0,0,1,0,0)\" fill=\"rgb(27,27,29)\" />'\n",
    "circle_string : str = '<circle vector-effect=\"non-scaling-stroke\" cx=\"256\" cy=\"256\" r=\"256\" fill=\"rgb(27,27,29)\" />'\n",
    "if os.path.isdir(square_directory):\n",
    "    square_svg_files : list[str] = get_svg_files(square_directory)\n",
    "    print(f\"Total number of .svg files: {len(square_svg_files)}\")\n",
    "    for square_svg_file in square_svg_files:\n",
    "        square_svg_io : TextIOWrapper = open(square_svg_file, 'r')\n",
    "        square_svg_string : str= square_svg_io.read()\n",
    "        square_string_count_1 : int = square_svg_string.count(square_string_1)\n",
    "        square_string_count_2 : int = square_svg_string.count(square_string_2)\n",
    "        square_string_count_3 : int = square_svg_string.count(square_string_3)\n",
    "        square_string_count_4 : int = square_svg_string.count(square_string_4)\n",
    "        if square_string_count_1 >= 1 or square_string_count_2 >= 1 or square_string_count_3 >= 1 or square_string_count_4 >= 1:\n",
    "            circle_svg_string = square_svg_string.replace(square_string_1, circle_string)\n",
    "            circle_svg_string = circle_svg_string.replace(square_string_2, circle_string)\n",
    "            circle_svg_string = circle_svg_string.replace(square_string_3, circle_string)\n",
    "            circle_svg_string = circle_svg_string.replace(square_string_4, circle_string)\n",
    "            circle_svg_file = square_svg_file.replace(\"/square/\", \"/circle/\")\n",
    "            circle_svg_path = Path(\"/\".join(circle_svg_file.split(\"/\")[:-1]))\n",
    "            circle_svg_path.mkdir(parents=True, exist_ok=True)\n",
    "            circle_svg_filename = Path(circle_svg_file)\n",
    "            circle_svg_filename.touch(exist_ok=True)\n",
    "            circle_svg_io = open(circle_svg_file, \"w+\")\n",
    "            circle_svg_io.write(circle_svg_string)\n",
    "            circle_svg_io.close()\n",
    "        elif square_svg_file.count(\"black/white\"):\n",
    "            print(square_svg_file, square_string_count_1, square_string_count_2)\n",
    "else:\n",
    "    print(\"The provided path is not a valid directory.\")"
   ]
  }
 ],
 "metadata": {
  "kernelspec": {
   "display_name": "Python 3",
   "language": "python",
   "name": "python3"
  },
  "language_info": {
   "codemirror_mode": {
    "name": "ipython",
    "version": 3
   },
   "file_extension": ".py",
   "mimetype": "text/x-python",
   "name": "python",
   "nbconvert_exporter": "python",
   "pygments_lexer": "ipython3",
   "version": "3.12.2"
  }
 },
 "nbformat": 4,
 "nbformat_minor": 2
}
