{
 "cells": [
  {
   "cell_type": "code",
   "execution_count": 11,
   "metadata": {},
   "outputs": [],
   "source": [
    "import os\n",
    "\n",
    "def count_svg_files(directory):\n",
    "    svg_count = 0\n",
    "    for root, _, files in os.walk(directory):\n",
    "        svg_count += sum(1 for file in files if file.lower().endswith('.svg'))\n",
    "    return svg_count"
   ]
  },
  {
   "cell_type": "code",
   "execution_count": 12,
   "metadata": {},
   "outputs": [
    {
     "name": "stdout",
     "output_type": "stream",
     "text": [
      "Total number of .svg files: 96\n"
     ]
    }
   ],
   "source": [
    "if __name__ == \"__main__\":\n",
    "    directory = \"./black/white\"\n",
    "    if os.path.isdir(directory):\n",
    "        total_svgs = count_svg_files(directory)\n",
    "        print(f\"Total number of .svg files: {total_svgs}\")\n",
    "    else:\n",
    "        print(\"The provided path is not a valid directory.\")"
   ]
  }
 ],
 "metadata": {
  "kernelspec": {
   "display_name": "Python 3",
   "language": "python",
   "name": "python3"
  },
  "language_info": {
   "codemirror_mode": {
    "name": "ipython",
    "version": 3
   },
   "file_extension": ".py",
   "mimetype": "text/x-python",
   "name": "python",
   "nbconvert_exporter": "python",
   "pygments_lexer": "ipython3",
   "version": "3.13.0"
  }
 },
 "nbformat": 4,
 "nbformat_minor": 2
}
