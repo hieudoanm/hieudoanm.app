{
 "cells": [
  {
   "cell_type": "code",
   "execution_count": 23,
   "metadata": {},
   "outputs": [],
   "source": [
    "import os\n",
    "\n",
    "def get_svg_files(directory):\n",
    "    svg_files = []\n",
    "    for root, _, files in os.walk(directory):\n",
    "        svg_files_directory = [f\"{root}/{file}\" for file in files if file.lower().endswith('.svg')]\n",
    "        svg_files = svg_files + svg_files_directory\n",
    "    return svg_files"
   ]
  },
  {
   "cell_type": "code",
   "execution_count": null,
   "metadata": {},
   "outputs": [],
   "source": [
    "import gi\n",
    "gi.require_version('Rsvg', '2.0')\n",
    "from gi.repository import Rsvg\n",
    "import cairo\n",
    "from io import StringIO\n",
    "\n",
    "def render_svg_to_png(svg_data):\n",
    "    # Render\n",
    "    svg = rsvg.Handle(data=svg_data)\n",
    "    img = cairo.ImageSurface(cairo.FORMAT_ARGB32, \n",
    "      svg.props.width, \n",
    "      svg.props.height)\n",
    "    ctx = cairo.Context(img)\n",
    "    svg.render_cairo(ctx)\n",
    "\n",
    "    # Write to StringIO\n",
    "    png_io = StringIO.StringIO()\n",
    "    img.write_to_png(png_io)\n",
    "\n",
    "    return png_io.getvalue()\n"
   ]
  },
  {
   "cell_type": "code",
   "execution_count": null,
   "metadata": {},
   "outputs": [
    {
     "name": "stdout",
     "output_type": "stream",
     "text": [
      "Total number of .svg files: 624\n"
     ]
    }
   ],
   "source": [
    "if __name__ == \"__main__\":\n",
    "    # directory = input(\"Enter the directory path to search: \").strip()\n",
    "    svg_directory = './svg'\n",
    "    if os.path.isdir(svg_directory):\n",
    "        svg_files = get_svg_files(svg_directory)\n",
    "        print(f\"Total number of .svg files: {len(svg_files)}\")\n",
    "        for svg_file in svg_files:\n",
    "            svg_data = open(svg_file, 'r').read()\n",
    "            render_svg_to_png(svg_data)"
   ]
  }
 ],
 "metadata": {
  "kernelspec": {
   "display_name": "Python 3",
   "language": "python",
   "name": "python3"
  },
  "language_info": {
   "codemirror_mode": {
    "name": "ipython",
    "version": 3
   },
   "file_extension": ".py",
   "mimetype": "text/x-python",
   "name": "python",
   "nbconvert_exporter": "python",
   "pygments_lexer": "ipython3",
   "version": "3.13.0"
  }
 },
 "nbformat": 4,
 "nbformat_minor": 2
}
