{
 "cells": [
  {
   "cell_type": "code",
   "execution_count": 1,
   "metadata": {},
   "outputs": [],
   "source": [
    "import os\n",
    "\n",
    "def get_svg_files(directory):\n",
    "    svg_files = []\n",
    "    for root, _, files in os.walk(directory):\n",
    "        svg_files_directory = [f\"{root}/{file}\" for file in files if file.lower().endswith('.svg')]\n",
    "        svg_files = svg_files + svg_files_directory\n",
    "    return svg_files"
   ]
  },
  {
   "cell_type": "code",
   "execution_count": 2,
   "metadata": {},
   "outputs": [],
   "source": [
    "import cairosvg\n",
    "from pathlib import Path\n",
    "\n",
    "def render_svg_to_png(svg_filename : str):\n",
    "    png_filename = svg_filename.replace(\".svg\", \".png\")\n",
    "    png_filename = png_filename.replace(\"/svg\", \"/png\")\n",
    "    png_path = Path(\"/\".join(png_filename.split(\"/\")[:-1]))\n",
    "    png_path.mkdir(parents=True, exist_ok=True)\n",
    "    cairosvg.svg2png(url=svg_filename, write_to=png_filename, output_width=512, output_height=512)\n"
   ]
  },
  {
   "cell_type": "code",
   "execution_count": 3,
   "metadata": {},
   "outputs": [
    {
     "name": "stdout",
     "output_type": "stream",
     "text": [
      "Total number of .svg files: 5760\n"
     ]
    },
    {
     "data": {
      "application/vnd.jupyter.widget-view+json": {
       "model_id": "94493ccde6d54b19a91b3ea83427ca06",
       "version_major": 2,
       "version_minor": 0
      },
      "text/plain": [
       "  0%|          | 0/5760 [00:00<?, ?it/s]"
      ]
     },
     "metadata": {},
     "output_type": "display_data"
    }
   ],
   "source": [
    "from tqdm.notebook import tqdm\n",
    "\n",
    "if __name__ == \"__main__\":\n",
    "    svg_directory = './svg'\n",
    "    if os.path.isdir(svg_directory):\n",
    "        svg_files = get_svg_files(svg_directory)\n",
    "        print(f\"Total number of .svg files: {len(svg_files)}\")\n",
    "        for svg_file in tqdm(svg_files):\n",
    "            render_svg_to_png(svg_file)"
   ]
  }
 ],
 "metadata": {
  "kernelspec": {
   "display_name": "Python 3",
   "language": "python",
   "name": "python3"
  },
  "language_info": {
   "codemirror_mode": {
    "name": "ipython",
    "version": 3
   },
   "file_extension": ".py",
   "mimetype": "text/x-python",
   "name": "python",
   "nbconvert_exporter": "python",
   "pygments_lexer": "ipython3",
   "version": "3.13.0"
  }
 },
 "nbformat": 4,
 "nbformat_minor": 2
}
