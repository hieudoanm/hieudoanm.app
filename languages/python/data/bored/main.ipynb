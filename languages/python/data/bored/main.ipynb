{
 "cells": [
  {
   "cell_type": "code",
   "execution_count": 3,
   "metadata": {},
   "outputs": [
    {
     "name": "stdout",
     "output_type": "stream",
     "text": [
      "https://bored-api.appbrewery.com/filter?type=education <Response [200]>\n",
      "https://bored-api.appbrewery.com/filter?type=recreational <Response [200]>\n",
      "https://bored-api.appbrewery.com/filter?type=social <Response [200]>\n",
      "https://bored-api.appbrewery.com/filter?type=charity <Response [200]>\n",
      "https://bored-api.appbrewery.com/filter?type=cooking <Response [200]>\n",
      "https://bored-api.appbrewery.com/filter?type=relaxation <Response [200]>\n",
      "https://bored-api.appbrewery.com/filter?type=busywork <Response [200]>\n"
     ]
    }
   ],
   "source": [
    "import json\n",
    "import pandas\n",
    "import requests\n",
    "\n",
    "activity_types = [\n",
    "    \"education\",\n",
    "    \"recreational\",\n",
    "    \"social\",\n",
    "    \"charity\",\n",
    "    \"cooking\",\n",
    "    \"relaxation\",\n",
    "    \"busywork\",\n",
    "]\n",
    "all_activities: list[dict] = []\n",
    "all_activities_full: list[dict] = []\n",
    "for activity_type in activity_types:\n",
    "    url = f\"https://bored-api.appbrewery.com/filter?type={activity_type}\"\n",
    "    response = requests.get(url, timeout=10)\n",
    "    print(url, response)\n",
    "    data: list[dict] = response.json()\n",
    "    activities = list(\n",
    "        map(\n",
    "            lambda item: {\n",
    "                \"type\": activity_type,\n",
    "                \"activity\": item.get(\"activity\", \"\"),\n",
    "            },\n",
    "            data,\n",
    "        )\n",
    "    )\n",
    "    all_activities = all_activities + activities\n",
    "    all_activities_full = all_activities_full + data"
   ]
  },
  {
   "cell_type": "code",
   "execution_count": 5,
   "metadata": {},
   "outputs": [],
   "source": [
    "activities_df = pandas.DataFrame(all_activities)\n",
    "activities_df = activities_df.sort_values(by=[\"type\", \"activity\"])\n",
    "activities_df.to_csv(\"./activities.csv\", index=False)\n",
    "activities_json_file = open(\"activities.json\", \"w\")\n",
    "json.dump(all_activities_full, activities_json_file, indent=4)"
   ]
  }
 ],
 "metadata": {
  "kernelspec": {
   "display_name": "Python 3",
   "language": "python",
   "name": "python3"
  },
  "language_info": {
   "codemirror_mode": {
    "name": "ipython",
    "version": 3
   },
   "file_extension": ".py",
   "mimetype": "text/x-python",
   "name": "python",
   "nbconvert_exporter": "python",
   "pygments_lexer": "ipython3",
   "version": "3.12.2"
  }
 },
 "nbformat": 4,
 "nbformat_minor": 2
}
