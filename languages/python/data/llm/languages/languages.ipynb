{
 "cells": [
  {
   "cell_type": "code",
   "execution_count": 16,
   "metadata": {},
   "outputs": [],
   "source": [
    "import pandas as pd"
   ]
  },
  {
   "cell_type": "code",
   "execution_count": 17,
   "metadata": {},
   "outputs": [
    {
     "data": {
      "text/html": [
       "<div>\n",
       "<style scoped>\n",
       "    .dataframe tbody tr th:only-of-type {\n",
       "        vertical-align: middle;\n",
       "    }\n",
       "\n",
       "    .dataframe tbody tr th {\n",
       "        vertical-align: top;\n",
       "    }\n",
       "\n",
       "    .dataframe thead th {\n",
       "        text-align: right;\n",
       "    }\n",
       "</style>\n",
       "<table border=\"1\" class=\"dataframe\">\n",
       "  <thead>\n",
       "    <tr style=\"text-align: right;\">\n",
       "      <th></th>\n",
       "      <th>name</th>\n",
       "      <th>code2</th>\n",
       "      <th>code3</th>\n",
       "    </tr>\n",
       "  </thead>\n",
       "  <tbody>\n",
       "    <tr>\n",
       "      <th>0</th>\n",
       "      <td>afrikaans</td>\n",
       "      <td>NaN</td>\n",
       "      <td>NaN</td>\n",
       "    </tr>\n",
       "    <tr>\n",
       "      <th>1</th>\n",
       "      <td>albanian</td>\n",
       "      <td>NaN</td>\n",
       "      <td>NaN</td>\n",
       "    </tr>\n",
       "    <tr>\n",
       "      <th>2</th>\n",
       "      <td>amharic</td>\n",
       "      <td>NaN</td>\n",
       "      <td>NaN</td>\n",
       "    </tr>\n",
       "    <tr>\n",
       "      <th>3</th>\n",
       "      <td>arabic</td>\n",
       "      <td>NaN</td>\n",
       "      <td>NaN</td>\n",
       "    </tr>\n",
       "    <tr>\n",
       "      <th>4</th>\n",
       "      <td>armenian</td>\n",
       "      <td>NaN</td>\n",
       "      <td>NaN</td>\n",
       "    </tr>\n",
       "    <tr>\n",
       "      <th>...</th>\n",
       "      <td>...</td>\n",
       "      <td>...</td>\n",
       "      <td>...</td>\n",
       "    </tr>\n",
       "    <tr>\n",
       "      <th>96</th>\n",
       "      <td>vietnamese</td>\n",
       "      <td>NaN</td>\n",
       "      <td>NaN</td>\n",
       "    </tr>\n",
       "    <tr>\n",
       "      <th>97</th>\n",
       "      <td>welsh</td>\n",
       "      <td>NaN</td>\n",
       "      <td>NaN</td>\n",
       "    </tr>\n",
       "    <tr>\n",
       "      <th>98</th>\n",
       "      <td>yiddish</td>\n",
       "      <td>NaN</td>\n",
       "      <td>NaN</td>\n",
       "    </tr>\n",
       "    <tr>\n",
       "      <th>99</th>\n",
       "      <td>yoruba</td>\n",
       "      <td>NaN</td>\n",
       "      <td>NaN</td>\n",
       "    </tr>\n",
       "    <tr>\n",
       "      <th>100</th>\n",
       "      <td>zulu</td>\n",
       "      <td>NaN</td>\n",
       "      <td>NaN</td>\n",
       "    </tr>\n",
       "  </tbody>\n",
       "</table>\n",
       "<p>101 rows × 3 columns</p>\n",
       "</div>"
      ],
      "text/plain": [
       "           name code2 code3\n",
       "0     afrikaans   NaN   NaN\n",
       "1      albanian   NaN   NaN\n",
       "2       amharic   NaN   NaN\n",
       "3        arabic   NaN   NaN\n",
       "4      armenian   NaN   NaN\n",
       "..          ...   ...   ...\n",
       "96   vietnamese   NaN   NaN\n",
       "97        welsh   NaN   NaN\n",
       "98      yiddish   NaN   NaN\n",
       "99       yoruba   NaN   NaN\n",
       "100        zulu   NaN   NaN\n",
       "\n",
       "[101 rows x 3 columns]"
      ]
     },
     "execution_count": 17,
     "metadata": {},
     "output_type": "execute_result"
    }
   ],
   "source": [
    "languages_df = pd.read_csv(\"./languages.csv\")\n",
    "languages_df = languages_df.sort_values(by=[\"name\"])\n",
    "languages_df.to_csv(\"./languages.csv\", index=False)\n",
    "languages_df"
   ]
  },
  {
   "cell_type": "code",
   "execution_count": 18,
   "metadata": {},
   "outputs": [
    {
     "data": {
      "text/plain": [
       "101"
      ]
     },
     "execution_count": 18,
     "metadata": {},
     "output_type": "execute_result"
    }
   ],
   "source": [
    "languages_df[\"name\"].unique().size"
   ]
  },
  {
   "cell_type": "code",
   "execution_count": 19,
   "metadata": {},
   "outputs": [
    {
     "data": {
      "text/plain": [
       "array(['afrikaans', 'albanian', 'amharic', 'arabic', 'armenian',\n",
       "       'azerbaijani', 'basque', 'belarusian', 'bengali', 'bosnian',\n",
       "       'bulgarian', 'burmese', 'cantonese', 'catalan', 'cebuano',\n",
       "       'chichewa', 'croatian', 'czech', 'danish', 'dari', 'dutch',\n",
       "       'english', 'esperanto', 'estonian', 'farsi', 'fillipino',\n",
       "       'finnish', 'french', 'galician', 'georgian', 'german', 'greek',\n",
       "       'gujarati', 'haitian creole', 'hausa', 'hebrew', 'hindi', 'hmong',\n",
       "       'hungarian', 'icelandic', 'igbo', 'indonesian', 'italian',\n",
       "       'japanese', 'javanese', 'kannada', 'kazakh', 'khmer', 'korean',\n",
       "       'kurdish', 'kyrgyz', 'lao', 'laotian', 'latin', 'latvian',\n",
       "       'lithuanian', 'macedonian', 'malagasy', 'malay', 'malayalam',\n",
       "       'maltese', 'mandarin', 'maori', 'marathi', 'mongolian', 'nepali',\n",
       "       'norwegian', 'oromo', 'persian', 'polish', 'portuguese', 'pulaar',\n",
       "       'punjabi', 'romanian', 'russian', 'serbian', 'sesotho', 'sinhala',\n",
       "       'slovak', 'slovenian', 'somali', 'spanish', 'sundanese', 'swahili',\n",
       "       'swedish', 'tagalog', 'tajiki', 'tamil', 'telugu', 'thai',\n",
       "       'tibetan', 'turkish', 'turkmen', 'ukrainian', 'urdu', 'uzbek',\n",
       "       'vietnamese', 'welsh', 'yiddish', 'yoruba', 'zulu'], dtype=object)"
      ]
     },
     "execution_count": 19,
     "metadata": {},
     "output_type": "execute_result"
    }
   ],
   "source": [
    "languages_df[\"name\"].unique()"
   ]
  }
 ],
 "metadata": {
  "kernelspec": {
   "display_name": "Python 3",
   "language": "python",
   "name": "python3"
  },
  "language_info": {
   "codemirror_mode": {
    "name": "ipython",
    "version": 3
   },
   "file_extension": ".py",
   "mimetype": "text/x-python",
   "name": "python",
   "nbconvert_exporter": "python",
   "pygments_lexer": "ipython3",
   "version": "3.12.3"
  }
 },
 "nbformat": 4,
 "nbformat_minor": 2
}
