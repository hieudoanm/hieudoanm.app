{
 "cells": [
  {
   "cell_type": "code",
   "execution_count": 3,
   "metadata": {},
   "outputs": [],
   "source": [
    "import requests\n",
    "import pandas\n",
    "import json\n",
    "import io\n",
    "\n",
    "letters = [\"a\", \"b\", \"c\", \"d\", \"e\"]\n",
    "url = \"https://raw.githubusercontent.com/lichess-org/chess-openings/master\"\n",
    "\n",
    "full = pandas.DataFrame()\n",
    "\n",
    "for letter in letters:\n",
    "    letter_url = f\"{url}/{letter}.tsv\"\n",
    "    response = requests.get(letter_url)\n",
    "    tsv = response.text\n",
    "    df = pandas.read_csv(io.StringIO(tsv), delimiter=\"\\t\")\n",
    "    full = pandas.concat([full, df])\n",
    "\n",
    "full.to_csv(\"./openings.csv\", index=False)\n",
    "\n",
    "result = full.to_json(orient=\"records\")\n",
    "parsed = json.loads(result)\n",
    "file = open(\"./openings.json\", \"w\", encoding=\"utf-8\")\n",
    "json.dump(parsed, file, ensure_ascii=False, indent=4)"
   ]
  }
 ],
 "metadata": {
  "kernelspec": {
   "display_name": "Python 3",
   "language": "python",
   "name": "python3"
  },
  "language_info": {
   "codemirror_mode": {
    "name": "ipython",
    "version": 3
   },
   "file_extension": ".py",
   "mimetype": "text/x-python",
   "name": "python",
   "nbconvert_exporter": "python",
   "pygments_lexer": "ipython3",
   "version": "3.12.4"
  }
 },
 "nbformat": 4,
 "nbformat_minor": 2
}
