{
 "cells": [
  {
   "cell_type": "code",
   "execution_count": 3,
   "metadata": {},
   "outputs": [
    {
     "data": {
      "application/vnd.jupyter.widget-view+json": {
       "model_id": "eb4a185a57994b6faf8781ef6ca7451a",
       "version_major": 2,
       "version_minor": 0
      },
      "text/plain": [
       "  0%|          | 0/31 [00:00<?, ?it/s]"
      ]
     },
     "metadata": {},
     "output_type": "display_data"
    },
    {
     "name": "stdout",
     "output_type": "stream",
     "text": [
      "./anishgiri 1,429 False\n",
      "./azerichess 3,760 False\n",
      "./chefshouse 595 False\n",
      "./chesswarrior7197 6,154 False\n",
      "./danielnaroditsky 110,603 True\n",
      "./denlaz 6,177 False\n",
      "./dominguezonyoutube 4,349 False\n",
      "./duhless 14,590 True\n",
      "./fabianocaruana 4,605 False\n",
      "./firouzja2003 35,060 True\n",
      "./ghandeevam2003 35,469 True\n",
      "./gmwso 9,557 False\n",
      "./grischuk 4,458 False\n",
      "./gukeshdommaraju 5,642 False\n",
      "./hikaru 57,752 True\n",
      "./lachesisq 7,177 False\n",
      "./levonaronian 1,058 False\n",
      "./liemle 2,851 False\n",
      "./lyonbeast 5,372 False\n",
      "./magnuscarlsen 5,217 False\n",
      "./penguingm1 42,862 True\n",
      "./polish_fighter3000 12,165 True\n",
      "./rpragchess 8,604 False\n",
      "./sergeykarjakin 489 False\n",
      "./thevish 66 False\n",
      "./tradjabov 1,343 False\n",
      "./veselintopalov359 25 False\n",
      "./viditchess 3,631 False\n",
      "./vincentkeymer 10,992 True\n",
      "./vladimirkramnik 2,113 False\n",
      "./wonderfultime 59,423 True\n"
     ]
    }
   ],
   "source": [
    "import json\n",
    "import os\n",
    "from tqdm.notebook import tqdm\n",
    "\n",
    "\n",
    "folders = [f.path for f in os.scandir(\".\") if f.is_dir()]\n",
    "folders.sort()\n",
    "\n",
    "for folder in tqdm(folders):\n",
    "    files = [f.path for f in os.scandir(f\"{folder}/json\") if f.is_file()]\n",
    "    all = list()\n",
    "    for file in files:\n",
    "        if \"all\" in file:\n",
    "            continue\n",
    "        in_file = open(file, \"r\")\n",
    "        all.extend(json.load(in_file))\n",
    "        in_file.close()\n",
    "    all_json = open(f\"{folder}/json/all.json\", \"w\")\n",
    "    all_json.write(json.dumps(all, indent=4))\n",
    "    all_json.close()\n",
    "    print(folder, \"{:,}\".format(len(all)), len(all) > 10000)"
   ]
  }
 ],
 "metadata": {
  "kernelspec": {
   "display_name": "Python 3",
   "language": "python",
   "name": "python3"
  },
  "language_info": {
   "codemirror_mode": {
    "name": "ipython",
    "version": 3
   },
   "file_extension": ".py",
   "mimetype": "text/x-python",
   "name": "python",
   "nbconvert_exporter": "python",
   "pygments_lexer": "ipython3",
   "version": "3.12.4"
  }
 },
 "nbformat": 4,
 "nbformat_minor": 2
}
