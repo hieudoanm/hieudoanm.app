{
 "cells": [
  {
   "cell_type": "code",
   "execution_count": 2,
   "metadata": {},
   "outputs": [
    {
     "name": "stdout",
     "output_type": "stream",
     "text": [
      "https://api.chess.com/pub/titled/GM 200 1575\n",
      "https://api.chess.com/pub/titled/IM 200 2189\n",
      "https://api.chess.com/pub/titled/FM 200 3680\n",
      "https://api.chess.com/pub/titled/CM 200 1597\n",
      "https://api.chess.com/pub/titled/NM 200 1925\n",
      "https://api.chess.com/pub/titled/WGM 200 230\n",
      "https://api.chess.com/pub/titled/WIM 200 399\n",
      "https://api.chess.com/pub/titled/WFM 200 691\n",
      "https://api.chess.com/pub/titled/WCM 200 396\n",
      "https://api.chess.com/pub/titled/WNM 200 17\n",
      "12699\n"
     ]
    }
   ],
   "source": [
    "import pandas\n",
    "import requests\n",
    "\n",
    "user_agent = \"ArithmeticErrorMozilla/5.0 (Macintosh; Intel Mac OS X 10.15; rv:127.0) Gecko/20100101 Firefox/127.0\"\n",
    "titled_players: list[dict] = []\n",
    "for title in [\"GM\", \"IM\", \"FM\", \"CM\", \"NM\", \"WGM\", \"WIM\", \"WFM\", \"WCM\", \"WNM\"]:\n",
    "    url = f\"https://api.chess.com/pub/titled/{title}\"\n",
    "    response = requests.get(url, headers={\"User-Agent\": user_agent})\n",
    "    data: dict = response.json()\n",
    "    usernames: list[str] = data.get(\"players\", [])\n",
    "    print(url, response.status_code, len(usernames))\n",
    "    players: list[dict] = list(map(lambda username: {\"username\": username, \"title\": title}, usernames))\n",
    "    titled_players = titled_players + players\n",
    "print(len(titled_players))\n",
    "\n",
    "titled_players_df = pandas.DataFrame(titled_players)\n",
    "titled_players_df = titled_players_df.sort_values(by=[\"username\"])\n",
    "titled_players_df.to_csv(\"titled.csv\", index=False)"
   ]
  }
 ],
 "metadata": {
  "kernelspec": {
   "display_name": "Python 3",
   "language": "python",
   "name": "python3"
  },
  "language_info": {
   "codemirror_mode": {
    "name": "ipython",
    "version": 3
   },
   "file_extension": ".py",
   "mimetype": "text/x-python",
   "name": "python",
   "nbconvert_exporter": "python",
   "pygments_lexer": "ipython3",
   "version": "3.12.4"
  }
 },
 "nbformat": 4,
 "nbformat_minor": 2
}
