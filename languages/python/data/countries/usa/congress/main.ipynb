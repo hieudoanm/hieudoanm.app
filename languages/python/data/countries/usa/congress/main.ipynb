{
 "cells": [
  {
   "cell_type": "code",
   "execution_count": 2,
   "metadata": {},
   "outputs": [],
   "source": [
    "import json\n",
    "import pandas\n",
    "\n",
    "congress_df = pandas.read_csv(\"congress.csv\")\n",
    "congress_df = congress_df.fillna(value=\"\")\n",
    "congress = congress_df.to_dict(\"records\")\n",
    "\n",
    "file = open(\"congress.json\", \"w\")\n",
    "json.dump(congress, file, ensure_ascii=False, indent=2)"
   ]
  }
 ],
 "metadata": {
  "kernelspec": {
   "display_name": "Python 3",
   "language": "python",
   "name": "python3"
  },
  "language_info": {
   "codemirror_mode": {
    "name": "ipython",
    "version": 3
   },
   "file_extension": ".py",
   "mimetype": "text/x-python",
   "name": "python",
   "nbconvert_exporter": "python",
   "pygments_lexer": "ipython3",
   "version": "3.12.3"
  }
 },
 "nbformat": 4,
 "nbformat_minor": 2
}
