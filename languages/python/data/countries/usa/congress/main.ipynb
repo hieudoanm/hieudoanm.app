{
 "cells": [
  {
   "cell_type": "code",
   "execution_count": 148,
   "metadata": {},
   "outputs": [],
   "source": [
    "import json\n",
    "import pandas\n",
    "import numpy\n",
    "\n",
    "congress_df = pandas.read_csv(\"congress.csv\")\n",
    "congress_df[\"bifecta_congress\"] = numpy.where(congress_df[\"house_party\"] == congress_df[\"senate_party\"], congress_df[\"house_party\"], \"\")\n",
    "congress_df[\"bifecta_house\"] = numpy.where(congress_df[\"house_party\"] == congress_df[\"president_party\"], congress_df[\"house_party\"], \"\")\n",
    "congress_df[\"bifecta_senate\"] = numpy.where(congress_df[\"senate_party\"] == congress_df[\"president_party\"], congress_df[\"senate_party\"], \"\")\n",
    "congress_df = congress_df.fillna(value=\"\")\n",
    "congress_df.to_csv(\"congress.csv\", index=False)"
   ]
  },
  {
   "cell_type": "code",
   "execution_count": 149,
   "metadata": {},
   "outputs": [],
   "source": [
    "congress = congress_df.to_dict(\"records\")\n",
    "file = open(\"congress.json\", \"w\")\n",
    "json.dump(congress, file, ensure_ascii=False, indent=2)"
   ]
  },
  {
   "cell_type": "code",
   "execution_count": 150,
   "metadata": {},
   "outputs": [
    {
     "data": {
      "text/plain": [
       "president                               president_gender  president_party      \n",
       "Franklin D. Roosevelt                   male              Democrat                 6\n",
       "Ronald Reagan                           male              Republican               4\n",
       "Dwight Eisenhower                       male              Republican               4\n",
       "James Monroe                            male              Democratic-Republican    4\n",
       "James Madison                           male              Democratic-Republican    4\n",
       "Grover Cleveland                        male              Democrat                 4\n",
       "George Washington                       male              Federalist               4\n",
       "George W. Bush                          male              Republican               4\n",
       "Andrew Jackson                          male              Jacksonian               4\n",
       "Thomas Jefferson                        male              Democratic-Republican    4\n",
       "Woodrow Wilson                          male              Democrat                 4\n",
       "Barack Obama                            male              Democrat                 4\n",
       "Bill Clinton                            male              Democrat                 4\n",
       "Ulysses Grant                           male              Republican               4\n",
       "Theodore Roosevelt                      male              Republican               3\n",
       "Harry S Truman                          male              Democrat                 3\n",
       "Lyndon Johnson                          male              Democrat                 2\n",
       "John Adams                              male              Federalist               2\n",
       "John Quincy Adams                       male              Democratic-Republican    2\n",
       "William Taft                            male              Republican               2\n",
       "Martin Van Buren                        male              Democrat                 2\n",
       "Richard Nixon                           male              Republican               2\n",
       "William McKinley                        male              Republican               2\n",
       "Joe Biden                               male              Democrat                 2\n",
       "Rutherford Hayes                        male              Republican               2\n",
       "Abraham Lincoln                         male              Republican               2\n",
       "Jimmy Carter                            male              Democrat                 2\n",
       "James Polk                              male              Democrat                 2\n",
       "George H. W. Bush                       male              Republican               2\n",
       "Andrew Johnson                          male              Democrat                 2\n",
       "Benjamin Harrison                       male              Republican               2\n",
       "Calvin Coolidge                         male              Republican               2\n",
       "Donald Trump                            male              Republican               2\n",
       "Franklin Pierce                         male              Democrat                 2\n",
       "Herbert Hoover                          male              Republican               2\n",
       "James Buchanan                          male              Democrat                 2\n",
       "Millard Fillmore                        male              Whig                     1\n",
       "Gerald Ford                             male              Republican               1\n",
       "Richard Nixon / Gerald Ford             male              Republican               1\n",
       "John Kennedy                            male              Democrat                 1\n",
       "Franklin D. Roosevelt / Harry S Truman  male              Democrat                 1\n",
       "Chester Arthur                          male              Republican               1\n",
       "Warren Harding                          male              Republican               1\n",
       "Warren Harding / Calvin Coolidge        male              Republican               1\n",
       "William Harrison / John Tyler           male              Whig                     1\n",
       "John Tyler                              male              Whig                     1\n",
       "William McKinley / Theodore Roosevelt   male              Republican               1\n",
       "James Garfield / Chester Arthur         male              Republican               1\n",
       "John Kennedy / Lyndon Johnson           male              Democrat                 1\n",
       "Zachary Taylor / Millard Fillmore       male              Whig                     1\n",
       "Name: count, dtype: int64"
      ]
     },
     "execution_count": 150,
     "metadata": {},
     "output_type": "execute_result"
    }
   ],
   "source": [
    "presidents = congress_df[[\"president\", \"president_gender\", \"president_party\"]].value_counts()\n",
    "presidents"
   ]
  }
 ],
 "metadata": {
  "kernelspec": {
   "display_name": "Python 3",
   "language": "python",
   "name": "python3"
  },
  "language_info": {
   "codemirror_mode": {
    "name": "ipython",
    "version": 3
   },
   "file_extension": ".py",
   "mimetype": "text/x-python",
   "name": "python",
   "nbconvert_exporter": "python",
   "pygments_lexer": "ipython3",
   "version": "3.12.2"
  }
 },
 "nbformat": 4,
 "nbformat_minor": 2
}
