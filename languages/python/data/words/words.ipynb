{
 "cells": [
  {
   "cell_type": "code",
   "execution_count": 1,
   "metadata": {},
   "outputs": [
    {
     "data": {
      "text/plain": [
       "325331"
      ]
     },
     "execution_count": 1,
     "metadata": {},
     "output_type": "execute_result"
    }
   ],
   "source": [
    "import requests\n",
    "\n",
    "when = \"2024-06-03T05:47:08.760Z\"\n",
    "encrypted = \"8cfdb18ee722959bea9207bfea58babeaeb0250937f997b8\"\n",
    "url = f\"https://www.wordsapi.com/mashape/words?when={when}&encrypted={encrypted}&limit=1000000\"\n",
    "response = requests.get(url)\n",
    "data: dict = response.json()\n",
    "words = data.get(\"results\", {}).get(\"data\", [])\n",
    "words_str: str = \"\\n\".join(words)\n",
    "words_txt = open(\"./words.txt\", \"w+\")\n",
    "words_txt.write(words_str)\n",
    "len(words)"
   ]
  }
 ],
 "metadata": {
  "kernelspec": {
   "display_name": "Python 3",
   "language": "python",
   "name": "python3"
  },
  "language_info": {
   "codemirror_mode": {
    "name": "ipython",
    "version": 3
   },
   "file_extension": ".py",
   "mimetype": "text/x-python",
   "name": "python",
   "nbconvert_exporter": "python",
   "pygments_lexer": "ipython3",
   "version": "3.12.4"
  }
 },
 "nbformat": 4,
 "nbformat_minor": 2
}
